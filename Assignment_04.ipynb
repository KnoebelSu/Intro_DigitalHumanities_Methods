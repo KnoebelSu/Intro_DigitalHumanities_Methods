{
 "cells": [
  {
   "cell_type": "markdown",
   "metadata": {},
   "source": [
    "# Assignment_04_Digital Humanities_Sentiment_Analysis\n"
   ]
  },
  {
   "cell_type": "markdown",
   "metadata": {},
   "source": [
    "## In this assignment I plan on analyzing comments from the New York Times newspaper. More Specifically I will compare the emotional sentiment of the comments from april.2017 with april2018. \n",
    "## To start I will first conduct a topic modeling analysis in order to see what the most pressing topics are and then the sentiment analysis using the ANEW Dictionary. I also wanted to use the LIWC dictionary but the purchase of this dictionary is not for free. \n",
    "\n",
    "\n",
    "## I hypothesize that compared to 2017, the comments in 2018 will be more polarized. I base this analysis on findings from psychological theories such as the Affective Intelligence Theory by Marcus et al. (2002). "
   ]
  },
  {
   "cell_type": "markdown",
   "metadata": {},
   "source": [
    "## First some examples to get started"
   ]
  },
  {
   "cell_type": "code",
   "execution_count": 1,
   "metadata": {},
   "outputs": [],
   "source": [
    "# I first need to load packages which will be used later\n",
    "from textblob import TextBlob\n",
    "import pandas as pd\n",
    "import numpy as np\n",
    "import pathlib"
   ]
  },
  {
   "cell_type": "code",
   "execution_count": 2,
   "metadata": {},
   "outputs": [],
   "source": [
    "import matplotlib.pyplot as plt"
   ]
  },
  {
   "cell_type": "code",
   "execution_count": 3,
   "metadata": {},
   "outputs": [],
   "source": [
    "import string\n",
    "import nltk\n",
    "from nltk.corpus import stopwords\n",
    "import re"
   ]
  },
  {
   "cell_type": "code",
   "execution_count": 4,
   "metadata": {},
   "outputs": [],
   "source": [
    "from nltk.stem.snowball import SnowballStemmer\n",
    "from nltk.corpus import stopwords \n",
    "import string"
   ]
  },
  {
   "cell_type": "markdown",
   "metadata": {},
   "source": [
    "#### As there are thousands of comments and I don’t have time to read through them all and would like to get the gist of the main discussion points.\n",
    "#### I will be using the Topic modelling algorithm Latent Dirichlet Allocaiton (LDA) in order to get the main frames."
   ]
  },
  {
   "cell_type": "markdown",
   "metadata": {},
   "source": [
    "#### First I will have to load the data and get some insights about the datasets. Before comparing both datasets I will start with looking at only the first (april.2017). "
   ]
  },
  {
   "cell_type": "code",
   "execution_count": 5,
   "metadata": {},
   "outputs": [
    {
     "name": "stderr",
     "output_type": "stream",
     "text": [
      "C:\\Users\\Surya\\Anaconda3\\lib\\site-packages\\IPython\\core\\interactiveshell.py:3058: DtypeWarning: Columns (25,26) have mixed types. Specify dtype option on import or set low_memory=False.\n",
      "  interactivity=interactivity, compiler=compiler, result=result)\n"
     ]
    },
    {
     "data": {
      "text/html": [
       "<div>\n",
       "<style scoped>\n",
       "    .dataframe tbody tr th:only-of-type {\n",
       "        vertical-align: middle;\n",
       "    }\n",
       "\n",
       "    .dataframe tbody tr th {\n",
       "        vertical-align: top;\n",
       "    }\n",
       "\n",
       "    .dataframe thead th {\n",
       "        text-align: right;\n",
       "    }\n",
       "</style>\n",
       "<table border=\"1\" class=\"dataframe\">\n",
       "  <thead>\n",
       "    <tr style=\"text-align: right;\">\n",
       "      <th></th>\n",
       "      <th>approveDate</th>\n",
       "      <th>commentBody</th>\n",
       "      <th>commentID</th>\n",
       "      <th>commentSequence</th>\n",
       "      <th>commentTitle</th>\n",
       "      <th>commentType</th>\n",
       "      <th>createDate</th>\n",
       "      <th>depth</th>\n",
       "      <th>editorsSelection</th>\n",
       "      <th>parentID</th>\n",
       "      <th>...</th>\n",
       "      <th>userLocation</th>\n",
       "      <th>userTitle</th>\n",
       "      <th>userURL</th>\n",
       "      <th>inReplyTo</th>\n",
       "      <th>articleID</th>\n",
       "      <th>sectionName</th>\n",
       "      <th>newDesk</th>\n",
       "      <th>articleWordCount</th>\n",
       "      <th>printPage</th>\n",
       "      <th>typeOfMaterial</th>\n",
       "    </tr>\n",
       "  </thead>\n",
       "  <tbody>\n",
       "    <tr>\n",
       "      <td>0</td>\n",
       "      <td>1491245186</td>\n",
       "      <td>This project makes me happy to be a 30+ year T...</td>\n",
       "      <td>22022598.0</td>\n",
       "      <td>22022598</td>\n",
       "      <td>&lt;br/&gt;</td>\n",
       "      <td>comment</td>\n",
       "      <td>1.491237e+09</td>\n",
       "      <td>1</td>\n",
       "      <td>False</td>\n",
       "      <td>0.0</td>\n",
       "      <td>...</td>\n",
       "      <td>Riverside, CA</td>\n",
       "      <td>NaN</td>\n",
       "      <td>NaN</td>\n",
       "      <td>0</td>\n",
       "      <td>58def1347c459f24986d7c80</td>\n",
       "      <td>Unknown</td>\n",
       "      <td>Insider</td>\n",
       "      <td>716.0</td>\n",
       "      <td>2</td>\n",
       "      <td>News</td>\n",
       "    </tr>\n",
       "    <tr>\n",
       "      <td>1</td>\n",
       "      <td>1491188619</td>\n",
       "      <td>Stunning photos and reportage. Infuriating tha...</td>\n",
       "      <td>22017350.0</td>\n",
       "      <td>22017350</td>\n",
       "      <td>NaN</td>\n",
       "      <td>comment</td>\n",
       "      <td>1.491180e+09</td>\n",
       "      <td>1</td>\n",
       "      <td>False</td>\n",
       "      <td>0.0</td>\n",
       "      <td>...</td>\n",
       "      <td>&lt;br/&gt;</td>\n",
       "      <td>NaN</td>\n",
       "      <td>NaN</td>\n",
       "      <td>0</td>\n",
       "      <td>58def1347c459f24986d7c80</td>\n",
       "      <td>Unknown</td>\n",
       "      <td>Insider</td>\n",
       "      <td>716.0</td>\n",
       "      <td>2</td>\n",
       "      <td>News</td>\n",
       "    </tr>\n",
       "    <tr>\n",
       "      <td>2</td>\n",
       "      <td>1491188617</td>\n",
       "      <td>Brilliant work from conception to execution. I...</td>\n",
       "      <td>22017334.0</td>\n",
       "      <td>22017334</td>\n",
       "      <td>&lt;br/&gt;</td>\n",
       "      <td>comment</td>\n",
       "      <td>1.491179e+09</td>\n",
       "      <td>1</td>\n",
       "      <td>False</td>\n",
       "      <td>0.0</td>\n",
       "      <td>...</td>\n",
       "      <td>Raleigh NC</td>\n",
       "      <td>NaN</td>\n",
       "      <td>NaN</td>\n",
       "      <td>0</td>\n",
       "      <td>58def1347c459f24986d7c80</td>\n",
       "      <td>Unknown</td>\n",
       "      <td>Insider</td>\n",
       "      <td>716.0</td>\n",
       "      <td>2</td>\n",
       "      <td>News</td>\n",
       "    </tr>\n",
       "    <tr>\n",
       "      <td>3</td>\n",
       "      <td>1491167820</td>\n",
       "      <td>NYT reporters should provide a contributor's l...</td>\n",
       "      <td>22015913.0</td>\n",
       "      <td>22015913</td>\n",
       "      <td>&lt;br/&gt;</td>\n",
       "      <td>comment</td>\n",
       "      <td>1.491150e+09</td>\n",
       "      <td>1</td>\n",
       "      <td>False</td>\n",
       "      <td>0.0</td>\n",
       "      <td>...</td>\n",
       "      <td>Missouri, USA</td>\n",
       "      <td>NaN</td>\n",
       "      <td>NaN</td>\n",
       "      <td>0</td>\n",
       "      <td>58def1347c459f24986d7c80</td>\n",
       "      <td>Unknown</td>\n",
       "      <td>Insider</td>\n",
       "      <td>716.0</td>\n",
       "      <td>2</td>\n",
       "      <td>News</td>\n",
       "    </tr>\n",
       "    <tr>\n",
       "      <td>4</td>\n",
       "      <td>1491167815</td>\n",
       "      <td>Could only have been done in print. Stunning.</td>\n",
       "      <td>22015466.0</td>\n",
       "      <td>22015466</td>\n",
       "      <td>&lt;br/&gt;</td>\n",
       "      <td>comment</td>\n",
       "      <td>1.491147e+09</td>\n",
       "      <td>1</td>\n",
       "      <td>False</td>\n",
       "      <td>0.0</td>\n",
       "      <td>...</td>\n",
       "      <td>Tucson, Arizona</td>\n",
       "      <td>NaN</td>\n",
       "      <td>NaN</td>\n",
       "      <td>0</td>\n",
       "      <td>58def1347c459f24986d7c80</td>\n",
       "      <td>Unknown</td>\n",
       "      <td>Insider</td>\n",
       "      <td>716.0</td>\n",
       "      <td>2</td>\n",
       "      <td>News</td>\n",
       "    </tr>\n",
       "  </tbody>\n",
       "</table>\n",
       "<p>5 rows × 34 columns</p>\n",
       "</div>"
      ],
      "text/plain": [
       "   approveDate                                        commentBody   commentID  \\\n",
       "0   1491245186  This project makes me happy to be a 30+ year T...  22022598.0   \n",
       "1   1491188619  Stunning photos and reportage. Infuriating tha...  22017350.0   \n",
       "2   1491188617  Brilliant work from conception to execution. I...  22017334.0   \n",
       "3   1491167820  NYT reporters should provide a contributor's l...  22015913.0   \n",
       "4   1491167815     Could only have been done in print. Stunning.   22015466.0   \n",
       "\n",
       "   commentSequence commentTitle commentType    createDate  depth  \\\n",
       "0         22022598        <br/>     comment  1.491237e+09      1   \n",
       "1         22017350          NaN     comment  1.491180e+09      1   \n",
       "2         22017334        <br/>     comment  1.491179e+09      1   \n",
       "3         22015913        <br/>     comment  1.491150e+09      1   \n",
       "4         22015466        <br/>     comment  1.491147e+09      1   \n",
       "\n",
       "   editorsSelection  parentID  ...     userLocation userTitle userURL  \\\n",
       "0             False       0.0  ...    Riverside, CA       NaN     NaN   \n",
       "1             False       0.0  ...            <br/>       NaN     NaN   \n",
       "2             False       0.0  ...       Raleigh NC       NaN     NaN   \n",
       "3             False       0.0  ...    Missouri, USA       NaN     NaN   \n",
       "4             False       0.0  ...  Tucson, Arizona       NaN     NaN   \n",
       "\n",
       "   inReplyTo                 articleID  sectionName  newDesk  \\\n",
       "0          0  58def1347c459f24986d7c80      Unknown  Insider   \n",
       "1          0  58def1347c459f24986d7c80      Unknown  Insider   \n",
       "2          0  58def1347c459f24986d7c80      Unknown  Insider   \n",
       "3          0  58def1347c459f24986d7c80      Unknown  Insider   \n",
       "4          0  58def1347c459f24986d7c80      Unknown  Insider   \n",
       "\n",
       "   articleWordCount printPage  typeOfMaterial  \n",
       "0             716.0         2            News  \n",
       "1             716.0         2            News  \n",
       "2             716.0         2            News  \n",
       "3             716.0         2            News  \n",
       "4             716.0         2            News  \n",
       "\n",
       "[5 rows x 34 columns]"
      ]
     },
     "execution_count": 5,
     "metadata": {},
     "output_type": "execute_result"
    }
   ],
   "source": [
    "# load the csv file into a Pandas Dataframe called comments_2017\n",
    "comments_2017 = pd.read_csv(r'C:\\Users\\Surya\\Desktop\\Cognitive Science\\Semester 4_Master\\Master_CogSci\\analysis\\SentimentAnalysis-master_dwzhou\\SentimentAnalysis-master\\data_newYork_times\\CommentsApril2017\\CommentsApril2017.csv')\n",
    "comments_both = pd.read_csv(r'C:\\Users\\Surya\\Desktop\\Cognitive Science\\Semester 4_Master\\Master_CogSci\\analysis\\SentimentAnalysis-master_dwzhou\\SentimentAnalysis-master\\data_newYork_times\\CommentsApril2017\\CommentsApril2017.csv')\n",
    "comments_2017.head(5)\n"
   ]
  },
  {
   "cell_type": "code",
   "execution_count": 6,
   "metadata": {},
   "outputs": [
    {
     "name": "stderr",
     "output_type": "stream",
     "text": [
      "C:\\Users\\Surya\\Anaconda3\\lib\\site-packages\\IPython\\core\\interactiveshell.py:3058: DtypeWarning: Columns (32) have mixed types. Specify dtype option on import or set low_memory=False.\n",
      "  interactivity=interactivity, compiler=compiler, result=result)\n"
     ]
    },
    {
     "data": {
      "text/html": [
       "<div>\n",
       "<style scoped>\n",
       "    .dataframe tbody tr th:only-of-type {\n",
       "        vertical-align: middle;\n",
       "    }\n",
       "\n",
       "    .dataframe tbody tr th {\n",
       "        vertical-align: top;\n",
       "    }\n",
       "\n",
       "    .dataframe thead th {\n",
       "        text-align: right;\n",
       "    }\n",
       "</style>\n",
       "<table border=\"1\" class=\"dataframe\">\n",
       "  <thead>\n",
       "    <tr style=\"text-align: right;\">\n",
       "      <th></th>\n",
       "      <th>approveDate</th>\n",
       "      <th>articleID</th>\n",
       "      <th>articleWordCount</th>\n",
       "      <th>commentBody</th>\n",
       "      <th>commentID</th>\n",
       "      <th>commentSequence</th>\n",
       "      <th>commentTitle</th>\n",
       "      <th>commentType</th>\n",
       "      <th>createDate</th>\n",
       "      <th>depth</th>\n",
       "      <th>...</th>\n",
       "      <th>status</th>\n",
       "      <th>timespeople</th>\n",
       "      <th>trusted</th>\n",
       "      <th>typeOfMaterial</th>\n",
       "      <th>updateDate</th>\n",
       "      <th>userDisplayName</th>\n",
       "      <th>userID</th>\n",
       "      <th>userLocation</th>\n",
       "      <th>userTitle</th>\n",
       "      <th>userURL</th>\n",
       "    </tr>\n",
       "  </thead>\n",
       "  <tbody>\n",
       "    <tr>\n",
       "      <td>0</td>\n",
       "      <td>1524594282</td>\n",
       "      <td>5adf6684068401528a2aa69b</td>\n",
       "      <td>781.0</td>\n",
       "      <td>How could the league possibly refuse this offe...</td>\n",
       "      <td>26853969.0</td>\n",
       "      <td>26853969.0</td>\n",
       "      <td>&lt;br/&gt;</td>\n",
       "      <td>comment</td>\n",
       "      <td>1524594011</td>\n",
       "      <td>1.0</td>\n",
       "      <td>...</td>\n",
       "      <td>approved</td>\n",
       "      <td>1</td>\n",
       "      <td>0</td>\n",
       "      <td>News</td>\n",
       "      <td>1524594282</td>\n",
       "      <td>Christopher Rillo</td>\n",
       "      <td>46566740.0</td>\n",
       "      <td>San Francisco</td>\n",
       "      <td>NaN</td>\n",
       "      <td>NaN</td>\n",
       "    </tr>\n",
       "    <tr>\n",
       "      <td>1</td>\n",
       "      <td>1524594252</td>\n",
       "      <td>5adf6684068401528a2aa69b</td>\n",
       "      <td>781.0</td>\n",
       "      <td>So then the execs can be like \"yeah...we will ...</td>\n",
       "      <td>26853699.0</td>\n",
       "      <td>26853699.0</td>\n",
       "      <td>&lt;br/&gt;</td>\n",
       "      <td>comment</td>\n",
       "      <td>1524593146</td>\n",
       "      <td>1.0</td>\n",
       "      <td>...</td>\n",
       "      <td>approved</td>\n",
       "      <td>1</td>\n",
       "      <td>0</td>\n",
       "      <td>News</td>\n",
       "      <td>1524594252</td>\n",
       "      <td>Matt Brand</td>\n",
       "      <td>64324866.0</td>\n",
       "      <td>Williamsburg, Brooklyn</td>\n",
       "      <td>NaN</td>\n",
       "      <td>NaN</td>\n",
       "    </tr>\n",
       "    <tr>\n",
       "      <td>2</td>\n",
       "      <td>1524594250</td>\n",
       "      <td>5adf6684068401528a2aa69b</td>\n",
       "      <td>781.0</td>\n",
       "      <td>I would not want to play chess against these c...</td>\n",
       "      <td>26853677.0</td>\n",
       "      <td>26853677.0</td>\n",
       "      <td>&lt;br/&gt;</td>\n",
       "      <td>comment</td>\n",
       "      <td>1524593032</td>\n",
       "      <td>1.0</td>\n",
       "      <td>...</td>\n",
       "      <td>approved</td>\n",
       "      <td>1</td>\n",
       "      <td>0</td>\n",
       "      <td>News</td>\n",
       "      <td>1524594250</td>\n",
       "      <td>Joseph</td>\n",
       "      <td>78105093.0</td>\n",
       "      <td>Fayetteville, AR</td>\n",
       "      <td>NaN</td>\n",
       "      <td>NaN</td>\n",
       "    </tr>\n",
       "    <tr>\n",
       "      <td>3</td>\n",
       "      <td>1524593431</td>\n",
       "      <td>5adf6684068401528a2aa69b</td>\n",
       "      <td>781.0</td>\n",
       "      <td>Could the cheerleaders join the Actors' Equity...</td>\n",
       "      <td>26853784.0</td>\n",
       "      <td>26853784.0</td>\n",
       "      <td>&lt;br/&gt;</td>\n",
       "      <td>comment</td>\n",
       "      <td>1524593426</td>\n",
       "      <td>1.0</td>\n",
       "      <td>...</td>\n",
       "      <td>approved</td>\n",
       "      <td>0</td>\n",
       "      <td>0</td>\n",
       "      <td>News</td>\n",
       "      <td>1524593431</td>\n",
       "      <td>Stephen</td>\n",
       "      <td>81939618.0</td>\n",
       "      <td>Phoenix, AZ</td>\n",
       "      <td>NaN</td>\n",
       "      <td>NaN</td>\n",
       "    </tr>\n",
       "    <tr>\n",
       "      <td>4</td>\n",
       "      <td>1524595048</td>\n",
       "      <td>5adf653f068401528a2aa697</td>\n",
       "      <td>656.0</td>\n",
       "      <td>Seeking conclusions which support preconceived...</td>\n",
       "      <td>26854236.0</td>\n",
       "      <td>26854236.0</td>\n",
       "      <td>&lt;br/&gt;</td>\n",
       "      <td>comment</td>\n",
       "      <td>1524595043</td>\n",
       "      <td>1.0</td>\n",
       "      <td>...</td>\n",
       "      <td>approved</td>\n",
       "      <td>1</td>\n",
       "      <td>0</td>\n",
       "      <td>News</td>\n",
       "      <td>1524595048</td>\n",
       "      <td>Paul Zorsky</td>\n",
       "      <td>58642997.0</td>\n",
       "      <td>Texas</td>\n",
       "      <td>NaN</td>\n",
       "      <td>NaN</td>\n",
       "    </tr>\n",
       "  </tbody>\n",
       "</table>\n",
       "<p>5 rows × 34 columns</p>\n",
       "</div>"
      ],
      "text/plain": [
       "   approveDate                 articleID  articleWordCount  \\\n",
       "0   1524594282  5adf6684068401528a2aa69b             781.0   \n",
       "1   1524594252  5adf6684068401528a2aa69b             781.0   \n",
       "2   1524594250  5adf6684068401528a2aa69b             781.0   \n",
       "3   1524593431  5adf6684068401528a2aa69b             781.0   \n",
       "4   1524595048  5adf653f068401528a2aa697             656.0   \n",
       "\n",
       "                                         commentBody   commentID  \\\n",
       "0  How could the league possibly refuse this offe...  26853969.0   \n",
       "1  So then the execs can be like \"yeah...we will ...  26853699.0   \n",
       "2  I would not want to play chess against these c...  26853677.0   \n",
       "3  Could the cheerleaders join the Actors' Equity...  26853784.0   \n",
       "4  Seeking conclusions which support preconceived...  26854236.0   \n",
       "\n",
       "   commentSequence commentTitle commentType  createDate  depth  ...    status  \\\n",
       "0       26853969.0        <br/>     comment  1524594011    1.0  ...  approved   \n",
       "1       26853699.0        <br/>     comment  1524593146    1.0  ...  approved   \n",
       "2       26853677.0        <br/>     comment  1524593032    1.0  ...  approved   \n",
       "3       26853784.0        <br/>     comment  1524593426    1.0  ...  approved   \n",
       "4       26854236.0        <br/>     comment  1524595043    1.0  ...  approved   \n",
       "\n",
       "   timespeople trusted  typeOfMaterial  updateDate    userDisplayName  \\\n",
       "0            1       0            News  1524594282  Christopher Rillo   \n",
       "1            1       0            News  1524594252         Matt Brand   \n",
       "2            1       0            News  1524594250             Joseph   \n",
       "3            0       0            News  1524593431            Stephen   \n",
       "4            1       0            News  1524595048        Paul Zorsky   \n",
       "\n",
       "       userID            userLocation  userTitle  userURL  \n",
       "0  46566740.0           San Francisco        NaN      NaN  \n",
       "1  64324866.0  Williamsburg, Brooklyn        NaN      NaN  \n",
       "2  78105093.0        Fayetteville, AR        NaN      NaN  \n",
       "3  81939618.0             Phoenix, AZ        NaN      NaN  \n",
       "4  58642997.0                   Texas        NaN      NaN  \n",
       "\n",
       "[5 rows x 34 columns]"
      ]
     },
     "execution_count": 6,
     "metadata": {},
     "output_type": "execute_result"
    }
   ],
   "source": [
    "# get the comments from 2018\n",
    "comments_2018 = pd.read_csv(r'C:\\Users\\Surya\\Desktop\\Cognitive Science\\Semester 4_Master\\Master_CogSci\\analysis\\SentimentAnalysis-master_dwzhou\\SentimentAnalysis-master\\data_newYork_times\\CommentsApril2018\\CommentsApril2018.csv')\n",
    "\n",
    "comments_2018.head(5)"
   ]
  },
  {
   "cell_type": "code",
   "execution_count": 7,
   "metadata": {},
   "outputs": [
    {
     "data": {
      "text/html": [
       "<div>\n",
       "<style scoped>\n",
       "    .dataframe tbody tr th:only-of-type {\n",
       "        vertical-align: middle;\n",
       "    }\n",
       "\n",
       "    .dataframe tbody tr th {\n",
       "        vertical-align: top;\n",
       "    }\n",
       "\n",
       "    .dataframe thead th {\n",
       "        text-align: right;\n",
       "    }\n",
       "</style>\n",
       "<table border=\"1\" class=\"dataframe\">\n",
       "  <thead>\n",
       "    <tr style=\"text-align: right;\">\n",
       "      <th></th>\n",
       "      <th>approveDate</th>\n",
       "      <th>commentBody</th>\n",
       "      <th>commentID</th>\n",
       "      <th>commentSequence</th>\n",
       "      <th>commentTitle</th>\n",
       "      <th>commentType</th>\n",
       "      <th>createDate</th>\n",
       "      <th>depth</th>\n",
       "      <th>editorsSelection</th>\n",
       "      <th>parentID</th>\n",
       "      <th>...</th>\n",
       "      <th>userTitle</th>\n",
       "      <th>userURL</th>\n",
       "      <th>inReplyTo</th>\n",
       "      <th>articleID</th>\n",
       "      <th>sectionName</th>\n",
       "      <th>newDesk</th>\n",
       "      <th>articleWordCount</th>\n",
       "      <th>printPage</th>\n",
       "      <th>typeOfMaterial</th>\n",
       "      <th>commentBody_2018</th>\n",
       "    </tr>\n",
       "  </thead>\n",
       "  <tbody>\n",
       "    <tr>\n",
       "      <td>0</td>\n",
       "      <td>1491245186</td>\n",
       "      <td>This project makes me happy to be a 30+ year T...</td>\n",
       "      <td>22022598.0</td>\n",
       "      <td>22022598</td>\n",
       "      <td>&lt;br/&gt;</td>\n",
       "      <td>comment</td>\n",
       "      <td>1.491237e+09</td>\n",
       "      <td>1</td>\n",
       "      <td>False</td>\n",
       "      <td>0.0</td>\n",
       "      <td>...</td>\n",
       "      <td>NaN</td>\n",
       "      <td>NaN</td>\n",
       "      <td>0</td>\n",
       "      <td>58def1347c459f24986d7c80</td>\n",
       "      <td>Unknown</td>\n",
       "      <td>Insider</td>\n",
       "      <td>716.0</td>\n",
       "      <td>2</td>\n",
       "      <td>News</td>\n",
       "      <td>How could the league possibly refuse this offe...</td>\n",
       "    </tr>\n",
       "    <tr>\n",
       "      <td>1</td>\n",
       "      <td>1491188619</td>\n",
       "      <td>Stunning photos and reportage. Infuriating tha...</td>\n",
       "      <td>22017350.0</td>\n",
       "      <td>22017350</td>\n",
       "      <td>NaN</td>\n",
       "      <td>comment</td>\n",
       "      <td>1.491180e+09</td>\n",
       "      <td>1</td>\n",
       "      <td>False</td>\n",
       "      <td>0.0</td>\n",
       "      <td>...</td>\n",
       "      <td>NaN</td>\n",
       "      <td>NaN</td>\n",
       "      <td>0</td>\n",
       "      <td>58def1347c459f24986d7c80</td>\n",
       "      <td>Unknown</td>\n",
       "      <td>Insider</td>\n",
       "      <td>716.0</td>\n",
       "      <td>2</td>\n",
       "      <td>News</td>\n",
       "      <td>So then the execs can be like \"yeah...we will ...</td>\n",
       "    </tr>\n",
       "    <tr>\n",
       "      <td>2</td>\n",
       "      <td>1491188617</td>\n",
       "      <td>Brilliant work from conception to execution. I...</td>\n",
       "      <td>22017334.0</td>\n",
       "      <td>22017334</td>\n",
       "      <td>&lt;br/&gt;</td>\n",
       "      <td>comment</td>\n",
       "      <td>1.491179e+09</td>\n",
       "      <td>1</td>\n",
       "      <td>False</td>\n",
       "      <td>0.0</td>\n",
       "      <td>...</td>\n",
       "      <td>NaN</td>\n",
       "      <td>NaN</td>\n",
       "      <td>0</td>\n",
       "      <td>58def1347c459f24986d7c80</td>\n",
       "      <td>Unknown</td>\n",
       "      <td>Insider</td>\n",
       "      <td>716.0</td>\n",
       "      <td>2</td>\n",
       "      <td>News</td>\n",
       "      <td>I would not want to play chess against these c...</td>\n",
       "    </tr>\n",
       "    <tr>\n",
       "      <td>3</td>\n",
       "      <td>1491167820</td>\n",
       "      <td>NYT reporters should provide a contributor's l...</td>\n",
       "      <td>22015913.0</td>\n",
       "      <td>22015913</td>\n",
       "      <td>&lt;br/&gt;</td>\n",
       "      <td>comment</td>\n",
       "      <td>1.491150e+09</td>\n",
       "      <td>1</td>\n",
       "      <td>False</td>\n",
       "      <td>0.0</td>\n",
       "      <td>...</td>\n",
       "      <td>NaN</td>\n",
       "      <td>NaN</td>\n",
       "      <td>0</td>\n",
       "      <td>58def1347c459f24986d7c80</td>\n",
       "      <td>Unknown</td>\n",
       "      <td>Insider</td>\n",
       "      <td>716.0</td>\n",
       "      <td>2</td>\n",
       "      <td>News</td>\n",
       "      <td>Could the cheerleaders join the Actors' Equity...</td>\n",
       "    </tr>\n",
       "    <tr>\n",
       "      <td>4</td>\n",
       "      <td>1491167815</td>\n",
       "      <td>Could only have been done in print. Stunning.</td>\n",
       "      <td>22015466.0</td>\n",
       "      <td>22015466</td>\n",
       "      <td>&lt;br/&gt;</td>\n",
       "      <td>comment</td>\n",
       "      <td>1.491147e+09</td>\n",
       "      <td>1</td>\n",
       "      <td>False</td>\n",
       "      <td>0.0</td>\n",
       "      <td>...</td>\n",
       "      <td>NaN</td>\n",
       "      <td>NaN</td>\n",
       "      <td>0</td>\n",
       "      <td>58def1347c459f24986d7c80</td>\n",
       "      <td>Unknown</td>\n",
       "      <td>Insider</td>\n",
       "      <td>716.0</td>\n",
       "      <td>2</td>\n",
       "      <td>News</td>\n",
       "      <td>Seeking conclusions which support preconceived...</td>\n",
       "    </tr>\n",
       "  </tbody>\n",
       "</table>\n",
       "<p>5 rows × 35 columns</p>\n",
       "</div>"
      ],
      "text/plain": [
       "   approveDate                                        commentBody   commentID  \\\n",
       "0   1491245186  This project makes me happy to be a 30+ year T...  22022598.0   \n",
       "1   1491188619  Stunning photos and reportage. Infuriating tha...  22017350.0   \n",
       "2   1491188617  Brilliant work from conception to execution. I...  22017334.0   \n",
       "3   1491167820  NYT reporters should provide a contributor's l...  22015913.0   \n",
       "4   1491167815     Could only have been done in print. Stunning.   22015466.0   \n",
       "\n",
       "   commentSequence commentTitle commentType    createDate  depth  \\\n",
       "0         22022598        <br/>     comment  1.491237e+09      1   \n",
       "1         22017350          NaN     comment  1.491180e+09      1   \n",
       "2         22017334        <br/>     comment  1.491179e+09      1   \n",
       "3         22015913        <br/>     comment  1.491150e+09      1   \n",
       "4         22015466        <br/>     comment  1.491147e+09      1   \n",
       "\n",
       "   editorsSelection  parentID  ... userTitle userURL inReplyTo  \\\n",
       "0             False       0.0  ...       NaN     NaN         0   \n",
       "1             False       0.0  ...       NaN     NaN         0   \n",
       "2             False       0.0  ...       NaN     NaN         0   \n",
       "3             False       0.0  ...       NaN     NaN         0   \n",
       "4             False       0.0  ...       NaN     NaN         0   \n",
       "\n",
       "                  articleID  sectionName  newDesk  articleWordCount  \\\n",
       "0  58def1347c459f24986d7c80      Unknown  Insider             716.0   \n",
       "1  58def1347c459f24986d7c80      Unknown  Insider             716.0   \n",
       "2  58def1347c459f24986d7c80      Unknown  Insider             716.0   \n",
       "3  58def1347c459f24986d7c80      Unknown  Insider             716.0   \n",
       "4  58def1347c459f24986d7c80      Unknown  Insider             716.0   \n",
       "\n",
       "   printPage typeOfMaterial                                   commentBody_2018  \n",
       "0          2           News  How could the league possibly refuse this offe...  \n",
       "1          2           News  So then the execs can be like \"yeah...we will ...  \n",
       "2          2           News  I would not want to play chess against these c...  \n",
       "3          2           News  Could the cheerleaders join the Actors' Equity...  \n",
       "4          2           News  Seeking conclusions which support preconceived...  \n",
       "\n",
       "[5 rows x 35 columns]"
      ]
     },
     "execution_count": 7,
     "metadata": {},
     "output_type": "execute_result"
    }
   ],
   "source": [
    "# Now the aim is to merge the vital columns. Basically I want to create one dataframe that has the comment body of both dataframe\n",
    "\n",
    "## This is one fast way to just add a specific column to the main dataframe. \n",
    "# df1 = pd.DataFrame({\"Letters\": [\"a\", \"b\", \"c\"]})\n",
    "# df2 = pd.DataFrame({\"Letters\": [\"d\", \"e\", \"f\"], \"Numbers\": [1, 2, 3]})\n",
    "# numbers = df2[\"Numbers\"]\n",
    "# df1 = df1.join(numbers)\n",
    "\n",
    "###  --> or even easier df1['columename']= df2['existing_colume_name']\n",
    "\n",
    "comments_both[\"commentBody_2018\"] = comments_2018[\"commentBody\"]\n",
    "comments_both.head()\n"
   ]
  },
  {
   "cell_type": "code",
   "execution_count": 9,
   "metadata": {},
   "outputs": [
    {
     "name": "stdout",
     "output_type": "stream",
     "text": [
      "0    This project makes me happy to be a 30+ year T...\n",
      "1    Stunning photos and reportage. Infuriating tha...\n",
      "2    Brilliant work from conception to execution. I...\n",
      "3    NYT reporters should provide a contributor's l...\n",
      "4       Could only have been done in print. Stunning. \n",
      "Name: commentBody, dtype: object\n"
     ]
    }
   ],
   "source": [
    "# Print out first 5 values of the comments from 2017 as DataFrame\n",
    "print(comments_2017.iloc[0:5, 1])\n"
   ]
  },
  {
   "cell_type": "markdown",
   "metadata": {},
   "source": [
    "#### take a look at the number of characters present in each comment. This can provide me with a rough idea about the comment length."
   ]
  },
  {
   "cell_type": "code",
   "execution_count": 10,
   "metadata": {},
   "outputs": [
    {
     "data": {
      "text/plain": [
       "<matplotlib.axes._subplots.AxesSubplot at 0x1ec0a20b6c8>"
      ]
     },
     "execution_count": 10,
     "metadata": {},
     "output_type": "execute_result"
    },
    {
     "data": {
      "image/png": "[encoded data removed]",
      "text/plain": [
       "<Figure size 432x288 with 1 Axes>"
      ]
     },
     "metadata": {
      "needs_background": "light"
     },
     "output_type": "display_data"
    }
   ],
   "source": [
    "comments_both[\"commentBody\"].str.len().hist() #also plot the comment length as histogram\n",
    "comments_both[\"commentBody_2018\"].str.len().hist()\n",
    " "
   ]
  },
  {
   "cell_type": "markdown",
   "metadata": {},
   "source": [
    "#### We can see that most comments are very short. There is only a larger amount of used characters starting from 1300. This may be because these are comments that are more deliberate and thought through instead of purely short comments that primarily convey emotional feelings. Lets look at more details, such as most common words or the amount of words per comment. \n",
    " \n",
    "#### There also seems to be a threshold for when a length of a comment increases. Probably when there is truly more to say."
   ]
  },
  {
   "cell_type": "code",
   "execution_count": 11,
   "metadata": {},
   "outputs": [
    {
     "data": {
      "text/plain": [
       "<matplotlib.axes._subplots.AxesSubplot at 0x1ec3ab7a048>"
      ]
     },
     "execution_count": 11,
     "metadata": {},
     "output_type": "execute_result"
    },
    {
     "data": {
      "image/png": "[encoded data removed]",
      "text/plain": [
       "<Figure size 432x288 with 1 Axes>"
      ]
     },
     "metadata": {
      "needs_background": "light"
     },
     "output_type": "display_data"
    }
   ],
   "source": [
    "comments_both[\"commentBody\"].str.split().map(lambda x: len(x)).hist() # plotting number of words appearing in each comment\n",
    "comments_both[\"commentBody_2018\"].str.split().map(lambda x: len(x)).hist()\n",
    "# this does not provide me with more insighs but it becomes visible that most comments in online \n",
    "# forums appear to be rather short. "
   ]
  },
  {
   "cell_type": "markdown",
   "metadata": {},
   "source": [
    "### Create the corpus which might be used later for the sentiment analysis"
   ]
  },
  {
   "cell_type": "code",
   "execution_count": 15,
   "metadata": {},
   "outputs": [],
   "source": [
    "corpus1 =[]\n",
    "comments = comments_both[\"commentBody\"].str.split()\n",
    "comments = comments.values.tolist()\n",
    "corpus1 = [word for i in comments for word in i]"
   ]
  },
  {
   "cell_type": "code",
   "execution_count": 16,
   "metadata": {},
   "outputs": [],
   "source": [
    "# corpus for 2018 comments\n",
    "corpus2 =[]\n",
    "comments = comments_both[\"commentBody_2018\"].str.split()\n",
    "comments = comments.values.tolist()\n",
    "corpus2 = [word for i in comments for word in i]"
   ]
  },
  {
   "cell_type": "code",
   "execution_count": 14,
   "metadata": {},
   "outputs": [
    {
     "name": "stdout",
     "output_type": "stream",
     "text": [
      "['This', 'project', 'makes', 'me', 'happy', 'to', 'be', 'a', '30+', 'year', 'Times', 'subscriber...', 'continue', 'to', 'innovate', 'across', 'all', 'platforms,', 'please.', 'Stunning', 'photos', 'and', 'reportage.', 'Infuriating', 'that', 'the', 'Trump', \"admistration's\", 'draconian', 'reinstatement', 'of', 'the', 'global', 'gag', 'order', 'will', 'prevent', 'men', 'and', 'women', 'from', 'receiving', 'appropriate', 'family', 'planning', 'advice,', 'so', 'obviously', 'desperately', 'needed.', 'Brilliant', 'work', 'from', 'conception', 'to', 'execution.', \"I've\", 'never', 'seen', 'anything', 'like', 'it.', 'As', 'a', 'paper', 'of', 'record', 'it', 'is', 'important', 'to', 'leave', 'a', 'record', 'of', 'these', 'and', 'other', 'peoples', 'for', 'whom', 'no', 'one', 'else', 'speaks.', 'Please', 'keep', 'humanizing', 'what', 'are', 'otherwise', 'bland', 'statistics.', 'It', 'matters.', 'Time', 'and', 'again', 'their', 'stories', 'sounded', 'like', 'mine,', 'could', 'have', 'been', 'mine.', \"We're\", 'about', 'to', 'see', 'hordes', 'of', 'people', 'far', 'away', 'experiencing', 'utter', 'devastation.', 'Empathy', 'goes', 'away', 'unless', 'there', 'are', 'names', 'and', 'stories,', 'and', 'pictures.', 'Links', 'to', 'helping', 'at', 'organizations,', 'resources....', 'NYT', 'reporters', 'should', 'provide', 'a', \"contributor's\", 'link', 'to', 'a', 'crowdfunding', 'project', 'or', 'aid', 'organization', 'focused', 'on', 'the', 'specific', 'subject', 'of', 'news', 'stories', 'like', 'this.', 'Not', 'for', 'every', 'sad', 'story,', 'but', 'for', 'the', 'biggest', 'and', 'most', 'obvious', 'human', 'problems', 'on', 'earth.', '<br/><br/>That', 'should', 'be', 'a', 'regular', 'feature,', 'with', 'a', 'dedicated', 'click-button', 'always', 'located', 'in', 'the', 'same', 'familiar', 'spot.', 'Only', '36%', 'of', 'America', 'has', 'truly', 'hardened']\n"
     ]
    }
   ],
   "source": [
    "print(corpus[0:200]) #look at the first 200 words from the comments corpus"
   ]
  },
  {
   "cell_type": "code",
   "execution_count": 21,
   "metadata": {},
   "outputs": [
    {
     "name": "stdout",
     "output_type": "stream",
     "text": [
      "['How', 'could', 'the', 'league', 'possibly', 'refuse', 'this', 'offer?', 'So', 'then', 'the', 'execs', 'can', 'be', 'like', '\"yeah...we', 'will', 'sit', 'down', 'and', 'listen', 'to', 'you\".', 'and', 'then', 'do', 'nothing.', 'Suit', 'settled.', 'I', 'would', 'not', 'want', 'to', 'play', 'chess', 'against', 'these', \"cheerleaders'\", 'lawyers...nice', 'move!', 'Could', 'the', 'cheerleaders', 'join', 'the', \"Actors'\", 'Equity', 'Association', 'or', 'another', 'similar', 'performance', 'union?', 'An', 'effort', 'for', 'collective', 'representation', 'would', 'do', 'much', 'more', 'to', 'address', 'cheerleader', 'pay', 'and', 'working', 'conditions', 'than', 'a', 'few', 'hour', 'meeting', 'with', 'Roger', 'Goodell.', 'Seeking', 'conclusions', 'which', 'support', 'preconceived', 'ideas', 'and', 'discarding', 'the', 'data', 'which', 'does', 'not', 'is', 'Mr.', \"Pruitt's\", 'idea', 'of', 'science.', 'We', 'would', 'still', 'be', 'in', 'the', 'dark', 'ages', 'using', 'this', 'approach.', 'Science', 'is', 'not', 'political', 'and', 'the', 'truth', 'will', 'always', 'be', 'discovered.', 'The', 'science,', 'the', 'measurements,', 'the', 'study', 'design,', 'and', 'the', 'statistical', 'analysis', 'are', 'all', 'difficult', 'and', 'I', 'doubt', 'most', 'will', 'understand', 'the', 'subtleties.', 'Certainly,', 'congress', 'will', 'not', 'understand', 'the', 'science', 'since', 'they', 'are', 'not', 'even', 'reading', 'the', 'bills', 'they', 'pass.', 'I', 'have', 'not', 'doubt', 'that', 'Mr.', 'Pruitt', 'does', 'not.', 'Pruitt:', 'First', 'eliminate', 'the', 'scientists', 'and', 'now', 'eliminate', 'the', 'science.<br/><br/>The', 'number', 'of', 'people', 'that', 'will', 'consider', 'this', 'new', 'EPA', 'policy', 'as', 'good', 'news', 'will', 'sadly', 'be', 'way', 'too', 'many.', 'The', 'idea', 'of', 'using']\n"
     ]
    }
   ],
   "source": [
    "print(corpus2[0:200])"
   ]
  },
  {
   "cell_type": "markdown",
   "metadata": {},
   "source": [
    "#### Load Stopwords"
   ]
  },
  {
   "cell_type": "code",
   "execution_count": 8,
   "metadata": {},
   "outputs": [
    {
     "name": "stderr",
     "output_type": "stream",
     "text": [
      "[nltk_data] Downloading package stopwords to\n",
      "[nltk_data]     C:\\Users\\Surya\\AppData\\Roaming\\nltk_data...\n",
      "[nltk_data]   Package stopwords is already up-to-date!\n"
     ]
    }
   ],
   "source": [
    "#import nltk\n",
    "nltk.download('stopwords')\n",
    "stop = set(nltk.corpus.stopwords.words('english'))"
   ]
  },
  {
   "cell_type": "code",
   "execution_count": 9,
   "metadata": {},
   "outputs": [],
   "source": [
    "from collections import Counter\n",
    "from collections import defaultdict"
   ]
  },
  {
   "cell_type": "code",
   "execution_count": 17,
   "metadata": {},
   "outputs": [
    {
     "data": {
      "text/plain": [
       "<BarContainer object of 10 artists>"
      ]
     },
     "execution_count": 17,
     "metadata": {},
     "output_type": "execute_result"
    },
    {
     "data": {
      "image/png": "[encoded data removed]",
      "text/plain": [
       "<Figure size 432x288 with 1 Axes>"
      ]
     },
     "metadata": {
      "needs_background": "light"
     },
     "output_type": "display_data"
    }
   ],
   "source": [
    "dic = defaultdict(int)  ## plots the top 10 stopwords to see which ones I might want to get rid of later. \n",
    "for word in corpus1:\n",
    "    if word in stop:\n",
    "        dic[word] += 1\n",
    "top = sorted(dic.items(), key=lambda x:x[1],reverse=True)[:10] \n",
    "x,y = zip(*top)\n",
    "plt.bar(x,y)"
   ]
  },
  {
   "cell_type": "markdown",
   "metadata": {},
   "source": [
    "### Now I proceed with the topic model"
   ]
  },
  {
   "cell_type": "markdown",
   "metadata": {},
   "source": [
    "#### The first step is to properly clean the text. Thus do some Pre-processing of the text data. This process of converting data to something a computer can understand is referred to as pre-processing. These steps include setting all words to lowercase, removing punctuation and stopwords, and stemming (reducing the words to their root form). For this I will use a function and the SnowballStemmer from the nltk package. "
   ]
  },
  {
   "cell_type": "code",
   "execution_count": 10,
   "metadata": {},
   "outputs": [],
   "source": [
    "# load the needed stemmer\n",
    "from nltk.stem.snowball import SnowballStemmer\n",
    "from nltk.corpus import stopwords \n",
    "import string"
   ]
  },
  {
   "cell_type": "code",
   "execution_count": 11,
   "metadata": {},
   "outputs": [
    {
     "name": "stdout",
     "output_type": "stream",
     "text": [
      "['i', 'me', 'my', 'myself', 'we', 'our', 'ours', 'ourselves', 'you', \"you're\", \"you've\", \"you'll\", \"you'd\", 'your', 'yours', 'yourself', 'yourselves', 'he', 'him', 'his', 'himself', 'she', \"she's\", 'her', 'hers', 'herself', 'it', \"it's\", 'its', 'itself', 'they', 'them', 'their', 'theirs', 'themselves', 'what', 'which', 'who', 'whom', 'this', 'that', \"that'll\", 'these', 'those', 'am', 'is', 'are', 'was', 'were', 'be', 'been', 'being', 'have', 'has', 'had', 'having', 'do', 'does', 'did', 'doing', 'a', 'an', 'the', 'and', 'but', 'if', 'or', 'because', 'as', 'until', 'while', 'of', 'at', 'by', 'for', 'with', 'about', 'against', 'between', 'into', 'through', 'during', 'before', 'after', 'above', 'below', 'to', 'from', 'up', 'down', 'in', 'out', 'on', 'off', 'over', 'under', 'again', 'further', 'then', 'once', 'here', 'there', 'when', 'where', 'why', 'how', 'all', 'any', 'both', 'each', 'few', 'more', 'most', 'other', 'some', 'such', 'no', 'nor', 'not', 'only', 'own', 'same', 'so', 'than', 'too', 'very', 's', 't', 'can', 'will', 'just', 'don', \"don't\", 'should', \"should've\", 'now', 'd', 'll', 'm', 'o', 're', 've', 'y', 'ain', 'aren', \"aren't\", 'couldn', \"couldn't\", 'didn', \"didn't\", 'doesn', \"doesn't\", 'hadn', \"hadn't\", 'hasn', \"hasn't\", 'haven', \"haven't\", 'isn', \"isn't\", 'ma', 'mightn', \"mightn't\", 'mustn', \"mustn't\", 'needn', \"needn't\", 'shan', \"shan't\", 'shouldn', \"shouldn't\", 'wasn', \"wasn't\", 'weren', \"weren't\", 'won', \"won't\", 'wouldn', \"wouldn't\"]\n"
     ]
    }
   ],
   "source": [
    "# NLTK(Natural Language Toolkit) in python has a list of stopwords stored in 16 different languages.\n",
    "print(stopwords.words('english')) # look at the list (which can also be modified)"
   ]
  },
  {
   "cell_type": "code",
   "execution_count": 12,
   "metadata": {},
   "outputs": [],
   "source": [
    "# I will use the english list of stopwords and asign them to a variable. \n",
    "stop_words = stopwords.words(\"english\")"
   ]
  },
  {
   "cell_type": "code",
   "execution_count": 13,
   "metadata": {},
   "outputs": [],
   "source": [
    "# now build the function which I will call tokenizer\n",
    "# this essentially cleans the text from upper to lower case, removes punctuations and stopwords and stems the text. \n",
    "# another option would be to use the nltk tokenizer https://www.nltk.org/api/nltk.tokenize.html \n",
    "\n",
    "def tokenizer(text):\n",
    "    '''\n",
    "    -covert everything to lowercase\n",
    "    -remove punctuations\n",
    "    -remove stopwords\n",
    "    -stemmer\n",
    "    '''\n",
    "    #All characters in this string will be converted to lowercase\n",
    "    text = text.lower()\n",
    "    \n",
    "    #Removing sentence punctuations\n",
    "    for punctuation_mark in string.punctuation:\n",
    "        text = text.replace(punctuation_mark,'')\n",
    "    \n",
    "    #Creating our list of tokens\n",
    "    list_of_tokens = text.split(' ')\n",
    "    #Creating our cleaned tokens list \n",
    "    cleaned_tokens = []\n",
    "    #Let us use a stemmer\n",
    "    stemmer = SnowballStemmer(language = 'english')\n",
    "    \n",
    "    #Removing Stop Words in our list of tokens and any tokens that happens to be empty strings\n",
    "    for token in list_of_tokens:\n",
    "        if (not token in stop_words) and (token != ''):\n",
    "            #Stem tokens\n",
    "            token_stemmed = stemmer.stem(token)\n",
    "            #appending our finalized cleaned token\n",
    "            cleaned_tokens.append(token_stemmed)\n",
    "    \n",
    "    return cleaned_tokens\n",
    "            \n"
   ]
  },
  {
   "cell_type": "raw",
   "metadata": {},
   "source": [
    "## not to use\n",
    "## this does work but it does not correctly apply the tokenizer function on each row of the needed column\n",
    "# this operation is also veeery slow because it loops through every item and applied the long function to it\n",
    "\n",
    "pp_text_col = [] # add the preprocessed text column to my dataframe\n",
    "for text_data in comments_2017['commentBody']:\n",
    "    pp_text_data = tokenizer(text_data)\n",
    "    pp_text_col.append(pp_text_data)\n",
    "comments_2017['pp_text_old'] = pp_text_col #name the new cleaned column pp_text\n"
   ]
  },
  {
   "cell_type": "markdown",
   "metadata": {},
   "source": [
    "#### Now I try to clean the text in the proper way and add it to a new column in my dataframe (called \"pp_text_2017\" and \"pp_text_2018)"
   ]
  },
  {
   "cell_type": "code",
   "execution_count": 14,
   "metadata": {},
   "outputs": [],
   "source": [
    "# for the comments of 2017\n",
    "# apply the tokenizer function to the commentBody column and asign it to a new pre-processed column pp_text_2017\n",
    "comments_both[\"pp_text_2017\"] = comments_both[\"commentBody\"].apply(tokenizer)\n",
    "# but what it creates is a sequence of sequences (quasi lists with strings in them)"
   ]
  },
  {
   "cell_type": "code",
   "execution_count": 15,
   "metadata": {},
   "outputs": [],
   "source": [
    "# same for the comments of 2018\n",
    "comments_both[\"pp_text_2018\"] = comments_both[\"commentBody_2018\"].apply(tokenizer)"
   ]
  },
  {
   "cell_type": "code",
   "execution_count": 42,
   "metadata": {},
   "outputs": [
    {
     "data": {
      "text/html": [
       "<div>\n",
       "<style scoped>\n",
       "    .dataframe tbody tr th:only-of-type {\n",
       "        vertical-align: middle;\n",
       "    }\n",
       "\n",
       "    .dataframe tbody tr th {\n",
       "        vertical-align: top;\n",
       "    }\n",
       "\n",
       "    .dataframe thead th {\n",
       "        text-align: right;\n",
       "    }\n",
       "</style>\n",
       "<table border=\"1\" class=\"dataframe\">\n",
       "  <thead>\n",
       "    <tr style=\"text-align: right;\">\n",
       "      <th></th>\n",
       "      <th>approveDate</th>\n",
       "      <th>commentBody</th>\n",
       "      <th>commentID</th>\n",
       "      <th>commentSequence</th>\n",
       "      <th>commentTitle</th>\n",
       "      <th>commentType</th>\n",
       "      <th>createDate</th>\n",
       "      <th>depth</th>\n",
       "      <th>editorsSelection</th>\n",
       "      <th>parentID</th>\n",
       "      <th>...</th>\n",
       "      <th>sectionName</th>\n",
       "      <th>newDesk</th>\n",
       "      <th>articleWordCount</th>\n",
       "      <th>printPage</th>\n",
       "      <th>typeOfMaterial</th>\n",
       "      <th>commentBody_2018</th>\n",
       "      <th>pp_text_2017</th>\n",
       "      <th>pp_text_2018</th>\n",
       "      <th>comments_2017</th>\n",
       "      <th>comments_2018</th>\n",
       "    </tr>\n",
       "  </thead>\n",
       "  <tbody>\n",
       "    <tr>\n",
       "      <td>0</td>\n",
       "      <td>1491245186</td>\n",
       "      <td>This project makes me happy to be a 30+ year T...</td>\n",
       "      <td>22022598.0</td>\n",
       "      <td>22022598</td>\n",
       "      <td>&lt;br/&gt;</td>\n",
       "      <td>comment</td>\n",
       "      <td>1.491237e+09</td>\n",
       "      <td>1</td>\n",
       "      <td>False</td>\n",
       "      <td>0.0</td>\n",
       "      <td>...</td>\n",
       "      <td>Unknown</td>\n",
       "      <td>Insider</td>\n",
       "      <td>716.0</td>\n",
       "      <td>2</td>\n",
       "      <td>News</td>\n",
       "      <td>How could the league possibly refuse this offe...</td>\n",
       "      <td>[project, make, happi, 30, year, time, subscri...</td>\n",
       "      <td>[could, leagu, possibl, refus, offer]</td>\n",
       "      <td>project make happi 30 year time subscrib conti...</td>\n",
       "      <td>could leagu possibl refus offer</td>\n",
       "    </tr>\n",
       "    <tr>\n",
       "      <td>1</td>\n",
       "      <td>1491188619</td>\n",
       "      <td>Stunning photos and reportage. Infuriating tha...</td>\n",
       "      <td>22017350.0</td>\n",
       "      <td>22017350</td>\n",
       "      <td>NaN</td>\n",
       "      <td>comment</td>\n",
       "      <td>1.491180e+09</td>\n",
       "      <td>1</td>\n",
       "      <td>False</td>\n",
       "      <td>0.0</td>\n",
       "      <td>...</td>\n",
       "      <td>Unknown</td>\n",
       "      <td>Insider</td>\n",
       "      <td>716.0</td>\n",
       "      <td>2</td>\n",
       "      <td>News</td>\n",
       "      <td>So then the execs can be like \"yeah...we will ...</td>\n",
       "      <td>[stun, photo, reportag, infuri, trump, admistr...</td>\n",
       "      <td>[exec, like, yeahw, sit, listen, noth, suit, s...</td>\n",
       "      <td>stun photo reportag infuri trump admistr draco...</td>\n",
       "      <td>exec like yeahw sit listen noth suit settl</td>\n",
       "    </tr>\n",
       "    <tr>\n",
       "      <td>2</td>\n",
       "      <td>1491188617</td>\n",
       "      <td>Brilliant work from conception to execution. I...</td>\n",
       "      <td>22017334.0</td>\n",
       "      <td>22017334</td>\n",
       "      <td>&lt;br/&gt;</td>\n",
       "      <td>comment</td>\n",
       "      <td>1.491179e+09</td>\n",
       "      <td>1</td>\n",
       "      <td>False</td>\n",
       "      <td>0.0</td>\n",
       "      <td>...</td>\n",
       "      <td>Unknown</td>\n",
       "      <td>Insider</td>\n",
       "      <td>716.0</td>\n",
       "      <td>2</td>\n",
       "      <td>News</td>\n",
       "      <td>I would not want to play chess against these c...</td>\n",
       "      <td>[brilliant, work, concept, execut, ive, never,...</td>\n",
       "      <td>[would, want, play, chess, cheerlead, lawyersn...</td>\n",
       "      <td>brilliant work concept execut ive never seen a...</td>\n",
       "      <td>would want play chess cheerlead lawyersnic move</td>\n",
       "    </tr>\n",
       "    <tr>\n",
       "      <td>3</td>\n",
       "      <td>1491167820</td>\n",
       "      <td>NYT reporters should provide a contributor's l...</td>\n",
       "      <td>22015913.0</td>\n",
       "      <td>22015913</td>\n",
       "      <td>&lt;br/&gt;</td>\n",
       "      <td>comment</td>\n",
       "      <td>1.491150e+09</td>\n",
       "      <td>1</td>\n",
       "      <td>False</td>\n",
       "      <td>0.0</td>\n",
       "      <td>...</td>\n",
       "      <td>Unknown</td>\n",
       "      <td>Insider</td>\n",
       "      <td>716.0</td>\n",
       "      <td>2</td>\n",
       "      <td>News</td>\n",
       "      <td>Could the cheerleaders join the Actors' Equity...</td>\n",
       "      <td>[nyt, report, provid, contributor, link, crowd...</td>\n",
       "      <td>[could, cheerlead, join, actor, equiti, associ...</td>\n",
       "      <td>nyt report provid contributor link crowdfund p...</td>\n",
       "      <td>could cheerlead join actor equiti associ anoth...</td>\n",
       "    </tr>\n",
       "    <tr>\n",
       "      <td>4</td>\n",
       "      <td>1491167815</td>\n",
       "      <td>Could only have been done in print. Stunning.</td>\n",
       "      <td>22015466.0</td>\n",
       "      <td>22015466</td>\n",
       "      <td>&lt;br/&gt;</td>\n",
       "      <td>comment</td>\n",
       "      <td>1.491147e+09</td>\n",
       "      <td>1</td>\n",
       "      <td>False</td>\n",
       "      <td>0.0</td>\n",
       "      <td>...</td>\n",
       "      <td>Unknown</td>\n",
       "      <td>Insider</td>\n",
       "      <td>716.0</td>\n",
       "      <td>2</td>\n",
       "      <td>News</td>\n",
       "      <td>Seeking conclusions which support preconceived...</td>\n",
       "      <td>[could, done, print, stun]</td>\n",
       "      <td>[seek, conclus, support, preconceiv, idea, dis...</td>\n",
       "      <td>could done print stun</td>\n",
       "      <td>seek conclus support preconceiv idea discard d...</td>\n",
       "    </tr>\n",
       "  </tbody>\n",
       "</table>\n",
       "<p>5 rows × 39 columns</p>\n",
       "</div>"
      ],
      "text/plain": [
       "   approveDate                                        commentBody   commentID  \\\n",
       "0   1491245186  This project makes me happy to be a 30+ year T...  22022598.0   \n",
       "1   1491188619  Stunning photos and reportage. Infuriating tha...  22017350.0   \n",
       "2   1491188617  Brilliant work from conception to execution. I...  22017334.0   \n",
       "3   1491167820  NYT reporters should provide a contributor's l...  22015913.0   \n",
       "4   1491167815     Could only have been done in print. Stunning.   22015466.0   \n",
       "\n",
       "   commentSequence commentTitle commentType    createDate  depth  \\\n",
       "0         22022598        <br/>     comment  1.491237e+09      1   \n",
       "1         22017350          NaN     comment  1.491180e+09      1   \n",
       "2         22017334        <br/>     comment  1.491179e+09      1   \n",
       "3         22015913        <br/>     comment  1.491150e+09      1   \n",
       "4         22015466        <br/>     comment  1.491147e+09      1   \n",
       "\n",
       "   editorsSelection  parentID  ... sectionName  newDesk articleWordCount  \\\n",
       "0             False       0.0  ...     Unknown  Insider            716.0   \n",
       "1             False       0.0  ...     Unknown  Insider            716.0   \n",
       "2             False       0.0  ...     Unknown  Insider            716.0   \n",
       "3             False       0.0  ...     Unknown  Insider            716.0   \n",
       "4             False       0.0  ...     Unknown  Insider            716.0   \n",
       "\n",
       "   printPage  typeOfMaterial  \\\n",
       "0          2            News   \n",
       "1          2            News   \n",
       "2          2            News   \n",
       "3          2            News   \n",
       "4          2            News   \n",
       "\n",
       "                                    commentBody_2018  \\\n",
       "0  How could the league possibly refuse this offe...   \n",
       "1  So then the execs can be like \"yeah...we will ...   \n",
       "2  I would not want to play chess against these c...   \n",
       "3  Could the cheerleaders join the Actors' Equity...   \n",
       "4  Seeking conclusions which support preconceived...   \n",
       "\n",
       "                                        pp_text_2017  \\\n",
       "0  [project, make, happi, 30, year, time, subscri...   \n",
       "1  [stun, photo, reportag, infuri, trump, admistr...   \n",
       "2  [brilliant, work, concept, execut, ive, never,...   \n",
       "3  [nyt, report, provid, contributor, link, crowd...   \n",
       "4                         [could, done, print, stun]   \n",
       "\n",
       "                                        pp_text_2018  \\\n",
       "0              [could, leagu, possibl, refus, offer]   \n",
       "1  [exec, like, yeahw, sit, listen, noth, suit, s...   \n",
       "2  [would, want, play, chess, cheerlead, lawyersn...   \n",
       "3  [could, cheerlead, join, actor, equiti, associ...   \n",
       "4  [seek, conclus, support, preconceiv, idea, dis...   \n",
       "\n",
       "                                       comments_2017  \\\n",
       "0  project make happi 30 year time subscrib conti...   \n",
       "1  stun photo reportag infuri trump admistr draco...   \n",
       "2  brilliant work concept execut ive never seen a...   \n",
       "3  nyt report provid contributor link crowdfund p...   \n",
       "4                              could done print stun   \n",
       "\n",
       "                                       comments_2018  \n",
       "0                    could leagu possibl refus offer  \n",
       "1         exec like yeahw sit listen noth suit settl  \n",
       "2    would want play chess cheerlead lawyersnic move  \n",
       "3  could cheerlead join actor equiti associ anoth...  \n",
       "4  seek conclus support preconceiv idea discard d...  \n",
       "\n",
       "[5 rows x 39 columns]"
      ]
     },
     "execution_count": 42,
     "metadata": {},
     "output_type": "execute_result"
    }
   ],
   "source": [
    "comments_both.head(5) #look if the new column was added "
   ]
  },
  {
   "cell_type": "code",
   "execution_count": 43,
   "metadata": {},
   "outputs": [
    {
     "data": {
      "text/html": [
       "<div>\n",
       "<style scoped>\n",
       "    .dataframe tbody tr th:only-of-type {\n",
       "        vertical-align: middle;\n",
       "    }\n",
       "\n",
       "    .dataframe tbody tr th {\n",
       "        vertical-align: top;\n",
       "    }\n",
       "\n",
       "    .dataframe thead th {\n",
       "        text-align: right;\n",
       "    }\n",
       "</style>\n",
       "<table border=\"1\" class=\"dataframe\">\n",
       "  <thead>\n",
       "    <tr style=\"text-align: right;\">\n",
       "      <th></th>\n",
       "      <th>approveDate</th>\n",
       "      <th>commentBody</th>\n",
       "      <th>commentID</th>\n",
       "      <th>commentSequence</th>\n",
       "      <th>commentTitle</th>\n",
       "      <th>commentType</th>\n",
       "      <th>createDate</th>\n",
       "      <th>depth</th>\n",
       "      <th>editorsSelection</th>\n",
       "      <th>parentID</th>\n",
       "      <th>...</th>\n",
       "      <th>sectionName</th>\n",
       "      <th>newDesk</th>\n",
       "      <th>articleWordCount</th>\n",
       "      <th>printPage</th>\n",
       "      <th>typeOfMaterial</th>\n",
       "      <th>commentBody_2018</th>\n",
       "      <th>pp_text_2017</th>\n",
       "      <th>pp_text_2018</th>\n",
       "      <th>comments_2017</th>\n",
       "      <th>comments_2018</th>\n",
       "    </tr>\n",
       "  </thead>\n",
       "  <tbody>\n",
       "    <tr>\n",
       "      <td>243827</td>\n",
       "      <td>1493061963</td>\n",
       "      <td>Sorry, but pudding has nothing to do with it; ...</td>\n",
       "      <td>22257227.0</td>\n",
       "      <td>22257227</td>\n",
       "      <td>&lt;br/&gt;</td>\n",
       "      <td>userReply</td>\n",
       "      <td>1.493059e+09</td>\n",
       "      <td>2</td>\n",
       "      <td>False</td>\n",
       "      <td>22255279.0</td>\n",
       "      <td>...</td>\n",
       "      <td>Unknown</td>\n",
       "      <td>Culture</td>\n",
       "      <td>981.0</td>\n",
       "      <td>2</td>\n",
       "      <td>Review</td>\n",
       "      <td>Clearly, if there is going to be a change, it'...</td>\n",
       "      <td>[sorri, pud, noth, desert, one, deserv, henc, ...</td>\n",
       "      <td>[clear, go, chang, customersbrnot, sure, mani,...</td>\n",
       "      <td>sorri pud noth desert one deserv henc singl</td>\n",
       "      <td>clear go chang customersbrnot sure mani women ...</td>\n",
       "    </tr>\n",
       "    <tr>\n",
       "      <td>243828</td>\n",
       "      <td>1493060948</td>\n",
       "      <td>While it would be quite punny to spell it \"des...</td>\n",
       "      <td>22257466.0</td>\n",
       "      <td>22257466</td>\n",
       "      <td>&lt;br/&gt;</td>\n",
       "      <td>userReply</td>\n",
       "      <td>1.493061e+09</td>\n",
       "      <td>2</td>\n",
       "      <td>False</td>\n",
       "      <td>22255279.0</td>\n",
       "      <td>...</td>\n",
       "      <td>Unknown</td>\n",
       "      <td>Culture</td>\n",
       "      <td>981.0</td>\n",
       "      <td>2</td>\n",
       "      <td>Review</td>\n",
       "      <td>Since '90's, I have stop promoting Nike and Mi...</td>\n",
       "      <td>[would, quit, punni, spell, dessert, phrase, d...</td>\n",
       "      <td>[sinc, 90s, stop, promot, nike, michael, jorda...</td>\n",
       "      <td>would quit punni spell dessert phrase desert t...</td>\n",
       "      <td>sinc 90s stop promot nike michael jordan sneak...</td>\n",
       "    </tr>\n",
       "    <tr>\n",
       "      <td>243829</td>\n",
       "      <td>1493087619</td>\n",
       "      <td>See above comments. \"deserts\" is the proper.</td>\n",
       "      <td>22259265.0</td>\n",
       "      <td>22259265</td>\n",
       "      <td>&lt;br/&gt;</td>\n",
       "      <td>userReply</td>\n",
       "      <td>1.493076e+09</td>\n",
       "      <td>2</td>\n",
       "      <td>False</td>\n",
       "      <td>22253014.0</td>\n",
       "      <td>...</td>\n",
       "      <td>Unknown</td>\n",
       "      <td>Culture</td>\n",
       "      <td>981.0</td>\n",
       "      <td>2</td>\n",
       "      <td>Review</td>\n",
       "      <td>Bet/cha they went with their pensions intact</td>\n",
       "      <td>[see, comment, desert, proper]</td>\n",
       "      <td>[betcha, went, pension, intact]</td>\n",
       "      <td>see comment desert proper</td>\n",
       "      <td>betcha went pension intact</td>\n",
       "    </tr>\n",
       "    <tr>\n",
       "      <td>243830</td>\n",
       "      <td>1493042801</td>\n",
       "      <td>John Rubinstein had two brief scenes with Joan...</td>\n",
       "      <td>22250099.0</td>\n",
       "      <td>22250099</td>\n",
       "      <td>&lt;br/&gt;</td>\n",
       "      <td>userReply</td>\n",
       "      <td>1.493019e+09</td>\n",
       "      <td>2</td>\n",
       "      <td>False</td>\n",
       "      <td>22249901.0</td>\n",
       "      <td>...</td>\n",
       "      <td>Unknown</td>\n",
       "      <td>Culture</td>\n",
       "      <td>981.0</td>\n",
       "      <td>2</td>\n",
       "      <td>Review</td>\n",
       "      <td>All of these women need to sue the Head of Hum...</td>\n",
       "      <td>[john, rubinstein, two, brief, scene, joan, cr...</td>\n",
       "      <td>[women, need, sue, head, human, resourc, abus,...</td>\n",
       "      <td>john rubinstein two brief scene joan crawford ...</td>\n",
       "      <td>women need sue head human resourc abus neglect...</td>\n",
       "    </tr>\n",
       "    <tr>\n",
       "      <td>243831</td>\n",
       "      <td>1493042800</td>\n",
       "      <td>Ye gods and little fishes, Stu, you're right ....</td>\n",
       "      <td>22252040.0</td>\n",
       "      <td>22252040</td>\n",
       "      <td>&lt;br/&gt;</td>\n",
       "      <td>userReply</td>\n",
       "      <td>1.493039e+09</td>\n",
       "      <td>2</td>\n",
       "      <td>False</td>\n",
       "      <td>22249901.0</td>\n",
       "      <td>...</td>\n",
       "      <td>Unknown</td>\n",
       "      <td>Culture</td>\n",
       "      <td>981.0</td>\n",
       "      <td>2</td>\n",
       "      <td>Review</td>\n",
       "      <td>Remember, this is the same corporation who con...</td>\n",
       "      <td>[ye, god, littl, fish, stu, your, right, memor...</td>\n",
       "      <td>[rememb, corpor, continu, sponsor, ben, roethl...</td>\n",
       "      <td>ye god littl fish stu your right memori serv p...</td>\n",
       "      <td>rememb corpor continu sponsor ben roethlisberg...</td>\n",
       "    </tr>\n",
       "  </tbody>\n",
       "</table>\n",
       "<p>5 rows × 39 columns</p>\n",
       "</div>"
      ],
      "text/plain": [
       "        approveDate                                        commentBody  \\\n",
       "243827   1493061963  Sorry, but pudding has nothing to do with it; ...   \n",
       "243828   1493060948  While it would be quite punny to spell it \"des...   \n",
       "243829   1493087619       See above comments. \"deserts\" is the proper.   \n",
       "243830   1493042801  John Rubinstein had two brief scenes with Joan...   \n",
       "243831   1493042800  Ye gods and little fishes, Stu, you're right ....   \n",
       "\n",
       "         commentID  commentSequence commentTitle commentType    createDate  \\\n",
       "243827  22257227.0         22257227        <br/>   userReply  1.493059e+09   \n",
       "243828  22257466.0         22257466        <br/>   userReply  1.493061e+09   \n",
       "243829  22259265.0         22259265        <br/>   userReply  1.493076e+09   \n",
       "243830  22250099.0         22250099        <br/>   userReply  1.493019e+09   \n",
       "243831  22252040.0         22252040        <br/>   userReply  1.493039e+09   \n",
       "\n",
       "        depth  editorsSelection    parentID  ... sectionName  newDesk  \\\n",
       "243827      2             False  22255279.0  ...     Unknown  Culture   \n",
       "243828      2             False  22255279.0  ...     Unknown  Culture   \n",
       "243829      2             False  22253014.0  ...     Unknown  Culture   \n",
       "243830      2             False  22249901.0  ...     Unknown  Culture   \n",
       "243831      2             False  22249901.0  ...     Unknown  Culture   \n",
       "\n",
       "       articleWordCount  printPage  typeOfMaterial  \\\n",
       "243827            981.0          2          Review   \n",
       "243828            981.0          2          Review   \n",
       "243829            981.0          2          Review   \n",
       "243830            981.0          2          Review   \n",
       "243831            981.0          2          Review   \n",
       "\n",
       "                                         commentBody_2018  \\\n",
       "243827  Clearly, if there is going to be a change, it'...   \n",
       "243828  Since '90's, I have stop promoting Nike and Mi...   \n",
       "243829       Bet/cha they went with their pensions intact   \n",
       "243830  All of these women need to sue the Head of Hum...   \n",
       "243831  Remember, this is the same corporation who con...   \n",
       "\n",
       "                                             pp_text_2017  \\\n",
       "243827  [sorri, pud, noth, desert, one, deserv, henc, ...   \n",
       "243828  [would, quit, punni, spell, dessert, phrase, d...   \n",
       "243829                     [see, comment, desert, proper]   \n",
       "243830  [john, rubinstein, two, brief, scene, joan, cr...   \n",
       "243831  [ye, god, littl, fish, stu, your, right, memor...   \n",
       "\n",
       "                                             pp_text_2018  \\\n",
       "243827  [clear, go, chang, customersbrnot, sure, mani,...   \n",
       "243828  [sinc, 90s, stop, promot, nike, michael, jorda...   \n",
       "243829                    [betcha, went, pension, intact]   \n",
       "243830  [women, need, sue, head, human, resourc, abus,...   \n",
       "243831  [rememb, corpor, continu, sponsor, ben, roethl...   \n",
       "\n",
       "                                            comments_2017  \\\n",
       "243827        sorri pud noth desert one deserv henc singl   \n",
       "243828  would quit punni spell dessert phrase desert t...   \n",
       "243829                          see comment desert proper   \n",
       "243830  john rubinstein two brief scene joan crawford ...   \n",
       "243831  ye god littl fish stu your right memori serv p...   \n",
       "\n",
       "                                            comments_2018  \n",
       "243827  clear go chang customersbrnot sure mani women ...  \n",
       "243828  sinc 90s stop promot nike michael jordan sneak...  \n",
       "243829                         betcha went pension intact  \n",
       "243830  women need sue head human resourc abus neglect...  \n",
       "243831  rememb corpor continu sponsor ben roethlisberg...  \n",
       "\n",
       "[5 rows x 39 columns]"
      ]
     },
     "execution_count": 43,
     "metadata": {},
     "output_type": "execute_result"
    }
   ],
   "source": [
    "comments_both.tail(5)"
   ]
  },
  {
   "cell_type": "code",
   "execution_count": 25,
   "metadata": {},
   "outputs": [
    {
     "name": "stdout",
     "output_type": "stream",
     "text": [
      "<class 'pandas.core.frame.DataFrame'>\n",
      "RangeIndex: 243832 entries, 0 to 243831\n",
      "Data columns (total 37 columns):\n",
      "approveDate              243832 non-null int64\n",
      "commentBody              243832 non-null object\n",
      "commentID                243832 non-null float64\n",
      "commentSequence          243832 non-null int64\n",
      "commentTitle             228498 non-null object\n",
      "commentType              243832 non-null object\n",
      "createDate               243832 non-null float64\n",
      "depth                    243832 non-null int64\n",
      "editorsSelection         243832 non-null bool\n",
      "parentID                 243832 non-null float64\n",
      "parentUserDisplayName    70527 non-null object\n",
      "permID                   243832 non-null object\n",
      "picURL                   243832 non-null object\n",
      "recommendations          243832 non-null float64\n",
      "recommendedFlag          0 non-null float64\n",
      "replyCount               243832 non-null float64\n",
      "reportAbuseFlag          0 non-null float64\n",
      "sharing                  243832 non-null int64\n",
      "status                   243832 non-null object\n",
      "timespeople              243832 non-null float64\n",
      "trusted                  243832 non-null float64\n",
      "updateDate               243832 non-null int64\n",
      "userDisplayName          243756 non-null object\n",
      "userID                   243832 non-null int64\n",
      "userLocation             243771 non-null object\n",
      "userTitle                41 non-null object\n",
      "userURL                  5 non-null object\n",
      "inReplyTo                243832 non-null int64\n",
      "articleID                243832 non-null object\n",
      "sectionName              243832 non-null object\n",
      "newDesk                  243832 non-null object\n",
      "articleWordCount         243832 non-null float64\n",
      "printPage                243832 non-null int64\n",
      "typeOfMaterial           243832 non-null object\n",
      "commentBody_2018         243832 non-null object\n",
      "pp_text_2017             243832 non-null object\n",
      "pp_text_2018             243832 non-null object\n",
      "dtypes: bool(1), float64(10), int64(8), object(18)\n",
      "memory usage: 67.2+ MB\n"
     ]
    }
   ],
   "source": [
    "comments_both.info() \n",
    "# to see what the datatype of the key variables/columns are--> They are string which is good"
   ]
  },
  {
   "cell_type": "markdown",
   "metadata": {},
   "source": [
    "#### But as the pre-procesed columns are sequences of sequences I will run into problems later when using the TfidfVectorizer. This is why I need to transform the datatype from list to text with a function\n",
    "\n",
    "\n"
   ]
  },
  {
   "cell_type": "code",
   "execution_count": 17,
   "metadata": {},
   "outputs": [],
   "source": [
    "# function to transform list objects to text objects\n",
    "def list2text(my_list):\n",
    "    return ' '.join(my_list)"
   ]
  },
  {
   "cell_type": "code",
   "execution_count": 18,
   "metadata": {},
   "outputs": [],
   "source": [
    "comments_both['comments_2017'] = comments_both.pp_text_2017.apply(list2text) #apply the list2text function and asign to new column\n",
    "comments_both['comments_2018'] = comments_both.pp_text_2018.apply(list2text)"
   ]
  },
  {
   "cell_type": "code",
   "execution_count": 19,
   "metadata": {},
   "outputs": [
    {
     "data": {
      "text/html": [
       "<div>\n",
       "<style scoped>\n",
       "    .dataframe tbody tr th:only-of-type {\n",
       "        vertical-align: middle;\n",
       "    }\n",
       "\n",
       "    .dataframe tbody tr th {\n",
       "        vertical-align: top;\n",
       "    }\n",
       "\n",
       "    .dataframe thead th {\n",
       "        text-align: right;\n",
       "    }\n",
       "</style>\n",
       "<table border=\"1\" class=\"dataframe\">\n",
       "  <thead>\n",
       "    <tr style=\"text-align: right;\">\n",
       "      <th></th>\n",
       "      <th>approveDate</th>\n",
       "      <th>commentBody</th>\n",
       "      <th>commentID</th>\n",
       "      <th>commentSequence</th>\n",
       "      <th>commentTitle</th>\n",
       "      <th>commentType</th>\n",
       "      <th>createDate</th>\n",
       "      <th>depth</th>\n",
       "      <th>editorsSelection</th>\n",
       "      <th>parentID</th>\n",
       "      <th>...</th>\n",
       "      <th>sectionName</th>\n",
       "      <th>newDesk</th>\n",
       "      <th>articleWordCount</th>\n",
       "      <th>printPage</th>\n",
       "      <th>typeOfMaterial</th>\n",
       "      <th>commentBody_2018</th>\n",
       "      <th>pp_text_2017</th>\n",
       "      <th>pp_text_2018</th>\n",
       "      <th>comments_2017</th>\n",
       "      <th>comments_2018</th>\n",
       "    </tr>\n",
       "  </thead>\n",
       "  <tbody>\n",
       "    <tr>\n",
       "      <td>0</td>\n",
       "      <td>1491245186</td>\n",
       "      <td>This project makes me happy to be a 30+ year T...</td>\n",
       "      <td>22022598.0</td>\n",
       "      <td>22022598</td>\n",
       "      <td>&lt;br/&gt;</td>\n",
       "      <td>comment</td>\n",
       "      <td>1.491237e+09</td>\n",
       "      <td>1</td>\n",
       "      <td>False</td>\n",
       "      <td>0.0</td>\n",
       "      <td>...</td>\n",
       "      <td>Unknown</td>\n",
       "      <td>Insider</td>\n",
       "      <td>716.0</td>\n",
       "      <td>2</td>\n",
       "      <td>News</td>\n",
       "      <td>How could the league possibly refuse this offe...</td>\n",
       "      <td>[project, make, happi, 30, year, time, subscri...</td>\n",
       "      <td>[could, leagu, possibl, refus, offer]</td>\n",
       "      <td>project make happi 30 year time subscrib conti...</td>\n",
       "      <td>could leagu possibl refus offer</td>\n",
       "    </tr>\n",
       "    <tr>\n",
       "      <td>1</td>\n",
       "      <td>1491188619</td>\n",
       "      <td>Stunning photos and reportage. Infuriating tha...</td>\n",
       "      <td>22017350.0</td>\n",
       "      <td>22017350</td>\n",
       "      <td>NaN</td>\n",
       "      <td>comment</td>\n",
       "      <td>1.491180e+09</td>\n",
       "      <td>1</td>\n",
       "      <td>False</td>\n",
       "      <td>0.0</td>\n",
       "      <td>...</td>\n",
       "      <td>Unknown</td>\n",
       "      <td>Insider</td>\n",
       "      <td>716.0</td>\n",
       "      <td>2</td>\n",
       "      <td>News</td>\n",
       "      <td>So then the execs can be like \"yeah...we will ...</td>\n",
       "      <td>[stun, photo, reportag, infuri, trump, admistr...</td>\n",
       "      <td>[exec, like, yeahw, sit, listen, noth, suit, s...</td>\n",
       "      <td>stun photo reportag infuri trump admistr draco...</td>\n",
       "      <td>exec like yeahw sit listen noth suit settl</td>\n",
       "    </tr>\n",
       "    <tr>\n",
       "      <td>2</td>\n",
       "      <td>1491188617</td>\n",
       "      <td>Brilliant work from conception to execution. I...</td>\n",
       "      <td>22017334.0</td>\n",
       "      <td>22017334</td>\n",
       "      <td>&lt;br/&gt;</td>\n",
       "      <td>comment</td>\n",
       "      <td>1.491179e+09</td>\n",
       "      <td>1</td>\n",
       "      <td>False</td>\n",
       "      <td>0.0</td>\n",
       "      <td>...</td>\n",
       "      <td>Unknown</td>\n",
       "      <td>Insider</td>\n",
       "      <td>716.0</td>\n",
       "      <td>2</td>\n",
       "      <td>News</td>\n",
       "      <td>I would not want to play chess against these c...</td>\n",
       "      <td>[brilliant, work, concept, execut, ive, never,...</td>\n",
       "      <td>[would, want, play, chess, cheerlead, lawyersn...</td>\n",
       "      <td>brilliant work concept execut ive never seen a...</td>\n",
       "      <td>would want play chess cheerlead lawyersnic move</td>\n",
       "    </tr>\n",
       "    <tr>\n",
       "      <td>3</td>\n",
       "      <td>1491167820</td>\n",
       "      <td>NYT reporters should provide a contributor's l...</td>\n",
       "      <td>22015913.0</td>\n",
       "      <td>22015913</td>\n",
       "      <td>&lt;br/&gt;</td>\n",
       "      <td>comment</td>\n",
       "      <td>1.491150e+09</td>\n",
       "      <td>1</td>\n",
       "      <td>False</td>\n",
       "      <td>0.0</td>\n",
       "      <td>...</td>\n",
       "      <td>Unknown</td>\n",
       "      <td>Insider</td>\n",
       "      <td>716.0</td>\n",
       "      <td>2</td>\n",
       "      <td>News</td>\n",
       "      <td>Could the cheerleaders join the Actors' Equity...</td>\n",
       "      <td>[nyt, report, provid, contributor, link, crowd...</td>\n",
       "      <td>[could, cheerlead, join, actor, equiti, associ...</td>\n",
       "      <td>nyt report provid contributor link crowdfund p...</td>\n",
       "      <td>could cheerlead join actor equiti associ anoth...</td>\n",
       "    </tr>\n",
       "    <tr>\n",
       "      <td>4</td>\n",
       "      <td>1491167815</td>\n",
       "      <td>Could only have been done in print. Stunning.</td>\n",
       "      <td>22015466.0</td>\n",
       "      <td>22015466</td>\n",
       "      <td>&lt;br/&gt;</td>\n",
       "      <td>comment</td>\n",
       "      <td>1.491147e+09</td>\n",
       "      <td>1</td>\n",
       "      <td>False</td>\n",
       "      <td>0.0</td>\n",
       "      <td>...</td>\n",
       "      <td>Unknown</td>\n",
       "      <td>Insider</td>\n",
       "      <td>716.0</td>\n",
       "      <td>2</td>\n",
       "      <td>News</td>\n",
       "      <td>Seeking conclusions which support preconceived...</td>\n",
       "      <td>[could, done, print, stun]</td>\n",
       "      <td>[seek, conclus, support, preconceiv, idea, dis...</td>\n",
       "      <td>could done print stun</td>\n",
       "      <td>seek conclus support preconceiv idea discard d...</td>\n",
       "    </tr>\n",
       "  </tbody>\n",
       "</table>\n",
       "<p>5 rows × 39 columns</p>\n",
       "</div>"
      ],
      "text/plain": [
       "   approveDate                                        commentBody   commentID  \\\n",
       "0   1491245186  This project makes me happy to be a 30+ year T...  22022598.0   \n",
       "1   1491188619  Stunning photos and reportage. Infuriating tha...  22017350.0   \n",
       "2   1491188617  Brilliant work from conception to execution. I...  22017334.0   \n",
       "3   1491167820  NYT reporters should provide a contributor's l...  22015913.0   \n",
       "4   1491167815     Could only have been done in print. Stunning.   22015466.0   \n",
       "\n",
       "   commentSequence commentTitle commentType    createDate  depth  \\\n",
       "0         22022598        <br/>     comment  1.491237e+09      1   \n",
       "1         22017350          NaN     comment  1.491180e+09      1   \n",
       "2         22017334        <br/>     comment  1.491179e+09      1   \n",
       "3         22015913        <br/>     comment  1.491150e+09      1   \n",
       "4         22015466        <br/>     comment  1.491147e+09      1   \n",
       "\n",
       "   editorsSelection  parentID  ... sectionName  newDesk articleWordCount  \\\n",
       "0             False       0.0  ...     Unknown  Insider            716.0   \n",
       "1             False       0.0  ...     Unknown  Insider            716.0   \n",
       "2             False       0.0  ...     Unknown  Insider            716.0   \n",
       "3             False       0.0  ...     Unknown  Insider            716.0   \n",
       "4             False       0.0  ...     Unknown  Insider            716.0   \n",
       "\n",
       "   printPage  typeOfMaterial  \\\n",
       "0          2            News   \n",
       "1          2            News   \n",
       "2          2            News   \n",
       "3          2            News   \n",
       "4          2            News   \n",
       "\n",
       "                                    commentBody_2018  \\\n",
       "0  How could the league possibly refuse this offe...   \n",
       "1  So then the execs can be like \"yeah...we will ...   \n",
       "2  I would not want to play chess against these c...   \n",
       "3  Could the cheerleaders join the Actors' Equity...   \n",
       "4  Seeking conclusions which support preconceived...   \n",
       "\n",
       "                                        pp_text_2017  \\\n",
       "0  [project, make, happi, 30, year, time, subscri...   \n",
       "1  [stun, photo, reportag, infuri, trump, admistr...   \n",
       "2  [brilliant, work, concept, execut, ive, never,...   \n",
       "3  [nyt, report, provid, contributor, link, crowd...   \n",
       "4                         [could, done, print, stun]   \n",
       "\n",
       "                                        pp_text_2018  \\\n",
       "0              [could, leagu, possibl, refus, offer]   \n",
       "1  [exec, like, yeahw, sit, listen, noth, suit, s...   \n",
       "2  [would, want, play, chess, cheerlead, lawyersn...   \n",
       "3  [could, cheerlead, join, actor, equiti, associ...   \n",
       "4  [seek, conclus, support, preconceiv, idea, dis...   \n",
       "\n",
       "                                       comments_2017  \\\n",
       "0  project make happi 30 year time subscrib conti...   \n",
       "1  stun photo reportag infuri trump admistr draco...   \n",
       "2  brilliant work concept execut ive never seen a...   \n",
       "3  nyt report provid contributor link crowdfund p...   \n",
       "4                              could done print stun   \n",
       "\n",
       "                                       comments_2018  \n",
       "0                    could leagu possibl refus offer  \n",
       "1         exec like yeahw sit listen noth suit settl  \n",
       "2    would want play chess cheerlead lawyersnic move  \n",
       "3  could cheerlead join actor equiti associ anoth...  \n",
       "4  seek conclus support preconceiv idea discard d...  \n",
       "\n",
       "[5 rows x 39 columns]"
      ]
     },
     "execution_count": 19,
     "metadata": {},
     "output_type": "execute_result"
    }
   ],
   "source": [
    "comments_both.head() #the comments columns are now normal strings and not lists"
   ]
  },
  {
   "cell_type": "code",
   "execution_count": 31,
   "metadata": {},
   "outputs": [
    {
     "name": "stdout",
     "output_type": "stream",
     "text": [
      "                                        comments_2018\n",
      "0                     could leagu possibl refus offer\n",
      "1          exec like yeahw sit listen noth suit settl\n",
      "2     would want play chess cheerlead lawyersnic move\n",
      "3   could cheerlead join actor equiti associ anoth...\n",
      "4   seek conclus support preconceiv idea discard d...\n",
      "5   pruitt first elimin scientist elimin sciencebr...\n",
      "6   shame attack environ research use human subjec...\n",
      "7   “it give peopl opportun real time peer review ...\n",
      "8   given recent revel mr pruitt motiv long held m...\n",
      "9   love review without want actual eat anyth serv...\n",
      "10  paulbrbrhav differ perspect andor opinion make...\n"
     ]
    }
   ],
   "source": [
    "# print out the first few rows of the cleaned text column\n",
    "print(comments_both.loc[0:10, ['comments_2018']]) # seems to work ok"
   ]
  },
  {
   "cell_type": "markdown",
   "metadata": {},
   "source": [
    "#### Before proceeding I now need to convert the text data into a term-frequency inverse document matrix (TF-IDF) which is used to convert sentences into vectors in order to get some semantic understanding. <p> To be more precise the term frequency (TF) part is made out of:</p> \n",
    "TF = Number of repetition of words in doc or sentence / number of words in sentence or doc\n",
    "\n",
    "IDF = Log of number of sentences / Number of sentences containing the word\n",
    "\n",
    "--> Aim: get the importance of a word in a sentence or document. This is vital to find out the most essential documents for a certain word. It helps to get the order of importance to identify clusters. \n",
    "\n",
    "In Sum TF-IDF  looks for a word freq in a single text, respectively to that words use across the corpus as a whole. It is a way of finding out the degree to which a term say \"violence\" is used in a document relative to other documents. \n",
    "    "
   ]
  },
  {
   "cell_type": "code",
   "execution_count": 32,
   "metadata": {},
   "outputs": [],
   "source": [
    "# I will use tfidVectorizer of the package sklearn to convert a collection of raw documents to a matrix of TF-IDF features.\n",
    "# This will compute tf-idf scores on all documents in my dataframe.\n",
    "from sklearn.feature_extraction.text import TfidfVectorizer"
   ]
  },
  {
   "cell_type": "raw",
   "metadata": {},
   "source": [
    "# max_df is used for removing terms that appear too frequently, also known as \"corpus-specific stop words\". \n",
    "# For example:\n",
    "# max_df = 0.50 means \"ignore terms that appear in more than 50% of the documents\".\n",
    "# max_df = 25 means \"ignore terms that appear in more than 25 documents\".\n",
    "# The default max_df is 1.0, which means \"ignore terms that appear in more than 100% of the documents\". \n",
    "# Thus, the default setting does not ignore any terms.\n"
   ]
  },
  {
   "cell_type": "code",
   "execution_count": 33,
   "metadata": {},
   "outputs": [
    {
     "name": "stdout",
     "output_type": "stream",
     "text": [
      "0         project make happi 30 year time subscrib conti...\n",
      "1         stun photo reportag infuri trump admistr draco...\n",
      "2         brilliant work concept execut ive never seen a...\n",
      "3         nyt report provid contributor link crowdfund p...\n",
      "4                                     could done print stun\n",
      "                                ...                        \n",
      "243827          sorri pud noth desert one deserv henc singl\n",
      "243828    would quit punni spell dessert phrase desert t...\n",
      "243829                            see comment desert proper\n",
      "243830    john rubinstein two brief scene joan crawford ...\n",
      "243831    ye god littl fish stu your right memori serv p...\n",
      "Name: comments_2017, Length: 243832, dtype: object\n"
     ]
    }
   ],
   "source": [
    "# lets look at the column i need to analyze\n",
    "print(comments_both.comments_2017)\n",
    "# I have 243.832 comments and the datatype is string(object)"
   ]
  },
  {
   "cell_type": "code",
   "execution_count": 66,
   "metadata": {},
   "outputs": [],
   "source": [
    "# intitiate TF-IDF Vectorizer\n",
    "tfidf = TfidfVectorizer()"
   ]
  },
  {
   "cell_type": "raw",
   "metadata": {},
   "source": [
    "#token_matrix = tfidf.fit_transform(comments_both.comments_2017) # vectorize the text and add to matrix. \n",
    "token_matrix_2017 = tfidf.fit_transform(comments_both.comments_2017) #for the 2017 comments\n",
    "token_matrix_2017"
   ]
  },
  {
   "cell_type": "markdown",
   "metadata": {},
   "source": [
    "#### as there was an index error with the LDA function I try this as an alternative. I cannot use one dataframe for both when I want to apply the lda function on the text data. So I need to do it seperately for each year dataframe. "
   ]
  },
  {
   "cell_type": "code",
   "execution_count": 26,
   "metadata": {},
   "outputs": [
    {
     "ename": "KeyboardInterrupt",
     "evalue": "",
     "output_type": "error",
     "traceback": [
      "\u001b[1;31m---------------------------------------------------------------------------\u001b[0m",
      "\u001b[1;31mKeyboardInterrupt\u001b[0m                         Traceback (most recent call last)",
      "\u001b[1;32m<ipython-input-26-18ad98525875>\u001b[0m in \u001b[0;36m<module>\u001b[1;34m\u001b[0m\n\u001b[1;32m----> 1\u001b[1;33m \u001b[0mcomments_2017\u001b[0m\u001b[1;33m[\u001b[0m\u001b[1;34m\"pp_text\"\u001b[0m\u001b[1;33m]\u001b[0m \u001b[1;33m=\u001b[0m \u001b[0mcomments_2017\u001b[0m\u001b[1;33m[\u001b[0m\u001b[1;34m\"commentBody\"\u001b[0m\u001b[1;33m]\u001b[0m\u001b[1;33m.\u001b[0m\u001b[0mapply\u001b[0m\u001b[1;33m(\u001b[0m\u001b[0mtokenizer\u001b[0m\u001b[1;33m)\u001b[0m\u001b[1;33m\u001b[0m\u001b[1;33m\u001b[0m\u001b[0m\n\u001b[0m",
      "\u001b[1;32m~\\Anaconda3\\lib\\site-packages\\pandas\\core\\series.py\u001b[0m in \u001b[0;36mapply\u001b[1;34m(self, func, convert_dtype, args, **kwds)\u001b[0m\n\u001b[0;32m   4040\u001b[0m             \u001b[1;32melse\u001b[0m\u001b[1;33m:\u001b[0m\u001b[1;33m\u001b[0m\u001b[1;33m\u001b[0m\u001b[0m\n\u001b[0;32m   4041\u001b[0m                 \u001b[0mvalues\u001b[0m \u001b[1;33m=\u001b[0m \u001b[0mself\u001b[0m\u001b[1;33m.\u001b[0m\u001b[0mastype\u001b[0m\u001b[1;33m(\u001b[0m\u001b[0mobject\u001b[0m\u001b[1;33m)\u001b[0m\u001b[1;33m.\u001b[0m\u001b[0mvalues\u001b[0m\u001b[1;33m\u001b[0m\u001b[1;33m\u001b[0m\u001b[0m\n\u001b[1;32m-> 4042\u001b[1;33m                 \u001b[0mmapped\u001b[0m \u001b[1;33m=\u001b[0m \u001b[0mlib\u001b[0m\u001b[1;33m.\u001b[0m\u001b[0mmap_infer\u001b[0m\u001b[1;33m(\u001b[0m\u001b[0mvalues\u001b[0m\u001b[1;33m,\u001b[0m \u001b[0mf\u001b[0m\u001b[1;33m,\u001b[0m \u001b[0mconvert\u001b[0m\u001b[1;33m=\u001b[0m\u001b[0mconvert_dtype\u001b[0m\u001b[1;33m)\u001b[0m\u001b[1;33m\u001b[0m\u001b[1;33m\u001b[0m\u001b[0m\n\u001b[0m\u001b[0;32m   4043\u001b[0m \u001b[1;33m\u001b[0m\u001b[0m\n\u001b[0;32m   4044\u001b[0m         \u001b[1;32mif\u001b[0m \u001b[0mlen\u001b[0m\u001b[1;33m(\u001b[0m\u001b[0mmapped\u001b[0m\u001b[1;33m)\u001b[0m \u001b[1;32mand\u001b[0m \u001b[0misinstance\u001b[0m\u001b[1;33m(\u001b[0m\u001b[0mmapped\u001b[0m\u001b[1;33m[\u001b[0m\u001b[1;36m0\u001b[0m\u001b[1;33m]\u001b[0m\u001b[1;33m,\u001b[0m \u001b[0mSeries\u001b[0m\u001b[1;33m)\u001b[0m\u001b[1;33m:\u001b[0m\u001b[1;33m\u001b[0m\u001b[1;33m\u001b[0m\u001b[0m\n",
      "\u001b[1;32mpandas\\_libs\\lib.pyx\u001b[0m in \u001b[0;36mpandas._libs.lib.map_infer\u001b[1;34m()\u001b[0m\n",
      "\u001b[1;32m<ipython-input-13-0f935159687f>\u001b[0m in \u001b[0;36mtokenizer\u001b[1;34m(text)\u001b[0m\n\u001b[0;32m     30\u001b[0m             \u001b[0mtoken_stemmed\u001b[0m \u001b[1;33m=\u001b[0m \u001b[0mstemmer\u001b[0m\u001b[1;33m.\u001b[0m\u001b[0mstem\u001b[0m\u001b[1;33m(\u001b[0m\u001b[0mtoken\u001b[0m\u001b[1;33m)\u001b[0m\u001b[1;33m\u001b[0m\u001b[1;33m\u001b[0m\u001b[0m\n\u001b[0;32m     31\u001b[0m             \u001b[1;31m#appending our finalized cleaned token\u001b[0m\u001b[1;33m\u001b[0m\u001b[1;33m\u001b[0m\u001b[1;33m\u001b[0m\u001b[0m\n\u001b[1;32m---> 32\u001b[1;33m             \u001b[0mcleaned_tokens\u001b[0m\u001b[1;33m.\u001b[0m\u001b[0mappend\u001b[0m\u001b[1;33m(\u001b[0m\u001b[0mtoken_stemmed\u001b[0m\u001b[1;33m)\u001b[0m\u001b[1;33m\u001b[0m\u001b[1;33m\u001b[0m\u001b[0m\n\u001b[0m\u001b[0;32m     33\u001b[0m \u001b[1;33m\u001b[0m\u001b[0m\n\u001b[0;32m     34\u001b[0m     \u001b[1;32mreturn\u001b[0m \u001b[0mcleaned_tokens\u001b[0m\u001b[1;33m\u001b[0m\u001b[1;33m\u001b[0m\u001b[0m\n",
      "\u001b[1;31mKeyboardInterrupt\u001b[0m: "
     ]
    }
   ],
   "source": [
    "comments_2017[\"pp_text\"] = comments_2017[\"commentBody\"].apply(tokenizer)"
   ]
  },
  {
   "cell_type": "code",
   "execution_count": 25,
   "metadata": {},
   "outputs": [
    {
     "ename": "AttributeError",
     "evalue": "'DataFrame' object has no attribute 'pp_text'",
     "output_type": "error",
     "traceback": [
      "\u001b[1;31m---------------------------------------------------------------------------\u001b[0m",
      "\u001b[1;31mAttributeError\u001b[0m                            Traceback (most recent call last)",
      "\u001b[1;32m<ipython-input-25-6863f72c4302>\u001b[0m in \u001b[0;36m<module>\u001b[1;34m\u001b[0m\n\u001b[1;32m----> 1\u001b[1;33m \u001b[0mcomments_2017\u001b[0m\u001b[1;33m[\u001b[0m\u001b[1;34m'new_text'\u001b[0m\u001b[1;33m]\u001b[0m \u001b[1;33m=\u001b[0m \u001b[0mcomments_2017\u001b[0m\u001b[1;33m.\u001b[0m\u001b[0mpp_text\u001b[0m\u001b[1;33m.\u001b[0m\u001b[0mapply\u001b[0m\u001b[1;33m(\u001b[0m\u001b[0mlist2text\u001b[0m\u001b[1;33m)\u001b[0m\u001b[1;33m\u001b[0m\u001b[1;33m\u001b[0m\u001b[0m\n\u001b[0m",
      "\u001b[1;32m~\\Anaconda3\\lib\\site-packages\\pandas\\core\\generic.py\u001b[0m in \u001b[0;36m__getattr__\u001b[1;34m(self, name)\u001b[0m\n\u001b[0;32m   5177\u001b[0m             \u001b[1;32mif\u001b[0m \u001b[0mself\u001b[0m\u001b[1;33m.\u001b[0m\u001b[0m_info_axis\u001b[0m\u001b[1;33m.\u001b[0m\u001b[0m_can_hold_identifiers_and_holds_name\u001b[0m\u001b[1;33m(\u001b[0m\u001b[0mname\u001b[0m\u001b[1;33m)\u001b[0m\u001b[1;33m:\u001b[0m\u001b[1;33m\u001b[0m\u001b[1;33m\u001b[0m\u001b[0m\n\u001b[0;32m   5178\u001b[0m                 \u001b[1;32mreturn\u001b[0m \u001b[0mself\u001b[0m\u001b[1;33m[\u001b[0m\u001b[0mname\u001b[0m\u001b[1;33m]\u001b[0m\u001b[1;33m\u001b[0m\u001b[1;33m\u001b[0m\u001b[0m\n\u001b[1;32m-> 5179\u001b[1;33m             \u001b[1;32mreturn\u001b[0m \u001b[0mobject\u001b[0m\u001b[1;33m.\u001b[0m\u001b[0m__getattribute__\u001b[0m\u001b[1;33m(\u001b[0m\u001b[0mself\u001b[0m\u001b[1;33m,\u001b[0m \u001b[0mname\u001b[0m\u001b[1;33m)\u001b[0m\u001b[1;33m\u001b[0m\u001b[1;33m\u001b[0m\u001b[0m\n\u001b[0m\u001b[0;32m   5180\u001b[0m \u001b[1;33m\u001b[0m\u001b[0m\n\u001b[0;32m   5181\u001b[0m     \u001b[1;32mdef\u001b[0m \u001b[0m__setattr__\u001b[0m\u001b[1;33m(\u001b[0m\u001b[0mself\u001b[0m\u001b[1;33m,\u001b[0m \u001b[0mname\u001b[0m\u001b[1;33m,\u001b[0m \u001b[0mvalue\u001b[0m\u001b[1;33m)\u001b[0m\u001b[1;33m:\u001b[0m\u001b[1;33m\u001b[0m\u001b[1;33m\u001b[0m\u001b[0m\n",
      "\u001b[1;31mAttributeError\u001b[0m: 'DataFrame' object has no attribute 'pp_text'"
     ]
    }
   ],
   "source": [
    "comments_2017['new_text'] = comments_2017.pp_text.apply(list2text)"
   ]
  },
  {
   "cell_type": "code",
   "execution_count": 67,
   "metadata": {},
   "outputs": [
    {
     "data": {
      "text/plain": [
       "<243832x288536 sparse matrix of type '<class 'numpy.float64'>'\n",
       "\twith 8014149 stored elements in Compressed Sparse Row format>"
      ]
     },
     "execution_count": 67,
     "metadata": {},
     "output_type": "execute_result"
    }
   ],
   "source": [
    "#token_matrix = tfidf.fit_transform(comments_2017.commentBody)\n",
    "token_matrix_2017 = tfidf.fit_transform(comments_2017.new_text)\n",
    "token_matrix"
   ]
  },
  {
   "cell_type": "code",
   "execution_count": 51,
   "metadata": {},
   "outputs": [],
   "source": [
    "# same thing but with 2018\n",
    "\n",
    "comments_2018[\"pp_text\"] = comments_2018[\"commentBody\"].apply(tokenizer)"
   ]
  },
  {
   "cell_type": "code",
   "execution_count": 52,
   "metadata": {},
   "outputs": [],
   "source": [
    "comments_2018['new_text'] = comments_2018.pp_text.apply(list2text)"
   ]
  },
  {
   "cell_type": "code",
   "execution_count": 55,
   "metadata": {},
   "outputs": [
    {
     "data": {
      "text/plain": [
       "<264924x264791 sparse matrix of type '<class 'numpy.float64'>'\n",
       "\twith 8159405 stored elements in Compressed Sparse Row format>"
      ]
     },
     "execution_count": 55,
     "metadata": {},
     "output_type": "execute_result"
    }
   ],
   "source": [
    "token_matrix_2018 = tfidf.fit_transform(comments_2018.new_text) #for the 2018 comments\n",
    "token_matrix_2018"
   ]
  },
  {
   "cell_type": "code",
   "execution_count": 68,
   "metadata": {
    "tags": []
   },
   "outputs": [
    {
     "data": {
      "text/plain": [
       "['00',\n",
       " '000',\n",
       " '000000000000001',\n",
       " '00000001',\n",
       " '0000001',\n",
       " '000000305',\n",
       " '0000004',\n",
       " '000000s',\n",
       " '000001',\n",
       " '000004',\n",
       " '00001',\n",
       " '0000305',\n",
       " '00004',\n",
       " '00005',\n",
       " '00009',\n",
       " '0001',\n",
       " '0001brbrwhi',\n",
       " '0002',\n",
       " '0003',\n",
       " '0004']"
      ]
     },
     "execution_count": 68,
     "metadata": {},
     "output_type": "execute_result"
    }
   ],
   "source": [
    "feature_names = tfidf.get_feature_names() #or also token names\n",
    "feature_names[0:20]"
   ]
  },
  {
   "cell_type": "markdown",
   "metadata": {},
   "source": [
    "#### Topic Modeling with LDA (Latent Dirichlet Allocation): algorithm used to classify text in a document to a particular topic. It builds a topic per document model and words per topic model. "
   ]
  },
  {
   "cell_type": "markdown",
   "metadata": {},
   "source": [
    "### Topic models for the comments of 2017. \n",
    "#### once with 10 topics and 20 words per topic and once with 8 topics and 15 words per topic"
   ]
  },
  {
   "cell_type": "code",
   "execution_count": 70,
   "metadata": {},
   "outputs": [
    {
     "name": "stdout",
     "output_type": "stream",
     "text": [
      "Topic 0: bravo, feather, bird, kendal, rattlesnak, yay, truer, laughingstock, jenner, chez, denni, misspel, cur, burk, southi, nous, hee, baja, eisenberg, mol\n",
      "Topic 1: tax, unit, airlin, pay, passeng, would, get, fli, peopl, flight, us, compani, need, money, job, corpor, like, work, busi, go\n",
      "Topic 2: candi, cotton, cemeteri, sell, graveyard, brtrump, grave, taser, ouch, edgar, nhl, citat, unit, cpd, fixx, jest, dvr, elmer, sceptic, 124\n",
      "Topic 3: chemic, assad, weapon, syrian, syria, yes, attack, reid, bomb, gas, harri, rebel, civilian, russia, garland, isi, sarin, russian, missil, gorsuch\n",
      "Topic 4: tax, deduct, incom, loan, cut, rate, pay, medic, cancer, statin, diet, diabet, bracket, elimin, amt, sugar, patient, lower, debt, diseas\n",
      "Topic 5: deer, parad, bucket, cross, splash, band, brilliant, road, water, dress, march, flower, pictur, tradit, photoshop, herd, skunk, wear, kakistocraci, look\n",
      "Topic 6: exact, lock, lol, shark, deja, riddanc, vu, petoskey, asol, pea, brbra, brhe, veep, cobra, toto, sociopathi, jarrett, rubbish, diddley, oreili\n",
      "Topic 7: trump, peopl, would, one, like, presid, us, get, time, think, make, dont, republican, go, know, right, vote, need, mani, good\n",
      "Topic 8: coffe, salt, lamb, cook, thyroid, tast, cup, excel, ham, wine, microwav, food, roast, eat, restaur, recip, asparagus, bingo, flavor, dish\n",
      "Topic 9: said, well, swamp, pet, drain, rat, dog, wag, peroid, spot, congratul, ditto, larri, cat, laffer, noam, chomski, leaker, shelter, sean\n"
     ]
    }
   ],
   "source": [
    "# First with 10 topics and 20 words per topic\n",
    "\n",
    "# Import LDA topic modelling plugin from sklearn\n",
    "from sklearn.decomposition import LatentDirichletAllocation as LDA #LDA algorithm will be applied\n",
    "\n",
    "# I want 10 topics generated  \n",
    "num_topics = 10\n",
    "\n",
    "# instatiate LDA model\n",
    "lda_model = LDA(n_components = num_topics, n_jobs = 1)\n",
    "lda_model.fit(token_matrix_2017) #fit the tf_idf matrix and apply lda on the 2017 comments\n",
    "\n",
    "# Looking for the top 20 words for each topic\n",
    "top_n_words = 20\n",
    "\n",
    "# Enumerate() method adds a counter to an iterable and returns it in a form of enumerate object. \n",
    "# This enumerate object can then be used directly in for loops or be converted into a list of tuples using list() method.\n",
    "for topic_num, topic in enumerate (lda_model.components_):\n",
    "    top_tokens = [feature_names[i] for i in topic.argsort()][::-1][:top_n_words] # #Returns the indices that would sort an array. I use the token or feature names from my tf-idf matrix\n",
    "    top_n = ', '.join(top_tokens) \n",
    "    print(f'Topic {topic_num}: {top_n}')    "
   ]
  },
  {
   "cell_type": "markdown",
   "metadata": {},
   "source": [
    "#### Now with 8 topics and 15 words per topic. The reason for using less topics is that there was too much of an overlap between some topics. "
   ]
  },
  {
   "cell_type": "code",
   "execution_count": 57,
   "metadata": {},
   "outputs": [
    {
     "name": "stdout",
     "output_type": "stream",
     "text": [
      "Topic 0: airlin, unit, passeng, flight, fli, seat, plane, custom, overbook, employe, board, crew, ticket, ual, munoz\n",
      "Topic 1: bird, feather, congratul, iodin, python, riddanc, ditto, monti, soylent, brbra, asol, brtrump, twobit, yay, h2b\n",
      "Topic 2: amen, di, bravo, modica, bull, fearless, trey, sculptur, girl, arturo, lara, hrefhttpsemcphdwordpresscom, targetblankhttpsemcphdwordpresscoma, titlehttpsemcphdwordpresscom, hyena\n",
      "Topic 3: harri, reid, brilliant, bingo, lol, garland, sotomayor, nail, kagan, thank, merrick, scorpion, gorsuch, deja, vu\n",
      "Topic 4: candi, grave, cotton, cemeteri, graveyard, pictur, man, tombston, flower, sell, notebook, graveston, look, festiv, bag\n",
      "Topic 5: tax, peopl, would, get, pay, like, work, year, one, go, make, need, dont, time, money\n",
      "Topic 6: korea, north, weapon, china, war, nuclear, korean, missil, bomb, chemic, kim, assad, syria, yes, south\n",
      "Topic 7: trump, peopl, presid, would, one, like, us, time, think, get, republican, vote, right, make, dont\n"
     ]
    }
   ],
   "source": [
    "# First with 8 topics and 15 words per topic\n",
    "\n",
    "\n",
    "# Import LDA topic modelling plugin from sklearn\n",
    "from sklearn.decomposition import LatentDirichletAllocation as LDA #LDA algorithm will be applied\n",
    "\n",
    "# I want 8 topics generated  \n",
    "num_topics = 8\n",
    "\n",
    "# instatiate LDA model\n",
    "lda_model = LDA(n_components = num_topics, n_jobs = 1)\n",
    "lda_model.fit(token_matrix_2017) #fit the tf_idf matrix and apply lda on the 2017 comments\n",
    "\n",
    "# Looking for the top 15 words for each topic\n",
    "top_n_words = 15\n",
    "\n",
    "# Enumerate() method adds a counter to an iterable and returns it in a form of enumerate object. \n",
    "# This enumerate object can then be used directly in for loops or be converted into a list of tuples using list() method.\n",
    "for topic_num, topic in enumerate (lda_model.components_):\n",
    "    top_tokens = [feature_names[i] for i in topic.argsort()][::-1][:top_n_words] # #Returns the indices that would sort an array. I use the token or feature names from my tf-idf matrix\n",
    "    top_n = ', '.join(top_tokens) \n",
    "    print(f'Topic {topic_num}: {top_n}')    "
   ]
  },
  {
   "cell_type": "markdown",
   "metadata": {},
   "source": [
    "### Topic models for the comments of 2018. \n",
    "#### once with 10 topics and 20 words per topic and once with 8 topics and 20 words per topic"
   ]
  },
  {
   "cell_type": "code",
   "execution_count": 58,
   "metadata": {},
   "outputs": [
    {
     "name": "stdout",
     "output_type": "stream",
     "text": [
      "Topic 0: elsebrar, lamedvavnik, radiationbrsupernova, inuit, extremey, statisticsth, countryunredeem, rolebrgood, millionairestooligarch, placebrbrwhen, icbmsand, 799brusa, dontbrdont, brpear, nontrivi, garlandbrh, idealsbrpresid, behindbrbrth, somethingbrmov, nontang\n",
      "Topic 1: semir, diplomacyspecif, goldbr, improvedbrbrwhen, machinebrnow, onhigh, staminapres, groupbrwho, contiu, fencesit, titlehttpswwwnytimescom20170828climatehowhurricaneharveybecamesodestructivehtmlmcubz1, alinski, rubblebrth, decisionbrbrth, goodbyebrproverbi, morrissey, capitalismbrbrdont, goalsbrbrsom, historyno, bybrthough\n",
      "Topic 2: continentalwid, hiphopbrfor, jobbik, solkatron, sectiondoesnt, brbrtheskimm, titlehttpswwwcensusgovcontentdamcensuslibrarypublications2016demop20578pdf, providea, titlehttpswwwcbogovpublication52493, enron, prosecutionbrbrth, credibilitybrbrgorsuch, targetblankhttpwwwpoliticocomstory201704gorsuchwritingssupremecourt236891a, shameless, puncher, obligations, numbersbrexcel, cutlik, creditablilybrbrmr, systembrrepatri\n",
      "Topic 3: downbrthousand, nycbrwhil, newyorkes, peoplebrbr7, russianrefuge, dayton, fierc, gear, sanebrand, chineseinfluenc, mostbrbrdid, pucker, planningbrbrso, joural, pollsbrbrbi, spiracl, cutsbrbrif, planebrpeopl, blocker, cheeringbrbrgorsuch\n",
      "Topic 4: notbrlw4, thatbrnot, tortureon, moviego, itinde, todaytomorrow, snapjudg, flyboy, targetblankhttpswwwnytimescom20170309learninglessonplanstexttotextthabrbra, kingsbrbrthes, congressmanjohn, matchedbrbrth, traumat, sadbrbrand, altogetherbrbri, stonebrbrth, knowsand, forbrthat, nonsed, quaver\n",
      "Topic 5: gainbra, notbrlw4, moviego, itinde, titlewwwlaregledujeuorg, tortureon, starsbrher, stonebrbrth, flyboy, itbrbrnobodi, oliar, didbrbrfast, lengl, kingsbrbrthes, traumat, inequalitybrbrth, knowsand, matchedbrbrth, jeaporad, presidentbrbreven\n",
      "Topic 6: targetblankhttpswwwnytimescom20170309learninglessonplanstexttotextthabrbra, outbrbrwant, tortureon, porc, itinde, moviego, civiliansbrbrne, thoughbrbrj, flyboy, donuat, stonebrbrth, inequalitybrbrth, notbrlw4, machinesbrjust, damag, magnin, starsbrher, thatbrnot, forbrthat, puritan\n",
      "Topic 7: hrefhttpwwwnytimescom20120106worldamericasmigrantsnewpathsreshapinglatinamericahtml, sercial, artbrcolor, catastrophicallybrbrbut, nicebrbrrecip, hrefhttpwwwbfarmdedebundesopiumstellebetaeubungsmittelerlaubnisnodehtml, titlehttpstalkingpointsmemocomdcsurveillanceexpertsswatdownsusanriceunmaskinghysteria, hrefhttpwwwnytimescom20111207opinionrememberingpearlharborhtml, targetblankhttpstinyurlcommp57qhpabrbrto, seriouslybrdav, asofyet, timebrlook, biopsychosoci, fisk, ludicrousbrh, generalsbrbrbut, berger, alread, hrefhttpwwwcoalitionforpublicsafetyorgwhyjusticereform, apologistbrbrth\n",
      "Topic 8: longerbrperhap, capitalismbrbrne, jobsamp, rulebrbrkristoff, iscrazi, punishedbrbr1151, transactionbrnot, juicesbrbrfor, acidbrid, meed, cesc, targetblankhttpswwwnytimescom20170706welllivedrowningwithoutwaterhtmla, puddinghead, dietsch, kellysam, tillmanbrbrattack, atrocitiesbra, bedpartn, liarbrwhi, forgetbrbrpengelli\n",
      "Topic 9: soulbrbr, infrastructurebrbr3, indeedbrbrlet, microstalin, titlehttpswwwnytimescom20161010tmagazinefashionnomakeupmovementaliciakeyshtmlr0, protectivist, aggreement, noodg, ingnorqnc, owo, meekbrsom, clarity007, bankruptcybrbrif, roddybrim, minutesbrbrth, elysian, friendsbrbrour, bombbrbrgood, brbrprevent, juman\n"
     ]
    }
   ],
   "source": [
    "# First with 10 topics and 20 words per topic\n",
    "\n",
    "# Import LDA topic modelling plugin from sklearn\n",
    "from sklearn.decomposition import LatentDirichletAllocation as LDA #LDA algorithm will be applied\n",
    "\n",
    "# I want 10 topics generated  \n",
    "num_topics = 10\n",
    "\n",
    "# instatiate LDA model\n",
    "lda_model = LDA(n_components = num_topics, n_jobs = 1)\n",
    "lda_model.fit(token_matrix_2018) #fit the tf_idf matrix and apply lda on the 2017 comments\n",
    "\n",
    "# Looking for the top 20 words for each topic\n",
    "top_n_words = 20\n",
    "\n",
    "# Enumerate() method adds a counter to an iterable and returns it in a form of enumerate object. \n",
    "# This enumerate object can then be used directly in for loops or be converted into a list of tuples using list() method.\n",
    "for topic_num, topic in enumerate (lda_model.components_):\n",
    "    top_tokens = [feature_names[i] for i in topic.argsort()][::-1][:top_n_words] # #Returns the indices that would sort an array. I use the token or feature names from my tf-idf matrix\n",
    "    top_n = ', '.join(top_tokens) \n",
    "    print(f'Topic {topic_num}: {top_n}')    "
   ]
  },
  {
   "cell_type": "code",
   "execution_count": 59,
   "metadata": {},
   "outputs": [
    {
     "name": "stdout",
     "output_type": "stream",
     "text": [
      "Topic 0: gainbra, hrefhttpwwwnytimescom20120106worldamericasmigrantsnewpathsreshapinglatinamericahtml, notbrlw4, presidentbrbreven, incorrectlybrbrgoogl, nicebrbrrecip, tortureon, oliar, moviego, thatbrnot, titlehttpswwwnytimescominteractive20160811magazineisismiddleeastarabspringfracturedlandshtmlr0, itinde, jeaporad, bestfriend, altogetherbrbri, congressmanjohn, relationsbrth, malachi, blamedismiss, sadbrbrand\n",
      "Topic 1: notbrlw4, itinde, moviego, tortureon, todaytomorrow, flyboy, kingsbrbrthes, thatbrnot, starsbrher, matchedbrbrth, didbrbrfast, traumat, titlewwwlaregledujeuorg, quaver, stonebrbrth, knowsand, forbrthat, jeaporad, nonsed, timebrbr2\n",
      "Topic 2: bombbrbrgood, longerbrperhap, capitalismbrbrne, juicesbrbrfor, iscrazi, transactionbrnot, depend, shameless, targetblankhttpswwwyoutubecomwatchv49j47ou2rd8abrbrth, koreass, titlehttpswwwcensusgovcontentdamcensuslibrarypublications2016demop20578pdf, symptomless, disgard, titlehttpswwwcbogovpublication52493, lamedvavnik, kellysam, improvedbrbrwhen, hadbrtrump, atul, brwow\n",
      "Topic 3: soulbrbr, clarity007, peoplebrbr7, arena, pieintheski, friendsbrbrour, traumat, juman, elsebrar, moviego, itinde, stonebrbrth, salad, elysian, statisticsth, desk, flyboy, dischargedbrbri, saybrbrif, malpracticebrin\n",
      "Topic 4: berger, disadvantagebrtoo, protectivist, catullus, titlehttpswwwnytimescom20161010tmagazinefashionnomakeupmovementaliciakeyshtmlr0, everybodybrbrinstead, soulbrbr, discretionari, continentalwid, bigbuck, benev, hiphopbrfor, creditand, brbrprevent, rulebrbrkristoff, sectiondoesnt, deppress, dayton, checkin, extremey\n",
      "Topic 5: semir, diplomacyspecif, goldbr, replant, nicholasbrbryou, alinski, inclinedbrbrpercept, complicitbrbrregrett, shimer, stripebrbrthen, hardingcoolidg, icbmsand, newsbrbrcut, complicationsbrbri, 9brmuellerbr8, trumpbra, 41606brnytim, bridgebri, rapebrbri, doesbrbryou\n",
      "Topic 6: targetblankhttpswwwnytimescom20170309learninglessonplanstexttotextthabrbra, outbrbrwant, tortureon, porc, itinde, moviego, thatbrnot, notbrlw4, thoughbrbrj, flyboy, stonebrbrth, damag, starsbrher, donuat, inequalitybrbrth, congressmanjohn, forbrthat, machinesbrjust, civiliansbrbrne, matchedbrbrth\n",
      "Topic 7: aggreement, gasboth, fierc, countryunredeem, dietsch, millionairestooligarch, manhattenit, ideologybrread, liarbrwhi, peacebrbrh, goodbrw, puddinghead, goodbrviol, targetblankhttpswwwnytimescom20170503artsmusicabusyweekforyannicknea, confrontationbrwhat, multilateri, foolishhuman, hypertroph, publiclyprovid, immigrantsbr1\n"
     ]
    }
   ],
   "source": [
    "# First with 8 topics and 20 words per topic\n",
    "\n",
    "\n",
    "# Import LDA topic modelling plugin from sklearn\n",
    "from sklearn.decomposition import LatentDirichletAllocation as LDA #LDA algorithm will be applied\n",
    "\n",
    "# I want 8 topics generated  \n",
    "num_topics = 8\n",
    "\n",
    "# instatiate LDA model\n",
    "lda_model = LDA(n_components = num_topics, n_jobs = 1)\n",
    "lda_model.fit(token_matrix_2018) #fit the tf_idf matrix and apply lda on the 2017 comments\n",
    "\n",
    "# Looking for the top 20 words for each topic\n",
    "top_n_words = 20\n",
    "\n",
    "# Enumerate() method adds a counter to an iterable and returns it in a form of enumerate object. \n",
    "# This enumerate object can then be used directly in for loops or be converted into a list of tuples using list() method.\n",
    "for topic_num, topic in enumerate (lda_model.components_):\n",
    "    top_tokens = [feature_names[i] for i in topic.argsort()][::-1][:top_n_words] # #Returns the indices that would sort an array. I use the token or feature names from my tf-idf matrix\n",
    "    top_n = ', '.join(top_tokens) \n",
    "    print(f'Topic {topic_num}: {top_n}')    "
   ]
  },
  {
   "cell_type": "markdown",
   "metadata": {},
   "source": [
    "#### Visualizing topics generated by the LDA model with the pyLDAvis plugin: The pyLDAvis plugin generates an interactive plot, which in my opinion makes easier for me in analyzing the various topics generated as well as how well my LDA model performed."
   ]
  },
  {
   "cell_type": "code",
   "execution_count": 60,
   "metadata": {},
   "outputs": [
    {
     "name": "stderr",
     "output_type": "stream",
     "text": [
      "C:\\Users\\Surya\\Anaconda3\\lib\\site-packages\\past\\builtins\\misc.py:4: DeprecationWarning: Using or importing the ABCs from 'collections' instead of from 'collections.abc' is deprecated, and in 3.8 it will stop working\n",
      "  from collections import Mapping\n"
     ]
    }
   ],
   "source": [
    "#Import visualization tools for LDA models\n",
    "import pyLDAvis\n",
    "import pyLDAvis.sklearn\n",
    "pyLDAvis.enable_notebook()"
   ]
  },
  {
   "cell_type": "code",
   "execution_count": 71,
   "metadata": {},
   "outputs": [
    {
     "data": {
      "text/html": [
       "\n",
       "<link rel=\"stylesheet\" type=\"text/css\" href=\"https://cdn.jsdelivr.net/gh/bmabey/pyLDAvis@3.3.1/pyLDAvis/js/ldavis.v1.0.0.css\">\n",
       "\n",
       "\n",
       "<div id=\"ldavis_el1096021202378307287321817387\"></div>\n",
       "<script type=\"text/javascript\">\n",
       "\n",
       "var ldavis_el1096021202378307287321817387_data = {\"mdsDat\": {\"x\": [0.42950551449131574, 0.2983163296380732, -0.03664658823477836, -0.0976813628430551, -0.09966134958600215, -0.06264863283195138, -0.10617048121993601, -0.1100692762185902, -0.1051317366236394, -0.1098124165714362], \"y\": [-0.04095783380891728, 0.05430494668717041, 0.05223557319973774, 0.002579371344630701, -0.004042009222974121, -0.08304667602226984, 0.005545781974570996, 0.005457276035586203, 0.0025136222388431476, 0.005409947573622182], \"topics\": [1, 2, 3, 4, 5, 6, 7, 8, 9, 10], \"cluster\": [1, 1, 1, 1, 1, 1, 1, 1, 1, 1], \"Freq\": [66.74503829016825, 14.092031062900451, 2.561366096469036, 2.5573885820104407, 2.4505225605994325, 2.4292944454803242, 2.3374797155778815, 2.3046234938472665, 2.2884200279045865, 2.233835725042336]}, \"tinfo\": {\"Term\": [\"tax\", \"assad\", \"unit\", \"pay\", \"syria\", \"airlin\", \"said\", \"attack\", \"yes\", \"well\", \"would\", \"weapon\", \"chemic\", \"get\", \"russia\", \"syrian\", \"passeng\", \"peopl\", \"job\", \"russian\", \"money\", \"us\", \"bomb\", \"exact\", \"cut\", \"need\", \"corpor\", \"fli\", \"compani\", \"work\", \"comey\", \"christian\", \"douthat\", \"erdogan\", \"pen\", \"cathol\", \"bannon\", \"religion\", \"penc\", \"hillari\", \"jesus\", \"narcissist\", \"coher\", \"bigotri\", \"ossoff\", \"misogyni\", \"misogynist\", \"le\", \"jew\", \"impuls\", \"religi\", \"hrc\", \"macron\", \"jimmi\", \"charl\", \"carter\", \"holocaust\", \"antisemit\", \"tomboy\", \"hatr\", \"clinton\", \"elect\", \"speech\", \"candid\", \"vote\", \"voter\", \"presid\", \"democrat\", \"brook\", \"oreilli\", \"parti\", \"impeach\", \"democraci\", \"column\", \"sexual\", \"tweet\", \"elector\", \"women\", \"trump\", \"obama\", \"hes\", \"white\", \"fox\", \"truth\", \"republican\", \"polit\", \"news\", \"lie\", \"men\", \"liber\", \"conserv\", \"war\", \"read\", \"donald\", \"administr\", \"mr\", \"support\", \"think\", \"thank\", \"believ\", \"know\", \"one\", \"right\", \"peopl\", \"like\", \"time\", \"say\", \"world\", \"would\", \"thing\", \"us\", \"dont\", \"see\", \"make\", \"get\", \"go\", \"mani\", \"countri\", \"even\", \"good\", \"need\", \"year\", \"want\", \"way\", \"american\", \"work\", \"overbook\", \"ual\", \"louisvill\", \"ua\", \"modica\", \"reaccommod\", \"lyft\", \"airbnb\", \"luggag\", \"amtrak\", \"faa\", \"airlin\", \"deplan\", \"railway\", \"pd\", \"aviat\", \"flight\", \"passeng\", \"mta\", \"munoz\", \"lirr\", \"h1b\", \"manhandl\", \"noshow\", \"rebook\", \"ohar\", \"driverless\", \"oligopoli\", \"reaccomod\", \"nonrefund\", \"taxi\", \"custom\", \"uber\", \"di\", \"flyer\", \"flown\", \"fli\", \"delta\", \"cab\", \"employe\", \"plane\", \"retail\", \"visa\", \"transport\", \"bump\", \"ticket\", \"unit\", \"airport\", \"compani\", \"crew\", \"ceo\", \"worker\", \"driver\", \"price\", \"seat\", \"pay\", \"servic\", \"travel\", \"tax\", \"corpor\", \"cost\", \"wage\", \"profit\", \"car\", \"insur\", \"industri\", \"market\", \"busi\", \"job\", \"money\", \"would\", \"get\", \"need\", \"work\", \"us\", \"peopl\", \"like\", \"go\", \"make\", \"one\", \"state\", \"dont\", \"year\", \"statin\", \"cholesterol\", \"glucos\", \"prostat\", \"ulrich\", \"tenderloin\", \"henrietta\", \"quayl\", \"earhart\", \"tsiman\", \"unbeholden\", \"ldl\", \"pretax\", \"disinfect\", \"carb\", \"sirhan\", \"osteopath\", \"amelia\", \"mankiw\", \"carbohydr\", \"coca\", \"dl\", \"prednison\", \"filer\", \"mammogram\", \"laffabl\", \"psa\", \"pslf\", \"subprim\", \"orthopedist\", \"iodin\", \"sugari\", \"amt\", \"hallelujah\", \"diabet\", \"insulin\", \"bracket\", \"deduct\", \"mae\", \"metabol\", \"diet\", \"loan\", \"navient\", \"pharmacist\", \"tax\", \"sugar\", \"incom\", \"cancer\", \"weasel\", \"prescrib\", \"mortgag\", \"rate\", \"medic\", \"cut\", \"elimin\", \"pay\", \"diseas\", \"patient\", \"estat\", \"preexist\", \"prescript\", \"lower\", \"debt\", \"fat\", \"corpor\", \"plan\", \"increas\", \"eat\", \"return\", \"asparagus\", \"tarragon\", \"tsh\", \"synthroid\", \"levothyroxin\", \"garlic\", \"deoperation\", \"t3\", \"locol\", \"hypothyroid\", \"riesl\", \"bingo\", \"t4\", \"komodo\", \"thyroid\", \"hashimoto\", \"touch\\u00e9\", \"armour\", \"subclin\", \"yum\", \"ammonia\", \"burmes\", \"h2b\", \"boudin\", \"shaub\", \"sp\\u00e4tlese\", \"vinegar\", \"herb\", \"kvass\", \"chardonnay\", \"lamb\", \"microwav\", \"ham\", \"roast\", \"salti\", \"adren\", \"coffe\", \"pasta\", \"salt\", \"vegan\", \"babbo\", \"oven\", \"sauc\", \"flavor\", \"cup\", \"dar\", \"cook\", \"vegetarian\", \"wine\", \"tast\", \"dish\", \"bean\", \"recip\", \"starbuck\", \"excel\", \"restaur\", \"food\", \"eat\", \"salad\", \"delici\", \"easter\", \"peroid\", \"reptil\", \"chia\", \"nokil\", \"probirth\", \"leaker\", \"soylent\", \"henhous\", \"huzzah\", \"chucki\", \"nevill\", \"tu\", \"tasmanian\", \"destruction\", \"fnc\", \"brbrlife\", \"euthan\", \"accompli\", \"lordi\", \"weinstein\", \"13000000\", \"lebowski\", \"yeesh\", \"noam\", \"chairmanship\", \"ahf\", \"polynesia\", \"lachlan\", \"yah\", \"ooop\", \"mcveigh\", \"gabl\", \"tiffani\", \"brbrrealli\", \"outta\", \"newsroom\", \"drudg\", \"chomski\", \"euthanasia\", \"rat\", \"wag\", \"swamp\", \"drain\", \"pet\", \"fecal\", \"said\", \"trey\", \"ditto\", \"tucker\", \"python\", \"well\", \"dog\", \"larri\", \"spot\", \"laffer\", \"congratul\", \"cat\", \"shelter\", \"sean\", \"kudlow\", \"satir\", \"kansa\", \"wow\", \"cw\", \"zyklon\", \"jgaia\", \"nusra\", \"melo\", \"alawit\", \"alnusra\", \"shayrat\", \"irresolution\", \"oconnor\", \"mig\", \"nunez\", \"illconsid\", \"deconflict\", \"estrada\", \"password\", \"jv\", \"clouseau\", \"aurelius\", \"pepe\", \"usrussian\", \"dutart\", \"lotta\", \"forta\", \"hom\", \"antirussian\", \"5248\", \"ethan\", \"redher\", \"institutionalist\", \"hersh\", \"sorti\", \"carmelo\", \"spici\", \"headsup\", \"scorpion\", \"titlewwwendthemadnessnoworg\", \"reid\", \"shiit\", \"rebel\", \"targetblankwwwendthemadnessnoworga\", \"sarin\", \"harri\", \"chemic\", \"hrefhttpwwwendthemadnessnoworg\", \"bashar\", \"weapon\", \"runway\", \"assad\", \"syrian\", \"civilian\", \"alassad\", \"sunni\", \"merrick\", \"airfield\", \"gas\", \"isi\", \"syria\", \"airbas\", \"garland\", \"bomb\", \"yes\", \"attack\", \"tomahawk\", \"missil\", \"russia\", \"gorsuch\", \"russian\", \"filibust\", \"strike\", \"putin\", \"confirm\", \"hear\", \"iraq\", \"court\", \"use\", \"taser\", \"dvr\", \"elmer\", \"leavenworth\", \"aeroflot\", \"cementari\", \"gantri\", \"edgar\", \"overinvest\", \"fantasyland\", \"124\", \"bukit\", \"rhapsodi\", \"sceptic\", \"bettman\", \"ana\", \"aos\", \"nyah\", \"graf\", \"berehulak\", \"mengel\", \"unsold\", \"parc\", \"cpd\", \"vagari\", \"ummmm\", \"abdel\", \"sledgehamm\", \"overstat\", \"fortif\", \"resel\", \"booki\", \"lifeanddeath\", \"hotlin\", \"candi\", \"ouch\", \"cotton\", \"brtrump\", \"fixx\", \"cemeteri\", \"graveyard\", \"citat\", \"nhl\", \"jest\", \"sell\", \"grave\", \"trumpkin\", \"unit\", \"yard\", \"yanke\", \"nope\", \"brbra\", \"festiv\", \"stick\", \"man\", \"asol\", \"veep\", \"jarrett\", \"petoskey\", \"oreili\", \"diddley\", \"phelp\", \"jonestown\", \"vika\", \"preet\", \"malapportion\", \"bharara\", \"orielli\", \"deja\", \"sproul\", \"askin\", \"oriol\", \"saxon\", \"ddt\", \"d\\u00eatre\", \"shoo\", \"trumpov\", \"sharapova\", \"jonbenet\", \"cobra\", \"lockhe\", \"detox\", \"apal\", \"briton\", \"zuckerburg\", \"kay\", \"sociopathi\", \"vu\", \"safir\", \"tango\", \"toto\", \"doover\", \"brhe\", \"sensate\", \"pud\", \"valeri\", \"lock\", \"exact\", \"shark\", \"lol\", \"pea\", \"riddanc\", \"rubbish\", \"bo\", \"brbra\", \"deer\", \"hrefhttpsemcphdwordpresscom\", \"targetblankhttpsemcphdwordpresscoma\", \"titlehttpsemcphdwordpresscom\", \"skunk\", \"kakistocraci\", \"constrictor\", \"brye\", \"photoshop\", \"clairvoy\", \"burglari\", \"bruin\", \"tartus\", \"argh\", \"devoss\", \"washi\", \"wishi\", \"canuck\", \"pitbul\", \"clausewitz\", \"kierkegaard\", \"microchip\", \"ryder\", \"trumpublican\", \"coerciv\", \"punchlin\", \"boa\", \"counterexampl\", \"coq\", \"trumpski\", \"augusta\", \"splash\", \"parad\", \"bucket\", \"band\", \"trumpbrbryou\", \"reenact\", \"cross\", \"ribbon\", \"herd\", \"brilliant\", \"flower\", \"slug\", \"dress\", \"road\", \"march\", \"water\", \"pictur\", \"tradit\", \"decor\", \"wear\", \"cockroach\", \"background\", \"traffic\", \"grass\", \"look\", \"rose\", \"red\", \"rattlesnak\", \"kendal\", \"southi\", \"costello\", \"cur\", \"libert\\u00e9\", \"fraternit\\u00e9\", \"drump\", \"ussc\", \"\\u00e9galit\\u00e9\", \"eisenberg\", \"creepiest\", \"truer\", \"meg\", \"carlton\", \"chez\", \"truthless\", \"raul\", \"bixbi\", \"himbrbrthi\", \"statebrbrw\", \"welp\", \"rainmak\", \"harem\", \"und\", \"carlyl\", \"clyburn\", \"ventura\", \"wishlist\", \"havana\", \"outfox\", \"igloo\", \"burk\", \"mol\", \"kipl\", \"mossad\", \"nous\", \"bravo\", \"baja\", \"bffs\", \"laughingstock\", \"vall\", \"yay\", \"feather\", \"hee\", \"misspel\", \"bird\", \"denni\", \"jenner\", \"est\", \"poetri\", \"flock\"], \"Freq\": [1891.0, 680.0, 1205.0, 1266.0, 726.0, 730.0, 993.0, 701.0, 790.0, 1483.0, 2970.0, 428.0, 373.0, 2535.0, 754.0, 399.0, 551.0, 3161.0, 1139.0, 702.0, 1271.0, 2499.0, 457.0, 552.0, 695.0, 1988.0, 732.0, 529.0, 615.0, 1737.0, 292.64774852573777, 330.93141308203184, 136.59393370174675, 123.32117450454355, 261.98829200508845, 101.96054962935996, 394.6943810601811, 262.556668630658, 161.2439254152003, 554.8980777177287, 117.41831189546839, 130.15712022146855, 104.90915783287159, 81.11877691108717, 80.1504320841523, 79.35136821600408, 75.11344489924927, 249.27159613825333, 204.42082056481345, 100.3684020237694, 246.49362886260977, 102.82374336395334, 112.64454747273986, 91.15048320629063, 119.79884098311068, 151.21192569161713, 119.10595124387171, 67.03391253438191, 66.5154286423059, 145.68926086921908, 668.443278068533, 1316.3317849004163, 473.7074136741911, 452.935556407993, 1577.3946630179364, 847.1646821576868, 2167.346608907637, 1403.9056277318582, 271.3900286587732, 386.39841226628727, 1022.4910437304064, 275.61773630710655, 487.44751853890244, 341.7153062978479, 306.012956611089, 228.60899143901486, 283.30453395115126, 941.6214992713733, 4666.539045360847, 1357.8777956009656, 811.0119388635916, 1019.3893437787417, 532.7273827883345, 498.4978000629703, 1733.159991397005, 1069.5946518317185, 846.4627083076313, 727.2047640827253, 574.70424790719, 642.533560712026, 560.4542487301358, 1128.5401821728801, 1095.105456721358, 670.9067668972657, 903.8184341788154, 1135.2908588852845, 1175.8589015360517, 1944.622292608206, 1016.8343640862083, 1067.7937259108855, 1678.542824249465, 2431.8823095072294, 1626.4155713099924, 2712.5875843645517, 2430.549474462632, 2003.5241907905743, 1469.9889457099628, 1293.4272623432664, 2436.212106879365, 1366.0108043344576, 2077.9990739157142, 1781.386654486813, 1417.32287417356, 1784.5467216446586, 2042.3590102097633, 1730.9085568665312, 1499.1214273298388, 1421.1094959105135, 1447.2059232857769, 1491.9053832952854, 1575.345092297907, 1458.2068450737447, 1429.5520033357298, 1393.319104179503, 1369.1288701324077, 1368.079216776067, 228.33811951737476, 110.17867123124584, 55.79400117369891, 86.81550956115979, 39.62530466434697, 38.97596430435317, 34.143649064970035, 50.871300893757734, 25.806694867603497, 75.10933307644298, 22.19991505317777, 707.8480349104451, 19.45083366532269, 18.702809583689735, 18.14417774131268, 24.16805776601605, 433.4369227264577, 530.8683342597565, 26.042271466295194, 101.24240565769486, 13.448486483976938, 58.993382053009796, 13.930798584964318, 14.0253570441274, 12.426305916909232, 11.909497201578791, 11.757162097154803, 11.57755980615866, 11.529307617689767, 11.42553876061557, 51.083095927242326, 345.10278043355316, 172.33974149726276, 40.412685921598644, 32.102569891684354, 34.85745609273016, 442.6118409990312, 47.67975003203604, 37.81085191501463, 318.9467322435071, 267.33429905432115, 75.34356706560477, 75.26682545387277, 104.54831122810299, 106.36206645451543, 155.43941117402923, 772.3733968798942, 97.89086588291832, 410.730732631412, 131.41378331280106, 150.67400809622373, 263.17434417995247, 122.98179708299149, 249.0545417096445, 340.80062213928164, 642.1397903739887, 315.3683105064655, 199.84500811840334, 802.7506082371318, 379.5725194355078, 337.65223664810185, 169.69643414226775, 238.89892089363255, 200.7676560140635, 278.99926810292385, 218.74620855595745, 221.98486804244442, 360.2441202499674, 382.5596378015501, 391.144428636954, 517.2851035357862, 480.4474682991434, 404.2110211221682, 363.57160019850613, 411.3821051187694, 441.59419545197, 377.8317800663657, 346.95649653371464, 339.97393413810806, 341.44942048406097, 304.7352045002665, 313.29213445437097, 308.5024270901141, 25.233707239388913, 14.082174214100617, 4.781549561818366, 14.475263217713316, 5.658085575758514, 4.4075531514453115, 4.334952178033269, 4.363011241463335, 4.050741160821508, 5.830308764762432, 5.080025565747906, 3.600761152642818, 3.449615695701222, 4.817495145002675, 10.718019093483358, 3.3419075313380295, 3.243070416805059, 3.6322272280665016, 4.043332023571592, 3.960462194255089, 3.0352789113762255, 6.5457159483246175, 3.0331412842160037, 2.86187106714485, 2.9562544848694743, 2.8369505495194396, 12.054855464861008, 2.644118986887697, 5.172162589926345, 3.0853528234337997, 8.898619787731848, 10.112232182947485, 18.45362304015851, 4.059471102840917, 22.373537400214197, 6.137727308073557, 22.11659941658338, 64.49013625049467, 6.811062579098681, 7.706388040795391, 24.867989392468655, 46.11850745358531, 7.41653517952706, 6.683822098099111, 161.50886536269724, 18.368186516169974, 55.618241975411976, 27.2715137201561, 10.281700849181671, 15.503313775890867, 14.63660278367047, 36.00419732047214, 28.858083552274156, 37.00299248708452, 19.571749134740735, 34.24693672645248, 15.61648770097609, 18.148305586901383, 15.278702986370861, 12.752646008944373, 11.950349662175075, 17.26293791074783, 16.12832749092375, 12.427320741127646, 15.359910224794126, 15.343185407288214, 14.44734649093093, 13.717529403393627, 13.91751649339461, 17.44919637087861, 12.226590686930662, 12.206991779045492, 10.963300108664903, 10.117630917506245, 9.00301891094727, 8.635879383925984, 7.662723108149411, 7.491335862960108, 13.507217898312991, 6.1321322725048795, 17.40093979979947, 7.224989676395299, 5.29469322742469, 28.115975868128753, 5.220405163053736, 5.169692352787778, 5.147851871328168, 4.556618136108258, 4.329846217416351, 4.175597182544178, 4.738502720305527, 4.764152353424189, 3.954437081072182, 3.941445637894739, 3.9182342650005064, 4.392198127419159, 9.682990554133882, 3.62723033694337, 3.5826539268591864, 45.90933623142093, 22.31380105198627, 23.53927534835414, 18.78890520126575, 9.696719982628176, 5.422809412521895, 70.22784086453346, 7.881855972384861, 46.096645398264464, 16.06820450442043, 7.23481834065031, 11.793607321108759, 12.633024855639862, 17.231286710782978, 24.492125617205055, 14.30283808780745, 30.67168782010422, 12.241653480501439, 23.492842275136383, 27.695260181407466, 16.60989136640869, 14.129659763014184, 17.59006241810469, 12.38262129835552, 24.022591622863022, 18.233016550149614, 20.15971216310986, 18.737528203842334, 14.3166127814605, 12.857584420264926, 12.413437314263685, 15.981337220860247, 6.203632378142571, 5.285980529108652, 5.236367258115578, 3.9965606938755496, 6.951479744659527, 5.656621407491323, 4.611290941552047, 3.0302816371288177, 3.010738890037006, 5.249533567381478, 3.846090271136452, 2.9522498699953204, 2.949340189248617, 2.9456319831439552, 2.877237378631312, 3.137102071813431, 2.6941354583459254, 2.682995091383061, 4.493620894572336, 2.6689292782555807, 3.0128057195247533, 2.591057177594067, 7.029147163482141, 2.5147505951687603, 2.4286751596944116, 2.412385553983505, 2.9510409186228226, 2.386627720940585, 2.9137046762372987, 3.361888709200331, 4.82895034496931, 4.426213762554166, 4.573844602228017, 4.21669162521886, 4.255981954190334, 4.317294626922203, 7.016627633555437, 4.097219327752798, 18.462253204018648, 16.26976960850335, 35.66120461671314, 26.196925551321847, 26.790597803086563, 3.9845601141789797, 55.88117774428591, 5.344701287226477, 8.573366819130152, 6.151703466150966, 5.646529959457727, 41.86854116283728, 17.49076352335867, 8.122031046328964, 11.84747237920388, 7.396234166955959, 9.089621700339944, 7.785545459860236, 6.7385723722858675, 6.682609801681669, 5.051185004820501, 5.24213855048555, 5.463405606620225, 5.450403014094457, 6.754040501036719, 8.213911938181312, 5.952107195337673, 6.770356889296627, 5.068011401182309, 5.117200459610914, 4.616197375571516, 4.44870235155053, 4.2486734176068515, 4.030279222855273, 3.8826219312728627, 3.946975303063886, 5.047157618241584, 3.2827716927170454, 3.144689722146014, 4.08261067286275, 3.558446924738169, 3.0897432572208965, 2.6774124968730812, 2.6745641140045957, 2.622656621742363, 2.63799501092719, 3.2124705807533727, 2.477152029085783, 3.526152529558163, 3.162458486863843, 2.40950020654998, 2.4066525305955926, 2.3573687134283814, 2.349202343321882, 4.137785608967797, 2.8516603360142208, 3.7225906981564507, 7.043126662046569, 2.9448270400692227, 6.610208677407529, 5.111800813992274, 41.203277563622784, 8.639380188361024, 34.063403850381434, 5.111800811331684, 29.045672471612605, 35.96099208019198, 91.99140081461695, 5.111800798213285, 15.028199864705051, 74.71155064183095, 14.447143734912185, 91.17695765419418, 56.51888994412927, 33.81899953548597, 12.388812340544224, 15.866614639894724, 21.7095079042575, 17.98200105370388, 37.801369550807976, 30.57904635498021, 55.66130522969495, 12.402088470963491, 30.78509721880268, 41.133156060632295, 50.371470934497985, 47.31830943789497, 17.14393967599055, 27.506891212718422, 31.51284903683623, 24.05703492489076, 28.880863681281433, 21.363305160492104, 22.666753842292216, 23.413664103528145, 18.131260815601497, 20.264570124425866, 18.22457208520094, 19.91960495136609, 20.457310764377247, 6.6216778326650925, 4.282201555356247, 4.21172666851066, 3.4997966092972197, 3.455241668595643, 3.2870774023770157, 3.225952826179591, 6.467390258807803, 3.0905898772755296, 3.203122993800047, 3.9891934984154496, 2.770921046490026, 2.748203102078774, 4.039429790645021, 2.6143213694458893, 2.8158801509925038, 2.446855350714007, 2.3671234716119556, 2.338020274147215, 2.300995383135081, 2.256570251199073, 2.2496962888588583, 2.5642714183652298, 5.047516634786436, 2.9913604981003648, 3.483378848414838, 2.1287303696953925, 2.4414581858655344, 2.1070754482299257, 2.07076890629705, 3.7085226705007748, 2.4464032314152697, 3.5437844428965275, 3.208526001666532, 47.72093985050879, 6.598163414710546, 40.547643787269195, 8.24352446729249, 4.967605016454894, 15.571526717281714, 11.914794737309427, 5.303474536081911, 5.7582840287172745, 4.649265193517093, 13.223061144007717, 6.904945597310759, 3.127447639956931, 5.234287788166211, 3.7457211222707456, 3.590495507210543, 3.570825650178963, 3.6759358314647956, 3.5412510297998376, 3.5526666798658146, 3.5479822486943102, 5.831286429411287, 4.7474671011624405, 4.605296263104204, 6.794820562921998, 4.311789545408176, 4.3363687900687475, 3.448572655976037, 3.2678653987228574, 3.6612117753017825, 3.0616688280441107, 3.042861712514564, 2.8705348345342068, 3.9563907818288313, 8.227982080646179, 2.5827316136031357, 2.512461196373677, 3.0136471439004398, 3.2998010992397493, 4.063374830005166, 2.338848363106657, 2.694089163542785, 2.2085765130552826, 2.6421864836705273, 2.4809881373433043, 4.681828051198136, 2.110856516153949, 1.9839157009275246, 1.975887020674978, 2.3855956252489383, 1.9225754643986064, 4.311653308465987, 4.616105398469398, 7.228385016317092, 3.480486085593201, 3.4064358676260613, 4.681651338678515, 3.885852907472923, 4.9734043146190405, 3.8693254651340867, 3.955947825641433, 3.8678848819598435, 24.775379683009252, 40.90513605666615, 10.098047647951473, 12.523804738633284, 5.614088966053831, 7.449676359767369, 4.419128208911548, 4.048940773018809, 5.467641828259651, 97.09934073208113, 6.628839447748941, 6.628839447748941, 6.628839447748941, 9.250134119417755, 8.785186696026566, 2.962813632091141, 3.6483984811465837, 10.297997001784566, 3.1921346626441447, 2.556470358469889, 2.841796248587304, 2.2687931408663053, 2.198186925964365, 4.653284417926947, 2.0344442585559213, 1.9400478191526402, 2.17312360652875, 1.8621507707398035, 1.853524376351621, 1.8497563481566124, 1.829403959456501, 1.8261041469635892, 3.579644075435418, 2.468728964522426, 2.9088567377037537, 2.6777307456641686, 1.7573080502370775, 1.718644259686895, 4.245502918841782, 2.3437443428844227, 30.372985543061258, 42.48459916288548, 34.09304728573602, 29.346284414944616, 2.2538883426070386, 4.589091059483592, 30.473308574060162, 4.512457943480951, 9.328611615099598, 20.974045792142807, 13.920375086484363, 3.2170507184665595, 16.887531336408173, 18.26230255282725, 16.003461485320152, 17.52685614543736, 12.925528014453446, 11.219396749768968, 5.349650065540727, 8.907063160299973, 4.276999864749766, 5.803787603392736, 5.392116988799701, 4.6655442420888384, 6.751686115072445, 4.742334946759316, 4.609672774400626, 8.063265215199241, 9.019311748623858, 4.18868353645313, 3.1604465771659953, 4.38384269084809, 2.8121393489422006, 2.728353919081298, 2.6399259149544645, 2.3010331500568753, 2.149798939398313, 3.820811211596213, 2.0507680989250887, 6.272434884375433, 3.457548984948455, 2.4452546853435573, 4.814447579519969, 1.858938868212921, 2.692223542332277, 1.8415750416179533, 1.8414135858466207, 1.8162834897521447, 1.8150287073095157, 2.11158623852624, 1.7809728175299147, 2.8134229227686003, 1.7528369145511613, 1.7367397911234923, 1.6878146668730358, 1.6879779983117367, 2.589738442205169, 2.314581974575088, 2.0881212187601994, 4.332621392732389, 3.737295705884531, 3.648715415526287, 2.638620873754825, 4.125500527526839, 36.822283515038094, 3.8536701794087698, 2.441024528988082, 4.987360365914636, 2.726569394211198, 7.536814988739757, 10.704955979637713, 3.894211883749028, 4.406418892280195, 10.42674882668449, 4.7770591425159665, 4.913496798767115, 3.433822316489848, 3.109992955199422, 2.8375708953098417], \"Total\": [1891.0, 680.0, 1205.0, 1266.0, 726.0, 730.0, 993.0, 701.0, 790.0, 1483.0, 2970.0, 428.0, 373.0, 2535.0, 754.0, 399.0, 551.0, 3161.0, 1139.0, 702.0, 1271.0, 2499.0, 457.0, 552.0, 695.0, 1988.0, 732.0, 529.0, 615.0, 1737.0, 293.472142123932, 332.12173340946026, 137.23778755378393, 123.97317820742444, 263.6276125612477, 102.63218000477892, 397.4872549849084, 264.41861382059966, 162.3878934430987, 558.8736634496797, 118.26592924341026, 131.12756744349082, 105.70254466562314, 81.76206861991776, 80.79373011281257, 79.99466140032948, 75.75674411153518, 251.40898058764523, 206.17559368261314, 101.24381222017172, 248.66400934786478, 103.7359348227668, 113.66241606396308, 92.00329405165714, 120.92165206450228, 152.63446578649587, 120.24281909954783, 67.6772123740256, 67.15871804792135, 147.12854730848971, 676.9999731903835, 1343.4958226347546, 478.81135435906117, 457.86100810713884, 1618.534843267217, 864.3690146476838, 2233.157506792605, 1441.204592172748, 274.1118441419759, 391.670343571556, 1046.7901517640157, 278.75652462828356, 495.8820169187443, 346.47751952309056, 309.95676817387533, 231.09589286679918, 287.1265666018799, 967.2814268428872, 4912.917017447143, 1404.606711123828, 835.2932563325426, 1056.080392472381, 544.7729548314715, 509.8712041417585, 1823.7275344324942, 1114.2763419355736, 878.7204166652086, 752.6448074044196, 590.9170461171166, 663.5832604624283, 577.0267334217849, 1189.797860869789, 1154.4304884902922, 695.8540708098658, 951.5849315000643, 1215.9760977334859, 1263.9112260102754, 2159.865886564081, 1083.6387818785583, 1143.6297381660727, 1860.1834287983122, 2782.7887858592, 1812.4201069683331, 3161.20831891796, 2821.5479455453783, 2313.4599055060703, 1640.1838216512115, 1433.2823731092367, 2970.02050406111, 1530.8440661472237, 2499.904431201852, 2102.3591571086918, 1604.3911863616536, 2133.290456362898, 2535.8632644946583, 2087.543124734128, 1742.1631672743656, 1626.4752479684971, 1671.2237577129358, 1743.4870738211728, 1988.9547998241694, 1775.8478520243116, 1730.91929936665, 1656.7072354287548, 1612.903926108325, 1737.7501524052336, 229.0007519806222, 110.82532320421501, 56.44333670736538, 88.12392266165905, 40.27085947722645, 39.628996750369325, 34.789187406886015, 52.140753517748664, 26.452245121313048, 77.26572973143253, 22.845458975649223, 730.8794531441332, 20.11977381368727, 19.348588688938104, 18.796049211825547, 25.07582584172705, 449.88902916160765, 551.8321098666755, 27.147893959937104, 105.7955152749091, 14.093987925172799, 61.9199300821077, 14.65230491542626, 14.765358227853179, 13.085902733834155, 12.555393224190677, 12.402669669895685, 12.223104577167835, 12.174810331175614, 12.073670664505439, 54.74734876554465, 382.18787926482435, 190.58619951282188, 44.02598692007939, 34.7315252770363, 37.887109933506046, 529.1987621235993, 52.487385678516056, 41.545832781400236, 392.8199757505093, 328.6252407131666, 87.18576787826282, 87.10514674022029, 124.67726209684318, 127.09957588569728, 195.07777617845304, 1205.9590399113374, 119.1926770832483, 615.9791920544961, 168.98670424618874, 198.49271957916065, 392.3999261153285, 160.80407960753686, 386.68444902271773, 569.9915235383138, 1266.3638344572396, 538.4119734458624, 308.09144843373525, 1891.240881444647, 732.2275366683454, 641.9540017466255, 252.22170545909992, 413.2344106332042, 324.8257726400727, 538.8470756288965, 379.51610660819847, 396.2647665969892, 876.62891709056, 1139.318483889274, 1271.5740419581111, 2970.02050406111, 2535.8632644946583, 1988.9547998241694, 1737.7501524052336, 2499.904431201852, 3161.20831891796, 2821.5479455453783, 2087.543124734128, 2133.290456362898, 2782.7887858592, 1452.2831877075985, 2102.3591571086918, 1775.8478520243116, 26.10049574336298, 15.90901232906779, 5.441461143170587, 16.505074912910676, 6.451821164731465, 5.067623862345502, 4.994897762446772, 5.066744084738724, 4.710649976100988, 6.80964270728653, 5.98093752686675, 4.260673622204344, 4.109710700403838, 5.7560536286163755, 12.87391749122409, 4.0203907573773465, 3.9030074714689427, 4.3950132584713355, 4.900715482281739, 4.800356057158569, 3.6952192221654983, 7.992635302677712, 3.7231705337152077, 3.5221101281045213, 3.643283989569196, 3.4971601679528628, 14.882873667882546, 3.3041110404497687, 6.485521834050431, 3.8699082119786503, 11.249846096302281, 12.956698966454148, 26.07309013215911, 5.124966549716422, 36.036301412401066, 8.711762085166043, 43.34772094008671, 191.50976488985148, 10.442980376273143, 12.92099752233214, 72.14518581291755, 196.89097846703768, 12.606059367499268, 10.928889061992354, 1891.240881444647, 61.21146670530881, 414.003001554106, 145.95761970381662, 25.59260714976099, 61.72309379937084, 62.15859141814446, 516.8944264278337, 345.8717828494199, 695.521517909546, 236.0269276718909, 1266.3638344572396, 136.09492189241195, 253.03535066403393, 169.67267518265376, 90.66218655557314, 71.98404665723986, 322.76008177810206, 247.6938095166032, 89.52079377834431, 732.2275366683454, 862.8245406842777, 487.8426627478926, 269.6917198832068, 492.6069719993953, 18.1966994946304, 12.881906288221177, 12.86232107424099, 11.618648346916387, 10.773005305651953, 9.679243471174098, 9.291215076367505, 8.31803394306481, 8.14672809123728, 14.716016453741789, 6.78746939482452, 19.297575614837754, 8.052925300963249, 5.950005945828846, 31.638743822435323, 5.8757218162959175, 5.825020528838334, 5.803198831143008, 5.212335157818554, 4.985193606809219, 4.830945958887438, 5.511782837285052, 5.542666412956989, 4.609798402351672, 4.596779595646638, 4.57356075584463, 5.172620013413796, 11.424584842375072, 4.2825431395047495, 4.237974014948789, 55.541612914335346, 27.797011591719983, 29.91720936586794, 24.482185733305503, 12.206452751277416, 6.500279232822906, 123.26889376876434, 10.02586546298806, 80.06420909836, 23.506056832046177, 9.457002754808151, 18.25570144476989, 20.91861634962347, 34.065036238450375, 57.913566062002246, 26.596477293197744, 89.22073470081925, 21.49305373565482, 73.95091568647226, 102.28956555890059, 45.42781171240883, 32.32629314355068, 54.782260297908145, 25.211377661733565, 250.92769391561913, 103.72350673983027, 386.96658591878287, 269.6917198832068, 69.29673838900496, 48.32423353135456, 92.22916413826468, 17.63426400295372, 6.937399170022575, 5.941623762791663, 5.892018670306934, 4.652257898450219, 8.256142156342266, 6.803081864425786, 5.584371766005272, 3.685969309499508, 3.6664339015509118, 6.394387109847372, 4.692371944168544, 3.607892586237727, 3.605200930969082, 3.601385707353444, 3.5329562599020448, 3.8794336403067504, 3.3498187374373836, 3.3386422005790917, 5.5918210308996805, 3.3245889610945962, 3.755506613058566, 3.246757771636742, 8.860605970859986, 3.1704484609815213, 3.0843324285780187, 3.068083741805982, 3.7589792736362644, 3.042339078273171, 3.7179550274718394, 4.314303638476746, 6.260530090889395, 5.840038475026497, 6.06022975137925, 6.001960593245966, 6.0902687990647815, 6.337392286624226, 12.809826374780116, 6.1690450769762535, 58.9406692883146, 53.85612489075387, 189.556114232067, 120.42922110529597, 131.39973297037628, 6.005680482039796, 993.8179766652846, 11.023337614662688, 27.91793735149679, 15.077694251651112, 13.056937728783195, 1483.275618051845, 255.83387039157967, 39.21526318256952, 133.6022635375791, 49.6355673634808, 134.791416881323, 97.06512919699409, 62.740503051452436, 153.76344311812227, 14.234754657886748, 48.30957663186758, 138.35932776045024, 184.67071269389345, 7.413480010178573, 9.145203500510217, 6.656635293735203, 7.649930965478727, 5.727385064213758, 5.802499501330651, 5.275639143102375, 5.108118595828009, 4.908085658223031, 4.691257057971445, 4.542011540239172, 4.6751968172343386, 5.998556368874961, 3.942146828432619, 3.807818886118206, 4.95229316223217, 4.326480497798311, 3.771179005833375, 3.336771640586183, 3.3339776198804265, 3.2821748165235864, 3.3124420805823003, 4.048729276349698, 3.137118107481778, 4.474988157498834, 4.0148635886116, 3.06890112706328, 3.066032805520455, 3.0167065387533745, 3.0086413335689888, 5.317630502926589, 3.6921684453123684, 4.907353505886998, 9.889357664606523, 3.836783546953712, 10.10633474479276, 7.614668787966948, 105.77960965316963, 14.78615373663471, 84.99572701323498, 7.614668788481327, 76.43598573094836, 103.92851943314334, 373.91324922754796, 7.614668791017554, 36.39334988104289, 428.0483950533261, 38.35087333445271, 680.602224799194, 399.0232798630893, 193.51864403876058, 34.261830796361544, 54.20262849153278, 94.36864723929925, 68.64685719830193, 274.3011756125376, 213.95143313265962, 726.2235794173788, 39.03437516992818, 241.78851544259157, 457.77124792959, 790.8187833036927, 701.3363009296612, 79.29206836484552, 355.33243455227176, 754.3040937009551, 391.6844535398839, 702.0403250191703, 272.61882393521785, 353.3292987463526, 665.9962176431156, 231.24042731877967, 536.537395199572, 251.60026677098222, 722.973482127021, 1569.8242569214217, 7.277344070370909, 4.938878261076218, 4.86739181965859, 4.156496643670331, 4.110907989000372, 3.9426511071921673, 3.8815345050236587, 7.838001822818882, 3.746246665767576, 3.936279408532784, 4.921741788460114, 3.4264919782456396, 3.4040866445448716, 5.011545546360882, 3.2699022936271365, 3.5608834694755123, 3.102510030836374, 3.0226995228818963, 2.993607043586098, 2.95663086808628, 2.912192610750108, 2.906953022544978, 3.3157886077629506, 6.574457158885137, 3.8965362844120137, 4.547729423389755, 2.7843868817490995, 3.199619495420547, 2.762708332222183, 2.7264432526395828, 4.921573249988385, 3.2340585601603435, 4.82473196266519, 4.397835677298733, 96.82477691118585, 10.52197378766511, 120.57795850962123, 16.234054287638816, 8.839368937957797, 54.23954197129885, 51.73406696759653, 13.248145229919544, 16.54146899150839, 14.383518465018277, 321.2661448113386, 158.08771327734024, 5.542613870599852, 1205.9590399113374, 50.47642812324393, 31.540355921138794, 50.18856370474588, 108.67940151108319, 42.342095302958604, 170.38136772080728, 1161.891380485878, 6.600564176340752, 5.403259975955135, 5.260787111257691, 7.814103068331774, 4.967328644487187, 5.1561884840709045, 4.104085439648886, 3.923375611291963, 4.415660947169615, 3.7171763017830814, 3.698342313132057, 3.5260594816089728, 4.923486738248883, 10.27385859897546, 3.2384107091349743, 3.1679923110304404, 3.810243171061259, 4.177638990672916, 5.150851648199172, 2.994504736829389, 3.490785180599063, 2.86443030311999, 3.432310385295446, 3.231289050332596, 6.106851966192946, 2.766452924838776, 2.6398343391968377, 2.6314160589121003, 3.193095810758182, 2.578118563982564, 5.8290593360704, 6.259580984958978, 10.323275075518602, 4.829352290656417, 4.727662850252336, 6.861257158310362, 5.550464360815354, 7.6046731703601145, 5.719376966076645, 6.047391395361753, 5.896099360551622, 141.3032571190053, 552.0073161926739, 44.86843762890507, 81.75567390843521, 15.121733068101703, 53.82157695768394, 21.756994984480258, 14.18826131432532, 108.67940151108319, 102.28370323613667, 7.284701791962492, 7.284701791962492, 7.284701791962492, 10.169099789406538, 9.777993093136676, 3.618657595033878, 4.488277695419809, 12.680503115207182, 3.989340881636911, 3.2124752679272652, 3.582160616251623, 2.9247148523979742, 2.8540555332692112, 6.052032265805529, 2.6903293582527343, 2.595930196071797, 2.9200501376822676, 2.518012280080672, 2.509491478165069, 2.505668640222045, 2.4854523460255886, 2.4819524394846004, 4.885728326920812, 3.3779750334608734, 3.9819936609285493, 3.6764773525627645, 2.4131789928261687, 2.3744935137959327, 5.880366315210715, 3.250792402401308, 48.26344893071519, 76.51424899471668, 74.86971635290496, 95.22681512880229, 3.303414928373262, 9.487858813193705, 195.31067289476584, 10.62564008803388, 36.54052566653002, 171.84955655525968, 82.08258749948189, 6.094224600759594, 171.24944296908575, 222.27507449235372, 187.64946342129085, 352.4287670420143, 315.0585600664133, 213.2513272873426, 26.268087288311317, 202.52085782827032, 15.124543352444622, 120.43519125316602, 78.22573024098729, 32.537974512286766, 1342.856647887124, 57.22524021342232, 302.27098289485394, 8.719171782769726, 10.020135169214747, 5.05350344194147, 3.8162504692992942, 5.368460669233779, 3.467925307342907, 3.384196498572117, 3.2957666132260592, 2.956886020250659, 2.805560324726793, 5.0031797328122, 2.706591507240527, 8.336860753131422, 4.60188960663223, 3.2631307245311816, 6.446347920808896, 2.5147738558275234, 3.6485801434507685, 2.497353580047054, 2.4972072449971097, 2.4721164806508065, 2.470796473051056, 2.8886273925971806, 2.436832627258913, 3.8626481952483918, 2.408623363693579, 2.3925590878710326, 2.3436264143839587, 2.3439700908256818, 3.5991710487849957, 3.233653848928123, 2.9137176476334363, 6.221790978674176, 5.508340757373403, 5.458818549325939, 3.7963380225796826, 6.445040932216141, 95.58720173691609, 6.119427854023965, 3.5293397422674144, 9.015850787788327, 4.117274530935384, 17.385493330514844, 42.98627130104555, 7.887354631492094, 10.569180846941387, 68.21867092856752, 17.361985219576383, 18.646648111698532, 20.275849835762784, 21.280124862950395, 23.660071116001223], \"Category\": [\"Default\", \"Default\", \"Default\", \"Default\", \"Default\", \"Default\", \"Default\", \"Default\", \"Default\", \"Default\", \"Default\", \"Default\", \"Default\", \"Default\", \"Default\", \"Default\", \"Default\", \"Default\", \"Default\", \"Default\", \"Default\", \"Default\", \"Default\", \"Default\", \"Default\", \"Default\", \"Default\", \"Default\", \"Default\", \"Default\", \"Topic1\", \"Topic1\", \"Topic1\", \"Topic1\", \"Topic1\", \"Topic1\", \"Topic1\", \"Topic1\", \"Topic1\", \"Topic1\", \"Topic1\", \"Topic1\", \"Topic1\", \"Topic1\", \"Topic1\", \"Topic1\", \"Topic1\", \"Topic1\", \"Topic1\", \"Topic1\", \"Topic1\", \"Topic1\", \"Topic1\", \"Topic1\", \"Topic1\", \"Topic1\", \"Topic1\", \"Topic1\", \"Topic1\", \"Topic1\", \"Topic1\", \"Topic1\", \"Topic1\", \"Topic1\", \"Topic1\", \"Topic1\", \"Topic1\", \"Topic1\", \"Topic1\", \"Topic1\", \"Topic1\", \"Topic1\", \"Topic1\", \"Topic1\", \"Topic1\", \"Topic1\", \"Topic1\", \"Topic1\", \"Topic1\", \"Topic1\", \"Topic1\", \"Topic1\", \"Topic1\", \"Topic1\", \"Topic1\", \"Topic1\", \"Topic1\", \"Topic1\", \"Topic1\", \"Topic1\", \"Topic1\", \"Topic1\", \"Topic1\", \"Topic1\", \"Topic1\", \"Topic1\", \"Topic1\", \"Topic1\", \"Topic1\", \"Topic1\", \"Topic1\", \"Topic1\", \"Topic1\", \"Topic1\", \"Topic1\", \"Topic1\", \"Topic1\", \"Topic1\", \"Topic1\", \"Topic1\", \"Topic1\", \"Topic1\", \"Topic1\", \"Topic1\", \"Topic1\", \"Topic1\", \"Topic1\", \"Topic1\", \"Topic1\", \"Topic1\", \"Topic1\", \"Topic1\", \"Topic1\", \"Topic1\", \"Topic1\", \"Topic1\", \"Topic2\", \"Topic2\", \"Topic2\", \"Topic2\", \"Topic2\", \"Topic2\", \"Topic2\", \"Topic2\", \"Topic2\", \"Topic2\", \"Topic2\", \"Topic2\", \"Topic2\", \"Topic2\", \"Topic2\", \"Topic2\", \"Topic2\", \"Topic2\", \"Topic2\", \"Topic2\", \"Topic2\", \"Topic2\", \"Topic2\", \"Topic2\", \"Topic2\", \"Topic2\", \"Topic2\", \"Topic2\", \"Topic2\", \"Topic2\", \"Topic2\", \"Topic2\", \"Topic2\", \"Topic2\", \"Topic2\", \"Topic2\", \"Topic2\", \"Topic2\", \"Topic2\", \"Topic2\", \"Topic2\", \"Topic2\", \"Topic2\", \"Topic2\", \"Topic2\", \"Topic2\", \"Topic2\", \"Topic2\", \"Topic2\", \"Topic2\", \"Topic2\", \"Topic2\", \"Topic2\", \"Topic2\", \"Topic2\", \"Topic2\", \"Topic2\", \"Topic2\", \"Topic2\", \"Topic2\", \"Topic2\", \"Topic2\", \"Topic2\", \"Topic2\", \"Topic2\", \"Topic2\", \"Topic2\", \"Topic2\", \"Topic2\", \"Topic2\", \"Topic2\", \"Topic2\", \"Topic2\", \"Topic2\", \"Topic2\", \"Topic2\", \"Topic2\", \"Topic2\", \"Topic2\", \"Topic2\", \"Topic2\", \"Topic2\", \"Topic2\", \"Topic3\", \"Topic3\", \"Topic3\", \"Topic3\", \"Topic3\", \"Topic3\", \"Topic3\", \"Topic3\", \"Topic3\", \"Topic3\", \"Topic3\", \"Topic3\", \"Topic3\", \"Topic3\", \"Topic3\", \"Topic3\", \"Topic3\", \"Topic3\", \"Topic3\", \"Topic3\", \"Topic3\", \"Topic3\", \"Topic3\", \"Topic3\", \"Topic3\", \"Topic3\", \"Topic3\", \"Topic3\", \"Topic3\", \"Topic3\", \"Topic3\", \"Topic3\", \"Topic3\", \"Topic3\", \"Topic3\", \"Topic3\", \"Topic3\", \"Topic3\", \"Topic3\", \"Topic3\", \"Topic3\", \"Topic3\", \"Topic3\", \"Topic3\", \"Topic3\", \"Topic3\", \"Topic3\", \"Topic3\", \"Topic3\", \"Topic3\", \"Topic3\", \"Topic3\", \"Topic3\", \"Topic3\", \"Topic3\", \"Topic3\", \"Topic3\", \"Topic3\", \"Topic3\", \"Topic3\", \"Topic3\", \"Topic3\", \"Topic3\", \"Topic3\", \"Topic3\", \"Topic3\", \"Topic3\", \"Topic3\", \"Topic3\", \"Topic4\", \"Topic4\", \"Topic4\", \"Topic4\", \"Topic4\", \"Topic4\", \"Topic4\", \"Topic4\", \"Topic4\", \"Topic4\", \"Topic4\", \"Topic4\", \"Topic4\", \"Topic4\", \"Topic4\", \"Topic4\", \"Topic4\", \"Topic4\", \"Topic4\", \"Topic4\", \"Topic4\", \"Topic4\", \"Topic4\", \"Topic4\", \"Topic4\", \"Topic4\", \"Topic4\", \"Topic4\", \"Topic4\", \"Topic4\", \"Topic4\", \"Topic4\", \"Topic4\", \"Topic4\", \"Topic4\", \"Topic4\", \"Topic4\", \"Topic4\", \"Topic4\", \"Topic4\", \"Topic4\", \"Topic4\", \"Topic4\", \"Topic4\", \"Topic4\", \"Topic4\", \"Topic4\", \"Topic4\", \"Topic4\", \"Topic4\", \"Topic4\", \"Topic4\", \"Topic4\", \"Topic4\", \"Topic4\", \"Topic4\", \"Topic4\", \"Topic4\", \"Topic4\", \"Topic4\", \"Topic4\", \"Topic5\", \"Topic5\", \"Topic5\", \"Topic5\", \"Topic5\", \"Topic5\", \"Topic5\", \"Topic5\", \"Topic5\", \"Topic5\", \"Topic5\", \"Topic5\", \"Topic5\", \"Topic5\", \"Topic5\", \"Topic5\", \"Topic5\", \"Topic5\", \"Topic5\", \"Topic5\", \"Topic5\", \"Topic5\", \"Topic5\", \"Topic5\", \"Topic5\", \"Topic5\", \"Topic5\", \"Topic5\", \"Topic5\", \"Topic5\", \"Topic5\", \"Topic5\", \"Topic5\", \"Topic5\", \"Topic5\", \"Topic5\", \"Topic5\", \"Topic5\", \"Topic5\", \"Topic5\", \"Topic5\", \"Topic5\", \"Topic5\", \"Topic5\", \"Topic5\", \"Topic5\", \"Topic5\", \"Topic5\", \"Topic5\", \"Topic5\", \"Topic5\", \"Topic5\", \"Topic5\", \"Topic5\", \"Topic5\", \"Topic5\", \"Topic5\", \"Topic5\", \"Topic5\", \"Topic5\", \"Topic5\", \"Topic5\", \"Topic5\", \"Topic6\", \"Topic6\", \"Topic6\", \"Topic6\", \"Topic6\", \"Topic6\", \"Topic6\", \"Topic6\", \"Topic6\", \"Topic6\", \"Topic6\", \"Topic6\", \"Topic6\", \"Topic6\", \"Topic6\", \"Topic6\", \"Topic6\", \"Topic6\", \"Topic6\", \"Topic6\", \"Topic6\", \"Topic6\", \"Topic6\", \"Topic6\", \"Topic6\", \"Topic6\", \"Topic6\", \"Topic6\", \"Topic6\", \"Topic6\", \"Topic6\", \"Topic6\", \"Topic6\", \"Topic6\", \"Topic6\", \"Topic6\", \"Topic6\", \"Topic6\", \"Topic6\", \"Topic6\", \"Topic6\", \"Topic6\", \"Topic6\", \"Topic6\", \"Topic6\", \"Topic6\", \"Topic6\", \"Topic6\", \"Topic6\", \"Topic6\", \"Topic6\", \"Topic6\", \"Topic6\", \"Topic6\", \"Topic6\", \"Topic6\", \"Topic6\", \"Topic6\", \"Topic6\", \"Topic6\", \"Topic6\", \"Topic6\", \"Topic6\", \"Topic6\", \"Topic6\", \"Topic6\", \"Topic6\", \"Topic6\", \"Topic6\", \"Topic6\", \"Topic6\", \"Topic6\", \"Topic6\", \"Topic6\", \"Topic6\", \"Topic6\", \"Topic7\", \"Topic7\", \"Topic7\", \"Topic7\", \"Topic7\", \"Topic7\", \"Topic7\", \"Topic7\", \"Topic7\", \"Topic7\", \"Topic7\", \"Topic7\", \"Topic7\", \"Topic7\", \"Topic7\", \"Topic7\", \"Topic7\", \"Topic7\", \"Topic7\", \"Topic7\", \"Topic7\", \"Topic7\", \"Topic7\", \"Topic7\", \"Topic7\", \"Topic7\", \"Topic7\", \"Topic7\", \"Topic7\", \"Topic7\", \"Topic7\", \"Topic7\", \"Topic7\", \"Topic7\", \"Topic7\", \"Topic7\", \"Topic7\", \"Topic7\", \"Topic7\", \"Topic7\", \"Topic7\", \"Topic7\", \"Topic7\", \"Topic7\", \"Topic7\", \"Topic7\", \"Topic7\", \"Topic7\", \"Topic7\", \"Topic7\", \"Topic7\", \"Topic7\", \"Topic7\", \"Topic7\", \"Topic7\", \"Topic8\", \"Topic8\", \"Topic8\", \"Topic8\", \"Topic8\", \"Topic8\", \"Topic8\", \"Topic8\", \"Topic8\", \"Topic8\", \"Topic8\", \"Topic8\", \"Topic8\", \"Topic8\", \"Topic8\", \"Topic8\", \"Topic8\", \"Topic8\", \"Topic8\", \"Topic8\", \"Topic8\", \"Topic8\", \"Topic8\", \"Topic8\", \"Topic8\", \"Topic8\", \"Topic8\", \"Topic8\", \"Topic8\", \"Topic8\", \"Topic8\", \"Topic8\", \"Topic8\", \"Topic8\", \"Topic8\", \"Topic8\", \"Topic8\", \"Topic8\", \"Topic8\", \"Topic8\", \"Topic8\", \"Topic8\", \"Topic8\", \"Topic8\", \"Topic8\", \"Topic8\", \"Topic8\", \"Topic8\", \"Topic8\", \"Topic8\", \"Topic9\", \"Topic9\", \"Topic9\", \"Topic9\", \"Topic9\", \"Topic9\", \"Topic9\", \"Topic9\", \"Topic9\", \"Topic9\", \"Topic9\", \"Topic9\", \"Topic9\", \"Topic9\", \"Topic9\", \"Topic9\", \"Topic9\", \"Topic9\", \"Topic9\", \"Topic9\", \"Topic9\", \"Topic9\", \"Topic9\", \"Topic9\", \"Topic9\", \"Topic9\", \"Topic9\", \"Topic9\", \"Topic9\", \"Topic9\", \"Topic9\", \"Topic9\", \"Topic9\", \"Topic9\", \"Topic9\", \"Topic9\", \"Topic9\", \"Topic9\", \"Topic9\", \"Topic9\", \"Topic9\", \"Topic9\", \"Topic9\", \"Topic9\", \"Topic9\", \"Topic9\", \"Topic9\", \"Topic9\", \"Topic9\", \"Topic9\", \"Topic9\", \"Topic9\", \"Topic9\", \"Topic9\", \"Topic9\", \"Topic9\", \"Topic9\", \"Topic9\", \"Topic10\", \"Topic10\", \"Topic10\", \"Topic10\", \"Topic10\", \"Topic10\", \"Topic10\", \"Topic10\", \"Topic10\", \"Topic10\", \"Topic10\", \"Topic10\", \"Topic10\", \"Topic10\", \"Topic10\", \"Topic10\", \"Topic10\", \"Topic10\", \"Topic10\", \"Topic10\", \"Topic10\", \"Topic10\", \"Topic10\", \"Topic10\", \"Topic10\", \"Topic10\", \"Topic10\", \"Topic10\", \"Topic10\", \"Topic10\", \"Topic10\", \"Topic10\", \"Topic10\", \"Topic10\", \"Topic10\", \"Topic10\", \"Topic10\", \"Topic10\", \"Topic10\", \"Topic10\", \"Topic10\", \"Topic10\", \"Topic10\", \"Topic10\", \"Topic10\", \"Topic10\", \"Topic10\", \"Topic10\", \"Topic10\", \"Topic10\", \"Topic10\", \"Topic10\"], \"logprob\": [30.0, 29.0, 28.0, 27.0, 26.0, 25.0, 24.0, 23.0, 22.0, 21.0, 20.0, 19.0, 18.0, 17.0, 16.0, 15.0, 14.0, 13.0, 12.0, 11.0, 10.0, 9.0, 8.0, 7.0, 6.0, 5.0, 4.0, 3.0, 2.0, 1.0, -7.8954, -7.7724, -8.6573, -8.7596, -8.006, -8.9498, -7.5962, -8.0039, -8.4914, -7.2556, -8.8086, -8.7056, -8.9213, -9.1784, -9.1904, -9.2005, -9.2553, -8.0558, -8.2542, -8.9655, -8.067, -8.9413, -8.8501, -9.0618, -8.7885, -8.5557, -8.7943, -9.3691, -9.3769, -8.5929, -7.0694, -6.3917, -7.4138, -7.4586, -6.2108, -6.8325, -5.8931, -6.3273, -7.9708, -7.6175, -6.6444, -7.9553, -7.3852, -7.7404, -7.8507, -8.1423, -7.9278, -6.7267, -5.1262, -6.3607, -6.8761, -6.6474, -7.2963, -7.3627, -6.1166, -6.5993, -6.8333, -6.9851, -7.2205, -7.1089, -7.2456, -6.5457, -6.5757, -7.0657, -6.7677, -6.5397, -6.5046, -6.0015, -6.6499, -6.601, -6.1487, -5.7779, -6.1802, -5.6687, -5.7785, -5.9717, -6.2813, -6.4093, -5.7761, -6.3547, -5.9352, -6.0892, -6.3178, -6.0874, -5.9525, -6.1179, -6.2617, -6.3152, -6.297, -6.2665, -6.2121, -6.2894, -6.3092, -6.3349, -6.3524, -6.3532, -6.5882, -7.317, -7.9974, -7.5553, -8.3396, -8.3561, -8.4885, -8.0898, -8.7684, -7.7001, -8.919, -5.4568, -9.0512, -9.0904, -9.1207, -8.834, -5.9473, -5.7446, -8.7594, -7.4016, -9.4202, -7.9417, -9.385, -9.3782, -9.4993, -9.5417, -9.5546, -9.57, -9.5742, -9.5832, -8.0856, -6.1752, -6.8696, -8.3199, -8.5501, -8.4678, -5.9264, -8.1546, -8.3865, -6.2541, -6.4306, -7.697, -7.698, -7.3694, -7.3522, -6.9728, -5.3696, -7.4352, -6.0011, -7.1407, -7.004, -6.4463, -7.207, -6.5014, -6.1878, -5.5543, -6.2653, -6.7215, -5.331, -6.08, -6.1971, -6.8851, -6.543, -6.7169, -6.3879, -6.6312, -6.6165, -6.1323, -6.0722, -6.05, -5.7705, -5.8444, -6.0171, -6.1231, -5.9996, -5.9287, -6.0846, -6.1699, -6.1902, -6.1859, -6.2996, -6.2719, -6.2873, -7.0858, -7.6691, -8.7492, -7.6416, -8.5809, -8.8307, -8.8473, -8.8408, -8.9151, -8.5509, -8.6887, -9.0329, -9.0757, -8.7418, -7.9421, -9.1075, -9.1375, -9.0242, -8.9169, -8.9376, -9.2037, -8.4352, -9.2044, -9.2625, -9.2301, -9.2713, -7.8245, -9.3417, -8.6707, -9.1873, -8.1281, -8.0003, -7.3987, -8.913, -7.2061, -8.4996, -7.2177, -6.1475, -8.3955, -8.272, -7.1004, -6.4828, -8.3103, -8.4143, -5.2294, -7.4034, -6.2955, -7.0082, -7.9836, -7.573, -7.6305, -6.7304, -6.9516, -6.703, -7.3399, -6.7804, -7.5657, -7.4154, -7.5875, -7.7683, -7.8332, -7.4654, -7.5334, -7.7941, -7.5822, -7.5833, -7.6435, -7.6953, -7.6809, -7.4532, -7.8088, -7.8104, -7.9179, -7.9982, -8.1149, -8.1565, -8.2761, -8.2987, -7.7092, -8.4989, -7.4559, -8.3349, -8.6457, -6.9761, -8.6599, -8.6696, -8.6739, -8.7959, -8.8469, -8.8832, -8.7567, -8.7513, -8.9376, -8.9409, -8.9468, -8.8326, -8.0421, -9.024, -9.0364, -6.4858, -7.2072, -7.1538, -7.3792, -8.0407, -8.6218, -6.0607, -8.2479, -6.4817, -7.5356, -8.3335, -7.8449, -7.7761, -7.4657, -7.1141, -7.652, -6.8891, -7.8076, -7.1558, -6.9912, -7.5025, -7.6642, -7.4451, -7.7962, -7.1335, -7.4092, -7.3088, -7.3819, -7.651, -7.7585, -7.7937, -7.4983, -8.4446, -8.6047, -8.6141, -8.8843, -8.3308, -8.5369, -8.7413, -9.1611, -9.1676, -8.6116, -8.9227, -9.1872, -9.1882, -9.1894, -9.2129, -9.1265, -9.2787, -9.2828, -8.7671, -9.2881, -9.1669, -9.3177, -8.3197, -9.3476, -9.3824, -9.3892, -9.1876, -9.3999, -9.2003, -9.0573, -8.6951, -8.7822, -8.7494, -8.8307, -8.8214, -8.8071, -8.3215, -8.8595, -7.354, -7.4805, -6.6957, -7.0041, -6.9817, -8.8873, -6.2465, -8.5937, -8.1211, -8.453, -8.5387, -6.5352, -7.4081, -8.1752, -7.7977, -8.2688, -8.0626, -8.2175, -8.3619, -8.3703, -8.6501, -8.613, -8.5717, -8.5741, -8.3509, -8.1552, -8.4773, -8.3485, -8.6381, -8.6285, -8.7315, -8.7685, -8.8145, -8.8672, -8.9046, -8.8881, -8.6422, -9.0724, -9.1154, -8.8543, -8.9917, -9.133, -9.2762, -9.2773, -9.2969, -9.291, -9.094, -9.354, -9.0009, -9.1097, -9.3816, -9.3828, -9.4035, -9.407, -8.8409, -9.2132, -8.9466, -8.309, -9.181, -8.3725, -8.6295, -6.5426, -8.1047, -6.7328, -8.6295, -6.8922, -6.6786, -5.7394, -8.6295, -7.5511, -5.9474, -7.5906, -5.7483, -6.2265, -6.74, -7.7443, -7.4969, -7.1833, -7.3717, -6.6287, -6.8408, -6.2418, -7.7432, -6.834, -6.5443, -6.3416, -6.4042, -7.4194, -6.9466, -6.8107, -7.0806, -6.8979, -7.1994, -7.1402, -7.1077, -7.3634, -7.2522, -7.3583, -7.2694, -7.2427, -8.3322, -8.7681, -8.7847, -8.9698, -8.9826, -9.0325, -9.0513, -8.3558, -9.0942, -9.0584, -8.839, -9.2034, -9.2116, -8.8264, -9.2615, -9.1873, -9.3277, -9.3609, -9.3732, -9.3892, -9.4087, -9.4117, -9.2809, -8.6036, -9.1268, -8.9745, -9.467, -9.3299, -9.4772, -9.4946, -8.9119, -9.3279, -8.9573, -9.0567, -6.3572, -8.3357, -6.5201, -8.1131, -8.6196, -7.4771, -7.7448, -8.5542, -8.4719, -8.6858, -7.6406, -8.2903, -9.0823, -8.5673, -8.9019, -8.9443, -8.9497, -8.9207, -8.9581, -8.9548, -8.9562, -8.4451, -8.6508, -8.6812, -8.2922, -8.747, -8.7413, -8.9704, -9.0242, -8.9106, -9.0894, -9.0956, -9.1539, -8.8331, -8.1008, -9.2595, -9.2871, -9.1052, -9.0145, -8.8064, -9.3587, -9.2173, -9.416, -9.2368, -9.2997, -8.6647, -9.4613, -9.5233, -9.5274, -9.3389, -9.5547, -8.7471, -8.6788, -8.2304, -8.9612, -8.9827, -8.6647, -8.851, -8.6043, -8.8553, -8.8332, -8.8557, -6.9985, -6.4971, -7.896, -7.6808, -8.4831, -8.2002, -8.7224, -8.8099, -8.5095, -5.6256, -8.3099, -8.3099, -8.3099, -7.9767, -8.0283, -9.1152, -8.907, -7.8694, -9.0406, -9.2627, -9.1569, -9.3821, -9.4137, -8.6638, -9.4911, -9.5386, -9.4252, -9.5796, -9.5842, -9.5863, -9.5973, -9.5991, -8.9261, -9.2976, -9.1336, -9.2164, -9.6375, -9.6598, -8.7555, -9.3496, -6.7878, -6.4522, -6.6722, -6.8222, -9.3887, -8.6776, -6.7845, -8.6945, -7.9682, -7.158, -7.568, -9.0329, -7.3748, -7.2965, -7.4285, -7.3376, -7.6421, -7.7837, -8.5243, -8.0145, -8.7481, -8.4428, -8.5164, -8.6611, -8.2915, -8.6448, -8.6732, -8.0899, -7.9778, -8.7448, -9.0265, -8.6993, -9.1432, -9.1735, -9.2064, -9.3438, -9.4118, -8.8367, -9.459, -8.341, -8.9366, -9.283, -8.6056, -9.5572, -9.1868, -9.5666, -9.5667, -9.5804, -9.5811, -9.4297, -9.6, -9.1428, -9.616, -9.6252, -9.6538, -9.6537, -9.2256, -9.338, -9.4409, -8.711, -8.8588, -8.8828, -9.2069, -8.76, -6.5711, -8.8282, -9.2848, -8.5703, -9.1741, -8.1574, -7.8065, -8.8177, -8.6941, -7.8328, -8.6134, -8.5852, -8.9435, -9.0426, -9.1342], \"loglift\": [30.0, 29.0, 28.0, 27.0, 26.0, 25.0, 24.0, 23.0, 22.0, 21.0, 20.0, 19.0, 18.0, 17.0, 16.0, 15.0, 14.0, 13.0, 12.0, 11.0, 10.0, 9.0, 8.0, 7.0, 6.0, 5.0, 4.0, 3.0, 2.0, 1.0, 0.4015, 0.4007, 0.3996, 0.399, 0.3981, 0.3977, 0.3972, 0.3972, 0.3972, 0.3972, 0.3971, 0.3969, 0.3968, 0.3964, 0.3963, 0.3962, 0.3958, 0.3958, 0.3957, 0.3956, 0.3955, 0.3955, 0.3953, 0.395, 0.395, 0.3949, 0.3948, 0.3947, 0.3947, 0.3945, 0.3916, 0.3839, 0.3936, 0.3935, 0.3785, 0.3842, 0.3744, 0.3781, 0.3943, 0.3907, 0.3808, 0.393, 0.3871, 0.3905, 0.3915, 0.3935, 0.3909, 0.3774, 0.3528, 0.3705, 0.3748, 0.3689, 0.3819, 0.3817, 0.3534, 0.3634, 0.3669, 0.3699, 0.3765, 0.3721, 0.3751, 0.3514, 0.3515, 0.3678, 0.3528, 0.3356, 0.3321, 0.2993, 0.3407, 0.3357, 0.3015, 0.2695, 0.296, 0.2512, 0.2551, 0.2605, 0.2947, 0.3016, 0.2062, 0.2904, 0.2194, 0.2386, 0.2803, 0.2258, 0.1879, 0.2169, 0.254, 0.2693, 0.2604, 0.2485, 0.1712, 0.2072, 0.213, 0.2311, 0.2404, 0.1651, 1.9567, 1.9537, 1.948, 1.9446, 1.9434, 1.9429, 1.9408, 1.9349, 1.9349, 1.9313, 1.9309, 1.9275, 1.9257, 1.9256, 1.9243, 1.9227, 1.9223, 1.9208, 1.918, 1.9156, 1.9127, 1.9111, 1.9091, 1.9081, 1.9078, 1.9067, 1.9061, 1.9053, 1.9051, 1.9044, 1.8903, 1.8575, 1.8589, 1.8739, 1.8808, 1.8762, 1.7809, 1.8635, 1.8654, 1.7512, 1.7531, 1.8136, 1.8135, 1.7835, 1.7814, 1.7324, 1.514, 1.7627, 1.5543, 1.7081, 1.6839, 1.5601, 1.6914, 1.5196, 1.4452, 1.2805, 1.4247, 1.5267, 1.1026, 1.3025, 1.3171, 1.5633, 1.4116, 1.4784, 1.3013, 1.4086, 1.3801, 1.0703, 0.8683, 0.7806, 0.2118, 0.296, 0.3661, 0.3952, 0.1551, -0.0088, -0.051, 0.165, 0.123, -0.1384, 0.3981, 0.0559, 0.2093, 3.6309, 3.5427, 3.5353, 3.5334, 3.5334, 3.5251, 3.5229, 3.5151, 3.5137, 3.5094, 3.5014, 3.4963, 3.4895, 3.4866, 3.4814, 3.4798, 3.4794, 3.474, 3.4723, 3.4723, 3.4679, 3.4649, 3.4597, 3.457, 3.4557, 3.4554, 3.4539, 3.4418, 3.4383, 3.4381, 3.4302, 3.4168, 3.319, 3.4316, 3.188, 3.3144, 2.9917, 2.5762, 3.2372, 3.1478, 2.5995, 2.2132, 3.1342, 3.1729, 1.2042, 2.4609, 1.6573, 1.9872, 2.7527, 2.283, 2.2185, 1.0004, 1.181, 0.731, 1.1748, 0.0543, 1.4996, 1.0297, 1.2572, 1.7032, 1.8689, 0.7363, 0.933, 1.6901, -0.1997, -0.3649, 0.1451, 0.686, 0.0981, 3.6242, 3.614, 3.6139, 3.6081, 3.6034, 3.5938, 3.593, 3.5841, 3.5823, 3.5805, 3.5646, 3.5627, 3.5577, 3.5495, 3.5481, 3.5479, 3.5468, 3.5464, 3.5317, 3.5252, 3.5204, 3.515, 3.5148, 3.5128, 3.5124, 3.5115, 3.5026, 3.5008, 3.5001, 3.4982, 3.4757, 3.4465, 3.4264, 3.4015, 3.436, 3.485, 3.1036, 3.4256, 3.1141, 3.2858, 3.3983, 3.2293, 3.1619, 2.9846, 2.8056, 3.0459, 2.5984, 3.1033, 2.5195, 2.3596, 2.6601, 2.8386, 2.5302, 2.9552, 1.32, 1.9277, 0.7115, 0.9994, 2.0892, 2.3422, 1.6607, 3.6104, 3.5971, 3.5919, 3.5909, 3.557, 3.5369, 3.5243, 3.5174, 3.513, 3.5118, 3.5116, 3.51, 3.5083, 3.5081, 3.5079, 3.5036, 3.4965, 3.491, 3.4902, 3.4902, 3.4892, 3.4885, 3.4833, 3.4773, 3.4772, 3.4699, 3.4684, 3.4669, 3.4661, 3.4651, 3.4594, 3.4492, 3.4317, 3.4275, 3.3558, 3.3505, 3.325, 3.1069, 3.2996, 2.5481, 2.5119, 2.0382, 2.1834, 2.1187, 3.2986, 0.8305, 2.985, 2.5283, 2.8124, 2.8706, 0.1414, 1.026, 2.1344, 1.2861, 1.8051, 1.0123, 1.1858, 1.4777, 0.573, 2.6728, 1.488, 0.4771, 0.186, 3.6244, 3.6102, 3.6057, 3.5954, 3.5953, 3.5919, 3.584, 3.5794, 3.5733, 3.5657, 3.5607, 3.5482, 3.5449, 3.5345, 3.5262, 3.5245, 3.5221, 3.5183, 3.4974, 3.4972, 3.4933, 3.4899, 3.4862, 3.4814, 3.4793, 3.4789, 3.4757, 3.4754, 3.4709, 3.4702, 3.4667, 3.4593, 3.4413, 3.3782, 3.453, 3.293, 3.319, 2.7747, 3.1802, 2.8032, 3.319, 2.75, 2.6563, 2.3152, 3.319, 2.8331, 1.972, 2.7413, 1.7074, 1.7631, 1.9732, 2.7003, 2.4891, 2.2481, 2.378, 1.7357, 1.7721, 1.149, 2.571, 1.6565, 1.308, 0.9639, 1.0215, 2.1861, 1.159, 0.5422, 0.9275, 0.5268, 1.1712, 0.9711, 0.3696, 1.1717, 0.4413, 1.0925, 0.1259, -0.6228, 3.6617, 3.6134, 3.6114, 3.5841, 3.5823, 3.5742, 3.5711, 3.5639, 3.5637, 3.55, 3.546, 3.5437, 3.5421, 3.5405, 3.5323, 3.5214, 3.5187, 3.5116, 3.5089, 3.5054, 3.501, 3.4998, 3.4991, 3.4918, 3.4917, 3.4895, 3.4876, 3.4857, 3.4852, 3.481, 3.4731, 3.477, 3.4475, 3.4408, 3.0486, 3.2894, 2.6663, 3.0784, 3.1798, 2.5081, 2.2878, 2.8406, 2.7009, 2.6267, 0.5658, 0.6252, 3.1838, -1.6837, 1.1552, 1.5831, 1.1131, 0.3695, 1.2748, -0.1142, -2.0353, 3.6463, 3.6409, 3.6372, 3.6305, 3.6287, 3.5971, 3.5962, 3.5874, 3.5829, 3.5762, 3.5752, 3.5646, 3.5516, 3.5482, 3.544, 3.5384, 3.5357, 3.5344, 3.5331, 3.5231, 3.5112, 3.5102, 3.5086, 3.506, 3.5045, 3.4998, 3.4846, 3.4837, 3.4787, 3.4769, 3.4687, 3.4657, 3.4139, 3.4427, 3.4425, 3.388, 3.4137, 3.3456, 3.3795, 3.3458, 3.3487, 2.0292, 1.1679, 2.2789, 1.8941, 2.7794, 1.7927, 2.1763, 2.5163, 0.7807, 3.7253, 3.683, 3.683, 3.683, 3.6826, 3.6702, 3.5773, 3.5701, 3.5692, 3.5544, 3.5489, 3.5458, 3.5234, 3.5162, 3.5145, 3.4979, 3.4861, 3.4819, 3.4756, 3.4743, 3.4738, 3.4708, 3.4704, 3.4663, 3.4637, 3.4633, 3.4603, 3.4601, 3.4541, 3.4515, 3.4502, 3.3142, 3.189, 2.9907, 2.6002, 3.395, 3.051, 1.9196, 2.9209, 2.412, 1.674, 2.0029, 3.1384, 1.4608, 1.2782, 1.3155, 0.7762, 0.5838, 0.8325, 2.186, 0.6533, 2.5142, 0.7447, 1.1026, 1.8351, -1.5155, 1.2868, -0.4059, 3.7232, 3.6962, 3.6138, 3.6129, 3.5988, 3.5918, 3.586, 3.5796, 3.5507, 3.5352, 3.5318, 3.524, 3.5169, 3.5155, 3.5129, 3.5096, 3.4993, 3.4975, 3.4968, 3.4968, 3.4932, 3.493, 3.4881, 3.4879, 3.4845, 3.4836, 3.4811, 3.4732, 3.4731, 3.4723, 3.4671, 3.4683, 3.4396, 3.4135, 3.3986, 3.4377, 3.3553, 2.8475, 3.339, 3.4328, 3.2094, 3.3893, 2.9656, 2.4113, 3.0957, 2.9266, 1.9231, 2.511, 2.4678, 2.0257, 1.8783, 1.6806]}, \"token.table\": {\"Topic\": [7, 5, 6, 7, 5, 1, 2, 6, 4, 7, 5, 1, 6, 1, 2, 1, 6, 1, 2, 7, 1, 2, 1, 6, 6, 6, 3, 1, 2, 3, 6, 4, 1, 2, 3, 1, 2, 7, 6, 1, 7, 8, 9, 4, 8, 8, 4, 1, 6, 1, 2, 6, 9, 6, 2, 1, 4, 1, 2, 7, 9, 4, 10, 1, 2, 9, 1, 2, 4, 1, 6, 1, 2, 3, 4, 1, 2, 6, 7, 7, 10, 8, 1, 3, 4, 1, 2, 5, 10, 10, 1, 8, 9, 1, 2, 6, 7, 4, 1, 2, 3, 1, 2, 10, 1, 2, 3, 4, 5, 6, 7, 8, 9, 10, 5, 5, 7, 1, 8, 1, 2, 4, 9, 8, 1, 2, 1, 7, 9, 9, 1, 2, 9, 7, 1, 2, 9, 4, 8, 10, 4, 1, 2, 3, 1, 2, 1, 2, 3, 1, 7, 1, 2, 9, 1, 2, 9, 1, 2, 3, 3, 10, 10, 1, 6, 1, 2, 1, 2, 5, 1, 7, 1, 7, 1, 2, 5, 4, 1, 2, 1, 2, 6, 4, 10, 5, 1, 3, 4, 1, 5, 1, 2, 5, 1, 2, 7, 1, 2, 6, 9, 9, 1, 2, 6, 10, 3, 8, 3, 1, 9, 9, 1, 2, 4, 1, 1, 2, 1, 1, 2, 3, 1, 2, 6, 1, 2, 5, 6, 1, 2, 9, 1, 2, 4, 9, 1, 2, 3, 1, 2, 3, 10, 1, 7, 9, 1, 2, 3, 6, 1, 2, 6, 7, 10, 10, 1, 2, 1, 2, 9, 1, 2, 4, 10, 1, 2, 1, 2, 3, 6, 1, 4, 8, 1, 2, 3, 6, 1, 2, 9, 1, 2, 3, 1, 9, 4, 5, 8, 1, 2, 3, 4, 1, 2, 1, 2, 1, 2, 6, 1, 10, 4, 2, 5, 8, 9, 1, 2, 1, 2, 3, 8, 1, 2, 3, 4, 1, 2, 3, 4, 1, 2, 4, 3, 1, 5, 3, 9, 1, 2, 5, 1, 2, 5, 6, 1, 2, 3, 4, 5, 6, 8, 9, 1, 1, 2, 5, 1, 2, 9, 1, 2, 2, 2, 5, 10, 10, 6, 7, 8, 3, 1, 2, 4, 9, 1, 2, 3, 4, 2, 7, 4, 10, 1, 2, 6, 1, 2, 1, 2, 3, 6, 7, 1, 2, 1, 1, 10, 1, 2, 3, 6, 6, 5, 5, 7, 1, 2, 3, 6, 1, 2, 3, 6, 8, 1, 2, 4, 2, 7, 1, 2, 3, 4, 1, 2, 10, 3, 5, 10, 1, 2, 4, 7, 9, 3, 1, 6, 1, 7, 1, 2, 4, 1, 2, 6, 7, 1, 2, 1, 2, 10, 1, 2, 7, 9, 1, 2, 1, 2, 5, 1, 2, 3, 4, 6, 7, 1, 2, 5, 10, 4, 5, 7, 1, 6, 4, 1, 2, 6, 1, 2, 3, 5, 6, 9, 3, 1, 2, 3, 4, 5, 6, 9, 1, 2, 3, 4, 5, 6, 8, 1, 2, 6, 7, 1, 2, 9, 1, 2, 7, 1, 7, 1, 2, 4, 3, 1, 2, 4, 10, 1, 2, 6, 4, 1, 2, 10, 6, 1, 2, 6, 5, 6, 7, 10, 5, 3, 3, 4, 1, 2, 9, 6, 9, 1, 2, 6, 1, 2, 10, 1, 2, 6, 7, 1, 9, 2, 6, 5, 3, 4, 10, 6, 1, 2, 1, 1, 2, 3, 1, 2, 3, 1, 2, 3, 6, 1, 3, 1, 2, 3, 3, 4, 1, 2, 6, 6, 1, 2, 6, 8, 1, 10, 1, 2, 7, 1, 1, 2, 6, 1, 1, 2, 3, 8, 8, 6, 9, 1, 2, 5, 2, 8, 10, 9, 7, 9, 10, 1, 2, 3, 5, 6, 4, 1, 5, 4, 5, 3, 1, 2, 3, 5, 1, 4, 1, 2, 5, 10, 5, 6, 10, 3, 1, 2, 5, 6, 7, 5, 4, 1, 2, 10, 1, 2, 7, 3, 7, 1, 2, 3, 4, 5, 6, 7, 9, 2, 1, 2, 3, 1, 2, 8, 8, 4, 1, 2, 8, 1, 2, 3, 6, 7, 9, 5, 6, 2, 1, 2, 3, 6, 2, 2, 1, 1, 3, 1, 2, 3, 4, 6, 8, 3, 1, 2, 6, 7, 2, 1, 2, 3, 6, 3, 1, 2, 9, 1, 2, 3, 5, 1, 2, 3, 4, 10, 6, 1, 2, 3, 7, 1, 6, 1, 3, 4, 9, 1, 4, 6, 1, 1, 1, 2, 6, 1, 5, 10, 2, 4, 10, 1, 2, 3, 1, 2, 3, 10, 1, 2, 3, 5, 6, 2, 5, 1, 2, 5, 1, 1, 3, 1, 2, 3, 5, 6, 7, 2, 5, 1, 2, 5, 4, 5, 8, 1, 7, 2, 5, 5, 2, 1, 2, 5, 7, 2, 1, 10, 6, 6, 7, 1, 2, 6, 6, 2, 2, 1, 2, 3, 4, 5, 6, 7, 5, 8, 1, 2, 8, 8, 3, 1, 3, 1, 7, 10, 5, 10, 1, 4, 2, 7, 7, 1, 2, 9, 7, 1, 2, 1, 2, 7, 6, 1, 4, 1, 2, 3, 1, 2, 3, 2, 1, 2, 4, 8, 1, 2, 1, 2, 1, 2, 3, 6, 6, 2, 5, 1, 2, 5, 8, 1, 2, 3, 8, 1, 9, 1, 2, 9, 9, 1, 2, 3, 6, 1, 2, 6, 7, 1, 2, 10, 1, 2, 5, 3, 8, 1, 2, 3, 1, 2, 3, 4, 1, 2, 3, 1, 2, 6, 3, 1, 2, 3, 5, 1, 2, 3, 1, 3, 1, 3, 3, 4, 8, 9, 1, 2, 6, 1, 5, 3, 2, 10, 1, 2, 5, 1, 2, 3, 10, 10, 2, 2, 1, 2, 3, 4, 1, 6, 2, 1, 2, 4, 1, 2, 6, 9, 6, 2, 7, 9, 1, 2, 6, 1, 2, 1, 2, 5, 1, 2, 3, 6, 4, 7, 1, 2, 4, 1, 2, 1, 2, 3, 7, 1, 2, 9, 1, 2, 8, 4, 1, 2, 3, 6, 1, 2, 9, 1, 4, 1, 2, 3, 9, 1, 2, 8, 1, 2, 6, 1, 2, 6, 1, 2, 6, 9, 8, 10, 1, 2, 3, 4, 5, 6, 1, 2, 4, 1, 2, 3, 4, 1, 4, 1, 6, 1, 5, 1, 2, 4, 8, 1, 2, 3, 5, 6, 7, 1, 4, 5, 6, 1, 2, 5, 1, 2, 6, 7, 1, 2, 3, 5, 6, 1, 2, 3, 7, 5, 8, 1, 2, 3, 1, 2, 8, 1, 2, 8, 4, 6, 1, 2, 5, 1, 6, 8, 3, 9, 7, 2, 9, 3, 7, 8, 6, 10, 4, 5, 1, 2, 4, 6, 1, 2, 9, 1, 2, 5, 8, 4, 1, 2, 4, 1, 2, 3, 6, 10, 3, 1, 2, 7, 1, 2, 6, 4, 3, 9, 1, 2, 3, 4, 1, 3, 1, 2, 6, 1, 2, 3, 6, 1, 2, 5, 4, 1, 2, 6, 1, 2, 6, 4, 4, 4, 8, 9, 2, 6, 4, 9, 7, 5, 1, 2, 3, 4, 1, 2, 3, 1, 2, 3, 1, 2, 4, 5, 6, 9, 1, 2, 3, 6, 1, 2, 3, 4, 5, 6, 9, 3, 4, 1, 2, 5, 1, 2, 3, 5, 6, 9, 2, 6, 1, 2, 6, 1, 3, 7, 8, 10, 4, 1, 2, 9, 1, 2, 9, 1, 2, 1, 2, 1, 5, 5, 8, 10, 1, 2, 3, 5, 6, 9, 7, 10, 8, 3, 5, 9, 9, 1, 2, 10, 4, 3, 5, 1, 5, 1, 2, 2, 2, 1, 2, 3, 7, 3, 10, 1, 2, 6, 7, 7, 1, 2, 3, 6, 1, 2, 3, 4, 6, 6, 10, 7, 1, 8, 1, 10, 8, 1, 3, 4, 1, 2, 3, 4, 10, 8, 4, 1, 2, 1, 2, 6, 1, 2, 5, 8, 1, 5, 6, 1, 2, 3, 1, 2, 3, 6, 1, 2, 6, 9, 1, 2, 3, 4, 9, 1, 2, 3, 6, 1, 2, 6, 1, 2, 9, 1, 2, 3, 5, 1, 2, 3, 4, 5, 6, 10, 1, 2, 1, 2, 3, 4, 9, 10, 1, 2, 3, 1, 2, 3, 5, 6, 1, 2, 1, 2, 6, 1, 2, 3, 4, 5, 6, 1, 2, 5, 5, 1, 2, 7, 1, 2, 7, 1, 10, 1, 2, 3, 4, 6, 5, 1, 2, 3, 6, 4, 8, 6, 10], \"Freq\": [0.8127204091402561, 0.9023671903826187, 0.6516990666016854, 0.7182909864679572, 0.8955708458109004, 0.9499940258353481, 0.0483404039694978, 0.0021017566943259914, 0.7691977253458121, 0.7297657860567913, 0.6484385345330845, 0.6660795743960114, 0.30742134202892835, 0.019178855933863728, 0.9781216526270501, 0.7283654640672583, 0.262211567064213, 0.028732508363261775, 0.9686959962471112, 0.0013682146839648463, 0.16779554322814066, 0.8221981618178892, 0.6129269660111131, 0.3502439805777789, 0.8616976182166636, 0.9477524645591503, 0.9101223966253226, 0.8487796314707811, 0.14879993539297842, 0.0018599991924122302, 0.0006199997308040767, 0.8279951864585122, 0.038353720058926906, 0.23012232035356145, 0.6903669610606843, 0.025884696966582566, 0.9706761362468462, 0.842487552798765, 0.7472233947149982, 0.9899934948519612, 0.644639333997847, 0.7600470450981648, 0.7007572125651937, 0.8615937770678093, 0.9469719953405448, 0.9090132054933378, 0.934235354329859, 0.8654100420752805, 0.13370511685713163, 0.9039885703329442, 0.028516989600408337, 0.06701492556095959, 0.615234611266666, 0.8990726136335117, 0.9570970922944904, 0.21148349554864573, 0.74019223442026, 0.8718381970206713, 0.06642576739205115, 0.008303220924006394, 0.04981932554403837, 0.3268279400801916, 0.6536558801603832, 0.6510771143205806, 0.03150373133809261, 0.3045360696015619, 0.9937425541228917, 0.005031607868976667, 0.0025158039344883336, 0.5770284974766446, 0.41216321248331755, 0.371214848133433, 0.1856074240667165, 0.03093457067778608, 0.4330839894890051, 0.9338686852552884, 0.06470625721806306, 0.0008744088813251764, 0.6764456197721184, 0.9174586059794014, 0.5666782305052632, 0.8508081090654412, 0.9906794356749908, 0.051819980911545584, 0.8809396754962749, 0.703619688666484, 0.11726994811108067, 0.014658743513885084, 0.14658743513885084, 0.8008477517878414, 0.6343271948982967, 0.2819231977325763, 0.8159984986467517, 0.8759833690159544, 0.03276745769386363, 0.08956438436322726, 0.6184179917573418, 0.8677169044874966, 0.13841558148565486, 0.3460389537141372, 0.5075237987807345, 0.5963141400130183, 0.010461651579175758, 0.38708110842950305, 0.570485291029848, 0.1288192592648044, 0.0644096296324022, 0.03680550264708697, 0.03680550264708697, 0.03680550264708697, 0.03680550264708697, 0.04600687830885872, 0.02760412698531523, 0.018402751323543486, 0.8491472238275541, 0.8250512282743155, 0.1650102456548631, 0.26299618079514275, 0.6574904519878568, 0.8437612694879083, 0.02327617295139057, 0.005819043237847643, 0.12219990799480052, 0.6263513901654932, 0.9886475385559621, 0.007296291797460976, 0.4311923488718433, 0.49279125585353517, 0.8374833854153652, 0.8912104534177807, 0.4941918014701333, 0.0400696055246054, 0.4541221959455279, 0.8755310151159312, 0.15735693735112324, 0.8339917679609532, 0.9338593295803466, 0.16072542511112992, 0.16072542511112992, 0.6429017004445197, 0.9071474961199412, 0.58405556788986, 0.4106640711725578, 0.004562934124139531, 0.07220940824041149, 0.9146525043785455, 0.7467921182956218, 0.06166173453817061, 0.18498520361451182, 0.4957408788458021, 0.4957408788458021, 0.9893832232466465, 0.008736275701957143, 0.6849197464764973, 0.37558596107822895, 0.6187932637436395, 0.003078573451460893, 0.07767643381912936, 0.07767643381912936, 0.8544407720104231, 0.833271522439459, 0.6129083290977694, 0.8303498297604476, 0.20377582311940076, 0.815103292477603, 0.9892916335896105, 0.0065516002224477515, 0.8241888787644804, 0.08241888787644805, 0.08241888787644805, 0.9938403334631547, 0.7609093268555802, 0.7005958866707965, 0.29498774175612485, 0.23678450322837147, 0.7607331912230658, 0.9462383750818794, 0.9438472217834811, 0.9923781055851714, 0.008269817546543094, 0.743487962981544, 0.008023251399081409, 0.24604637623849657, 0.1551265945128383, 0.7756329725641916, 0.8415208030019655, 0.0628574533299514, 0.8800043466193196, 0.0628574533299514, 0.39032535287472436, 0.5464554940246141, 0.9966225233201547, 0.0030109441792149686, 0.8182337608025585, 0.4528935859224754, 0.07548226432041258, 0.37741132160206287, 0.8009564182816125, 0.025837303815535888, 0.17569366594564403, 0.7520039247107498, 0.7969742146573826, 0.9867060952041536, 0.011816839463522799, 0.7955071863095091, 0.8359250185873809, 0.16375048970171893, 0.8187524485085946, 0.8118598165988969, 0.6611769867672516, 0.2644707947069006, 0.5920706873759568, 0.26770744014222686, 0.15413458674855485, 0.56786426696836, 0.993353569038044, 0.9870770273082835, 0.011544760553313257, 0.9983911858873045, 0.32630972375803463, 0.6672303306694141, 0.004870294384448279, 0.8778741777714827, 0.043245033387757766, 0.07784106009796399, 0.905102140942808, 0.01483774001545587, 0.06676983006955142, 0.007418870007727935, 0.9704922970885319, 0.027728351345386627, 0.8290367135362842, 0.5379915348260325, 0.10087341277988109, 0.3474528662418126, 0.842284886599982, 0.4602394517056254, 0.5189643669084204, 0.020485435535858697, 0.45486125050319454, 0.5265174748975334, 0.017135184094298424, 0.7861119242917075, 0.6551777868564294, 0.3400289779887798, 0.8287822850876558, 0.8736683830724505, 0.12480976901035008, 0.0006148264483268477, 0.0006148264483268477, 0.9447096150616517, 0.027663531919814105, 0.027663531919814105, 0.760519063272423, 0.1521038126544846, 0.7389367751467882, 0.21895213688584902, 0.7752089170823303, 0.675846322392848, 0.16384153270129648, 0.15360143690746547, 0.4316777863969732, 0.1381368916470314, 0.41441067494109424, 0.7450925407582255, 0.09419450995999536, 0.9026973871166222, 0.6239921969695876, 0.32206048875849685, 0.053197491446716, 0.9442259222914376, 0.4511875714859837, 0.526385500066981, 0.7765706087455402, 0.6459588162992624, 0.2906814673346681, 0.06459588162992624, 0.7610066622487492, 0.7233111338279492, 0.038069007043576276, 0.19034503521788138, 0.1200983146380481, 0.5378315829443023, 0.3341866146450034, 0.04888364267039471, 0.9483426678056573, 0.09733441339164654, 0.09733441339164654, 0.7786753071331723, 0.6621936378822689, 0.04138710236764181, 0.020693551183820904, 0.26901616538967177, 0.07620878708838541, 0.914505445060625, 0.9820884472198964, 0.01613286976952602, 0.9741850724214951, 0.022897512385975313, 0.0020815920350886648, 0.6911652007668735, 0.28798550031953063, 0.9686569437932591, 0.9443446122179813, 0.8321311509241169, 0.7576232986682393, 0.8261687612358585, 0.06814157296339356, 0.9085543061785807, 0.33299754774141377, 0.027749795645117814, 0.6104955041925919, 0.7757668309367014, 0.5405766103525244, 0.02772187745397561, 0.34652346817469515, 0.08316563236192683, 0.815607213381184, 0.05878250186531056, 0.11756500373062112, 0.00734781273316382, 0.550323668643082, 0.06603884023716984, 0.3742200946772958, 0.8686506976137897, 0.6805660375543946, 0.3223733862099764, 0.8758062559985494, 0.1251151794283642, 0.8755681945363423, 0.05081422557576987, 0.06644937190677598, 0.9642826393457187, 0.031615824240843235, 0.0014370829200383288, 0.0014370829200383288, 0.8471435501293476, 0.14888036563194038, 0.0019026244809193659, 0.00047565612022984146, 0.00047565612022984146, 0.0009513122404596829, 0.720660424060881, 0.18016510601522026, 0.9982673317748529, 0.7307196641507643, 0.049821795283006655, 0.21589444622636217, 0.8350392125118598, 0.06423378557783536, 0.0992703958930183, 0.23009366485168337, 0.7649059669393798, 0.9675336294029452, 0.15779360891239314, 0.6311744356495725, 0.15779360891239314, 0.9102586293461635, 0.9056762132041942, 0.8099005054496666, 0.6678900772478389, 0.849139719633936, 0.8131918000206995, 0.010842557333609327, 0.1301106880033119, 0.03252767200082798, 0.7378795318083154, 0.14090161913927632, 0.05191112284078601, 0.07045080956963816, 0.12758353756549104, 0.7655012253929462, 0.19987289152171184, 0.7994915660868473, 0.9795341212294713, 0.018608170996000595, 0.0007443268398400238, 0.9856280571640671, 0.010448353962869968, 0.5889158553689631, 0.3219971583312316, 0.08473609429769252, 0.004236804714884627, 0.8217953573913367, 0.18583576321577977, 0.8120768282990924, 0.9921500906769029, 0.7891161223624279, 0.14795927294295524, 0.6011574927441694, 0.30647244728134126, 0.08840551363884845, 0.7878525974375534, 0.6523087412499171, 0.7733087553890436, 0.6483985689987198, 0.16209964224967996, 0.8658325932251075, 0.13164006254977448, 0.0011967278413615862, 0.0005983639206807931, 0.8170181567712808, 0.09963636058186351, 0.0018115701923975183, 0.005434710577192555, 0.07427437788829826, 0.8249388370404785, 0.07970423546284816, 0.0956450825554178, 0.9629922525719273, 0.7621410191300992, 0.6925765219811781, 0.1563882468989757, 0.13404706877055061, 0.011170589064212552, 0.6978972376994772, 0.02326324125664924, 0.25589565382314167, 0.16650902474591114, 0.6660360989836446, 0.16650902474591114, 0.8502177264119601, 0.02361715906699889, 0.02361715906699889, 0.09446863626799556, 0.02361715906699889, 0.8517621229562452, 0.9206994453898931, 0.07703063088919425, 0.3393907439610847, 0.5656512399351412, 0.44033418590845314, 0.029355612393896873, 0.49904541069624686, 0.16062017919109844, 0.837114580960666, 0.0018896491669540994, 0.0018896491669540994, 0.035564325784553714, 0.9624595665444848, 0.7607753971553646, 0.1267958995258941, 0.1267958995258941, 0.7918853678974275, 0.024365703627613155, 0.012182851813806577, 0.17055992539329207, 0.052788402269534664, 0.9237970397168567, 0.057584571482161624, 0.921353143714586, 0.8330126911634286, 0.6693084349519504, 0.266172852509849, 0.010336809806207728, 0.05168404903103864, 0.6375277982777118, 0.7335564377009194, 0.9783892450477585, 0.016520643912626316, 0.005506881304208772, 0.8864733478879787, 0.15973088308532293, 0.7986544154266146, 0.7728902051797462, 0.8685276040327928, 0.12821121773817418, 0.9298247354561373, 0.7291255662808707, 0.1312426019305567, 0.13853385759336542, 0.805248464533014, 0.18928465375898468, 0.003549087257980963, 0.00039434302866455143, 0.0007886860573291029, 0.00039434302866455143, 0.9188708452462899, 0.8292044267207472, 0.16622411096019601, 0.001916128080232807, 0.00047903202005820174, 0.00047903202005820174, 0.0014370960601746052, 0.00047903202005820174, 0.8557562728182477, 0.13708160134286945, 0.002867815927675093, 0.0005735631855350186, 0.0005735631855350186, 0.0005735631855350186, 0.0017206895566050557, 0.9344256497602641, 0.0025530755457930715, 0.06127381309903371, 0.6680903575120408, 0.6761330516038271, 0.15366660263723345, 0.15366660263723345, 0.9361891378639723, 0.012651204565729355, 0.044279215980052744, 0.753855288903297, 0.23195547350870677, 0.032299778073843745, 0.9528434531783905, 0.9020928967169289, 0.7804928990651325, 0.16712788745946403, 0.0334255774918928, 0.8022138598054273, 0.8207375334799718, 0.635051864107979, 0.009621997941029985, 0.34639192587707945, 0.8509592789319668, 0.992329515045619, 0.0067967775003124585, 0.8335252643835132, 0.7819049376350427, 0.9039444488666033, 0.055914089620614636, 0.03727605974707642, 0.12678522099250716, 0.12678522099250716, 0.12678522099250716, 0.5071408839700287, 0.8953558626661247, 0.8008171919099667, 0.08753053295126204, 0.8753053295126203, 0.4926037508126884, 0.2463018754063442, 0.2463018754063442, 0.7522147313166225, 0.18805368282915563, 0.9709164941194365, 0.02753523966060054, 0.0011971843330695886, 0.9930688030175383, 0.005367939475770477, 0.8008946810509173, 0.9896640888091711, 0.008316504947976228, 0.8938571140790873, 0.6821537274541097, 0.9929056905495272, 0.9609178522205789, 0.26265095106424696, 0.6566273776606174, 0.8138971727920733, 0.06795317218782625, 0.9513444106295675, 0.6864083078277776, 0.8335338859102458, 0.9901113538706966, 0.0071747199555847576, 0.9877146840592407, 0.3647316551647412, 0.49999637496093663, 0.13526471979619542, 0.5596066536334913, 0.4099682444201401, 0.02869777710940981, 0.4189545508911616, 0.5770506078312226, 0.0026349342823343497, 0.6647518857382405, 0.2295746808106136, 0.6887240424318408, 0.45838608238102174, 0.5177721335396966, 0.02226976918450308, 0.8000109444126721, 0.17778020986948267, 0.9181230328752652, 0.007949117167751214, 0.07154205450976092, 0.8149817013275594, 0.8506603453651639, 0.004673957941566834, 0.14489269618857187, 0.9504281192638216, 0.6971762389747711, 0.2681447072979889, 0.6257161640865988, 0.06952401823184431, 0.34762009115922154, 0.9892959092148613, 0.9894478602255791, 0.0048502346089489175, 0.9013562761425151, 0.9890950203251003, 0.6635545816998022, 0.3361658793532067, 0.0008777177006611141, 0.618948032456007, 0.7646476649764623, 0.9245390108739765, 0.9204342766735271, 0.8239415574306274, 0.13009603538378325, 0.036137787606606464, 0.1715542667085183, 0.6862170668340732, 0.8981914762638185, 0.7981901389094951, 0.18318982229652625, 0.18318982229652625, 0.732759289186105, 0.9025991598498662, 0.09407674387952744, 0.0016127441807918992, 0.0005375813935972997, 0.0010751627871945994, 0.8403352947075906, 0.6322553648659874, 0.35125298048110415, 0.9340244498885716, 0.7980889974681711, 0.8578388909639543, 0.7051395170663673, 0.04029368668950671, 0.08058737337901342, 0.14102790341327348, 0.16204066694788208, 0.8282078532891751, 0.6885074281995642, 0.051000550237004755, 0.20400220094801902, 0.025500275118502377, 0.11091576641379947, 0.11091576641379947, 0.5545788320689973, 0.9388186833072938, 0.9904180806031094, 0.003977582653024536, 0.8478536182450161, 0.12112194546357373, 0.7217616798917695, 0.7988269783811497, 0.9282460851247885, 0.9689816460287373, 0.030139398010225107, 0.8650705347222639, 0.9659270785473714, 0.0318875514238472, 0.0013286479759936332, 0.20726539997210505, 0.8290615998884202, 0.8615837997146318, 0.13396901534024303, 0.0017720769224899872, 0.0003544153844979974, 0.0003544153844979974, 0.0010632461534939924, 0.0003544153844979974, 0.0010632461534939924, 0.9223791072490658, 0.49773738117923255, 0.2691845020663196, 0.23363183198208873, 0.7430826588205905, 0.07784675473358567, 0.17692444257633108, 0.7229474183503616, 0.859240657305021, 0.7461255847308998, 0.08562096873961146, 0.15901037051642128, 0.8802130903993224, 0.11170216883240132, 0.001489362251098684, 0.000744681125549342, 0.000744681125549342, 0.005212767878845395, 0.8985688851233133, 0.7409732277048606, 0.9921454553676744, 0.5205104642261809, 0.42446389047015937, 0.05267070173717306, 0.003098276572774886, 0.9829033369667112, 0.9773151526175111, 0.9941720747552093, 0.28727431172963963, 0.6703067273691591, 0.8367355671966453, 0.1593782032755515, 0.002812556528392085, 0.0004687594213986809, 0.0004687594213986809, 0.8111742359131046, 0.8234329271583185, 0.9140269201032324, 0.08176323673239838, 0.0008606656498147198, 0.003442662599258879, 0.9554810714634051, 0.8604245734027329, 0.136611773495564, 0.0017219971449020672, 0.000573999048300689, 0.8162073506331422, 0.863311821128391, 0.04796176784046617, 0.08526536504971763, 0.4365767905273929, 0.5602314884224349, 0.002523565263164121, 0.695361349452727, 0.6794425323279711, 0.2341908302917688, 0.08384609973409006, 0.2173020401356006, 0.6519061204068017, 0.8729987496809574, 0.9730638230497722, 0.025384273644776665, 0.0016922849096517778, 0.6867677613826683, 0.7629652655444237, 0.23312827558301835, 0.3095736217800954, 0.6191472435601908, 0.07739340544502385, 0.8046824970103085, 0.1798754511254502, 0.7914519849519808, 0.8806670710901296, 0.9875659027375372, 0.9900108680697649, 0.8414655430392891, 0.08161371487672034, 0.07879944884648861, 0.3784588472774178, 0.09461471181935445, 0.3784588472774178, 0.9932740576997214, 0.18154287180970263, 0.7261714872388105, 0.6873370886481117, 0.3074929080794184, 0.004718561249300538, 0.2413182097241253, 0.5148121807448006, 0.2413182097241253, 0.7902352167158824, 0.9334065053709354, 0.06250122855347233, 0.000822384586229899, 0.000822384586229899, 0.001644769172459798, 0.9577170162211815, 0.03683526985466083, 0.028356589522764885, 0.9546718472664179, 0.009452196507588296, 0.9914009886290559, 0.39663465435446993, 0.5552885160962578, 0.7918731989984064, 0.2031217602510198, 0.0025138831714235123, 0.0005027766342847025, 0.001005553268569405, 0.0005027766342847025, 0.15638715373675102, 0.7819357686837551, 0.9627635638769105, 0.033002533513511116, 0.0022760367940352494, 0.16419636521684552, 0.6567854608673821, 0.16419636521684552, 0.6045412293873977, 0.3627247376324387, 0.11285909827033452, 0.7900136878923417, 0.848605593393263, 0.9110733848603433, 0.7571446001832223, 0.15939886319646784, 0.01992485789955848, 0.07969943159823392, 0.9481652787529788, 0.3103161052093265, 0.620632210418653, 0.8555789534367115, 0.9150409371781756, 0.6616602096437174, 0.9668186754664315, 0.02705383627962032, 0.0056955444799200675, 0.8526499295542008, 0.9557645695141915, 0.981747306851601, 0.8739434384521957, 0.1225389442895554, 0.0014374069711384798, 0.00035935174278461994, 0.00035935174278461994, 0.0010780552283538598, 0.00035935174278461994, 0.8068951823873891, 0.8052617989025666, 0.9855226629623031, 0.010212670082510913, 0.8124323701179835, 0.7873513225572992, 0.7752121848042814, 0.9901758451837255, 0.768638036675578, 0.2851176082111984, 0.665274419159463, 0.6184953904892916, 0.6664488941332302, 0.16661222353330754, 0.3286644459076072, 0.6573288918152144, 0.9956299183650416, 0.8008015135290949, 0.72392730592422, 0.4051532937628461, 0.03920838326737221, 0.5489173657432108, 0.9047621410413125, 0.976317935622302, 0.02197193005803615, 0.03624290729445241, 0.9622491886677116, 0.0018121453647226206, 0.8077066257921334, 0.19948402533260504, 0.7979361013304201, 0.7390271735125582, 0.1857447976208034, 0.07113630547179704, 0.46511119788290856, 0.5069633090676184, 0.026848524156229014, 0.957648056628586, 0.4629099038103005, 0.06612998625861437, 0.13225997251722874, 0.3967799175516862, 0.9938260922464275, 0.003793229359719189, 0.9914532209657303, 0.0061580945401598156, 0.8582161396211384, 0.13981995345099268, 0.0015816736815723155, 0.0003163347363144631, 0.8998260762493047, 0.056707782067485266, 0.9073245130797642, 0.7458158230967931, 0.04566219325082407, 0.2054798696287083, 0.8958161850166667, 0.2745018256643457, 0.09150060855478191, 0.6405042598834734, 0.7309789340683553, 0.1577224485360905, 0.7886122426804525, 0.9141157756173663, 0.04126217042717279, 0.04126217042717279, 0.7942773019105069, 0.7799963587802752, 0.20050426458987755, 0.017384762825711927, 0.0011589841883807952, 0.1551919745705542, 0.8124756315752543, 0.030429798935402784, 0.003042979893540278, 0.7988674930003689, 0.046992205470609935, 0.1409766164118298, 0.9602644871211548, 0.039487511619935335, 0.6518726893753981, 0.805764864336315, 0.8070642219904767, 0.6287075369074707, 0.23162909254485764, 0.14338943824205475, 0.5184445242491423, 0.17821530521064266, 0.25922226212457117, 0.04860417414835709, 0.5140027786459361, 0.30562327378947557, 0.16670360388516847, 0.9703749034309611, 0.027315583345310857, 0.0017911857931351381, 0.7299783898913389, 0.3491218753202789, 0.6439359033685144, 0.0051721759306707984, 0.859797562240154, 0.41380871389189144, 0.5783642258489009, 0.007259801998103359, 0.06058742570248957, 0.8482239598348539, 0.13438264979135237, 0.8062958987481142, 0.9079598001620515, 0.16536055542344805, 0.6614422216937922, 0.7533914555003182, 0.9609664184954184, 0.0030030200577981824, 0.034534730664679096, 0.5361134551916367, 0.4595258187356886, 0.7894616213296013, 0.9819837666435383, 0.6923703642517178, 0.5938174849829707, 0.08483106928328153, 0.3053918494198135, 0.5223503798752919, 0.40627251768078254, 0.06964671731670558, 0.9175183376716001, 0.8222376601443234, 0.9841278659075955, 0.9856416382333297, 0.9485196474947465, 0.048508767360461925, 0.0008662279885796772, 0.0008662279885796772, 0.5882648664469253, 0.40002010918390923, 0.9170173616661151, 0.6388929520189307, 0.03650816868679604, 0.32857351818116437, 0.8568470500196643, 0.11909843166296492, 0.006616579536831384, 0.01654144884207846, 0.6629746627016896, 0.21079571686067075, 0.21079571686067075, 0.5269892921516769, 0.5955779209865163, 0.009453617793436767, 0.38759832953090745, 0.9892867111937458, 0.008042981391819071, 0.9946349699058549, 0.0037818820148511592, 0.8648774350374415, 0.9502515958554485, 0.047156166903386365, 0.0005483275221323996, 0.0016449825663971988, 0.20318706015446586, 0.8127482406178634, 0.4531277574126965, 0.3663586123762227, 0.1735382900729476, 0.12616738107255374, 0.8602321436765027, 0.7937362283221602, 0.17661138584150368, 0.028420223008977605, 0.881293666483951, 0.47055988708207575, 0.09411197741641515, 0.47055988708207575, 0.7617762673924506, 0.0928995448039574, 0.13005936272554036, 0.8839818864708296, 0.897142993364733, 0.10041821942950886, 0.0011034969168077897, 0.0011034969168077897, 0.5263748095336925, 0.39140690965325853, 0.08098073992826038, 0.20423013102126797, 0.7760744978808183, 0.8038410992849024, 0.08737403253096765, 0.01747480650619353, 0.08737403253096765, 0.7353956744216354, 0.045962229651352215, 0.18384891860540886, 0.49542548442909257, 0.10430010198507211, 0.3650503569477524, 0.9439163938599455, 0.014582977995027247, 0.04242320871280654, 0.945814615395303, 0.012819776413490552, 0.04130816844346956, 0.8058172139734143, 0.6212013163347486, 0.20706710544491622, 0.8583060681415791, 0.07848519732126984, 0.0020124409569556366, 0.0010062204784778183, 0.05634834679475783, 0.003018661435433455, 0.7215346805980887, 0.07215346805980886, 0.20202971056746483, 0.3122493843570871, 0.03746992612285045, 0.06244987687141742, 0.5745388672170403, 0.16384776484640046, 0.8192388242320023, 0.6148936204661262, 0.37940244667058853, 0.869392839437441, 0.1034991475520763, 0.33463016305693655, 0.04780430900813379, 0.6214560171057393, 0.7181089621908122, 0.8962410070111023, 0.0999887926189257, 0.0012193755197429964, 0.0006096877598714982, 0.0012193755197429964, 0.7981569683437453, 0.098947840661546, 0.098947840661546, 0.098947840661546, 0.6926348846308219, 0.9495104755676007, 0.006503496407997265, 0.04552447485598086, 0.37719859177089693, 0.59825451066919, 0.02280735671172865, 0.0017544120547483577, 0.8832010622131323, 0.11219208976595894, 0.002493157550354643, 0.0006232893875886608, 0.0006232893875886608, 0.5602831263334759, 0.3921981884334331, 0.003112684035185977, 0.0404648924574177, 0.17484421920976753, 0.6993768768390701, 0.41046635457526964, 0.5850538538063798, 0.00371462764321511, 0.9872344514456425, 0.009678769131820024, 0.8740468265493904, 0.7131962174538704, 0.0445747635908669, 0.22287381795433447, 0.8701744159733444, 0.7830671753132257, 0.7172400253644166, 0.17532533953352405, 0.11157067061224257, 0.4057850409829152, 0.6086775614743728, 0.8594055047194745, 0.7461961239700525, 0.8850340921401495, 0.6250743261386232, 0.1640897842648199, 0.4922693527944597, 0.15975510220298772, 0.15975510220298772, 0.7987755110149385, 0.8125306427470405, 0.7915300832294018, 0.14699220440505534, 0.8819532264303319, 0.9899514614362024, 0.010442525964516903, 0.2022376040820014, 0.7078316142870049, 0.3315138133407928, 0.02071961333379955, 0.6215884000139864, 0.7709450219833183, 0.13472825626892942, 0.08981883751261961, 0.9263803357423255, 0.8745920768382344, 0.27765241923390677, 0.1983231565956477, 0.47597557582955446, 0.7870365846513749, 0.21001413676174047, 0.002754283760809711, 0.0006885709402024277, 0.8090233674885264, 0.9578362129905972, 0.8803779545061237, 0.09390698181398653, 0.023476745453496633, 0.8773685089232927, 0.05943464092706176, 0.06509508292011526, 0.9592629500234555, 0.7709479865982239, 0.15418959731964477, 0.5064410586539891, 0.0980208500620624, 0.2940625501861872, 0.08168404171838534, 0.1543603046715948, 0.7718015233579741, 0.6826237219432989, 0.01844928978225132, 0.2951886365160211, 0.9304450944013051, 0.06804275350213626, 0.0007911948081643751, 0.0007911948081643751, 0.7860469212698908, 0.021101930772346063, 0.18991737695111457, 0.9467538453317095, 0.9170729495375324, 0.005507945642868063, 0.07711123900015288, 0.8520806107269204, 0.0050122388866289435, 0.1428488082689249, 0.9617657315127968, 0.8692493396359576, 0.21152100555280198, 0.634563016658406, 0.9609178522205789, 0.26265095115172843, 0.656627377879321, 0.9315391473521613, 0.683827347599442, 0.9618893833122317, 0.8315103424762346, 0.6354509342653486, 0.0879855139752021, 0.009776168219466901, 0.2737327101450732, 0.48962562573872864, 0.4245889605488111, 0.08565804683550113, 0.05479717406677519, 0.9315519591351782, 0.7893245648560503, 0.9385046170431113, 0.051677737024989415, 0.00276845019776729, 0.0018456334651781932, 0.0036912669303563865, 0.0009228167325890966, 0.8923181858998235, 0.1058239722663041, 0.0006532343967055809, 0.0006532343967055809, 0.900518875778028, 0.09537629224178601, 0.0013889751297347477, 0.0009259834198231651, 0.00046299170991158254, 0.0009259834198231651, 0.0009259834198231651, 0.09482045231747388, 0.8849908882964229, 0.19992026136449095, 0.7945548849101564, 0.6849269944205036, 0.8662350253965712, 0.13140491403221438, 0.0008645060133698315, 0.00043225300668491576, 0.0012967590200547473, 0.9609178522205789, 0.2626509511694708, 0.656627377923677, 0.7440845120665045, 0.03783480569829684, 0.21439723229034877, 0.9976366724598867, 0.14574588547359704, 0.14574588547359704, 0.7287294273679853, 0.14574588547359704, 0.8583660736037156, 0.8722102805455313, 0.07502884133725, 0.05158232841935938, 0.2940209050033116, 0.6391758804419817, 0.06391758804419817, 0.160414173872899, 0.8421744128327197, 0.34729948054047893, 0.6491579075522971, 0.45358313196805766, 0.45358313196805766, 0.11994922664677929, 0.11994922664677929, 0.7196953598806758, 0.9499448053826631, 0.04681536431069478, 0.0010177253111020603, 0.00040709012444082416, 0.0016283604977632966, 0.6054340866543467, 0.5412608689761251, 0.18042028965870835, 0.6982191180639178, 0.17005743288701333, 0.17005743288701333, 0.6802297315480533, 0.8187110973730637, 0.976717249287022, 0.021574075787464342, 0.7953001401558911, 0.9329575844621126, 0.8811034966019308, 0.8524473438153191, 0.530585105817751, 0.3979388293633132, 0.9909306355868158, 0.008654416031325902, 0.9872461117513548, 0.9925529366362036, 0.09444545327002563, 0.902478775691356, 0.9299699800730186, 0.6596698529535385, 0.8359893373805835, 0.7766692301127573, 0.3540750439014854, 0.6401544119249338, 0.0008292155594882563, 0.004146077797441281, 0.6880056142940489, 0.8312317759287232, 0.16440628484442024, 0.0012000458747767901, 0.0028001070411458433, 0.7981785186943506, 0.18537106858743496, 0.002548055925600481, 0.0006370139814001202, 0.012740279628002404, 0.9140280965221529, 0.6763872487145979, 0.7699145551400144, 0.16960365469594849, 0.6784146187837939, 0.24287911638790208, 0.7286373491637063, 0.9253672823906922, 0.12762668028225188, 0.17016890704300253, 0.6806756281720101, 0.3256866188534067, 0.04652665983620096, 0.04652665983620096, 0.5583199180344115, 0.8533783318557264, 0.9058666523216534, 0.7733025023348087, 0.1262841566963438, 0.861028341111435, 0.9743379986906098, 0.024713709541930497, 0.0006178427385482624, 0.9799055561301403, 0.019667525919967396, 0.19373696674449292, 0.6780793836057252, 0.6684476477471285, 0.2970878434431682, 0.01856799021519801, 0.3132165007615119, 0.6740101915121142, 0.011894297497272603, 0.8261505897607373, 0.17100739480362115, 0.0011554553702947375, 0.0011554553702947375, 0.948900680637177, 0.04454538181910574, 0.005883352315730947, 0.743403402956924, 0.723550469901342, 0.21848386738197384, 0.005674905646285035, 0.0028374528231425175, 0.051074150816565314, 0.8408244801559598, 0.15633419982799251, 0.001810820847428485, 0.0006036069491428283, 0.7756132340097656, 0.04905987323555746, 0.1752138329841338, 0.8690462892925381, 0.07900420811750347, 0.0444398670660957, 0.5470329739395365, 0.039073783852824034, 0.3907378385282404, 0.7153304760464465, 0.8366617673052206, 0.13146578938317327, 0.002022550605894973, 0.0006741835352983244, 0.028315708482529626, 0.0013483670705966488, 0.8094555831748884, 0.9648886649759946, 0.03408831397363671, 0.43271945591139876, 0.24340469395016182, 0.013522482997231211, 0.31101710893631784, 0.7704367409518299, 0.8532532082333373, 0.9738634216048133, 0.024811806919867854, 0.0010338252883278273, 0.7872247906907334, 0.20946624547618928, 0.0023018268733647172, 0.0005754567183411793, 0.0005754567183411793, 0.3261978188099355, 0.6702345808360393, 0.9021250970910076, 0.09628249296098922, 0.0006976992243549943, 0.820196357792511, 0.17407287232295904, 0.003703678134531043, 0.00033669801223009483, 0.00033669801223009483, 0.0010100940366902845, 0.8555769222697359, 0.1137159200485092, 0.027075219059168855, 0.6573889196910945, 0.729224491236165, 0.12682165064976783, 0.12682165064976783, 0.7528266442946139, 0.17830104733293486, 0.07924490992574883, 0.5176729718795664, 0.4601537527818368, 0.821016281511959, 0.17400139299533288, 0.00394177912934411, 0.0005631113041920158, 0.0005631113041920158, 0.9239987122561509, 0.8181393938281522, 0.11507061026021924, 0.0025290244013235, 0.06322561003308749, 0.802376059083532, 0.7757595123594657, 0.8747755038533233, 0.7128700753190047], \"Term\": [\"124\", \"13000000\", \"5248\", \"abdel\", \"accompli\", \"administr\", \"administr\", \"administr\", \"adren\", \"aeroflot\", \"ahf\", \"airbas\", \"airbas\", \"airbnb\", \"airbnb\", \"airfield\", \"airfield\", \"airlin\", \"airlin\", \"airlin\", \"airport\", \"airport\", \"alassad\", \"alassad\", \"alawit\", \"alnusra\", \"amelia\", \"american\", \"american\", \"american\", \"american\", \"ammonia\", \"amt\", \"amt\", \"amt\", \"amtrak\", \"amtrak\", \"ana\", \"antirussian\", \"antisemit\", \"aos\", \"apal\", \"argh\", \"armour\", \"askin\", \"asol\", \"asparagus\", \"assad\", \"assad\", \"attack\", \"attack\", \"attack\", \"augusta\", \"aurelius\", \"aviat\", \"babbo\", \"babbo\", \"background\", \"background\", \"background\", \"background\", \"baja\", \"baja\", \"band\", \"band\", \"band\", \"bannon\", \"bannon\", \"bannon\", \"bashar\", \"bashar\", \"bean\", \"bean\", \"bean\", \"bean\", \"believ\", \"believ\", \"believ\", \"berehulak\", \"bettman\", \"bffs\", \"bharara\", \"bigotri\", \"bingo\", \"bingo\", \"bird\", \"bird\", \"bird\", \"bird\", \"bixbi\", \"bo\", \"bo\", \"boa\", \"bomb\", \"bomb\", \"bomb\", \"booki\", \"boudin\", \"bracket\", \"bracket\", \"bracket\", \"bravo\", \"bravo\", \"bravo\", \"brbra\", \"brbra\", \"brbra\", \"brbra\", \"brbra\", \"brbra\", \"brbra\", \"brbra\", \"brbra\", \"brbra\", \"brbrlife\", \"brbrrealli\", \"brbrrealli\", \"brhe\", \"brhe\", \"brilliant\", \"brilliant\", \"brilliant\", \"brilliant\", \"briton\", \"brook\", \"brook\", \"brtrump\", \"brtrump\", \"bruin\", \"brye\", \"bucket\", \"bucket\", \"bucket\", \"bukit\", \"bump\", \"bump\", \"burglari\", \"burk\", \"burk\", \"burk\", \"burmes\", \"busi\", \"busi\", \"busi\", \"cab\", \"cab\", \"cancer\", \"cancer\", \"cancer\", \"candi\", \"candi\", \"candid\", \"candid\", \"canuck\", \"car\", \"car\", \"car\", \"carb\", \"carb\", \"carb\", \"carbohydr\", \"carlton\", \"carlyl\", \"carmelo\", \"carmelo\", \"carter\", \"carter\", \"cat\", \"cat\", \"cat\", \"cathol\", \"cementari\", \"cemeteri\", \"cemeteri\", \"ceo\", \"ceo\", \"chairmanship\", \"chardonnay\", \"charl\", \"charl\", \"chemic\", \"chemic\", \"chemic\", \"chez\", \"chez\", \"chia\", \"cholesterol\", \"cholesterol\", \"cholesterol\", \"chomski\", \"chomski\", \"christian\", \"christian\", \"chucki\", \"citat\", \"citat\", \"citat\", \"civilian\", \"civilian\", \"civilian\", \"clairvoy\", \"clausewitz\", \"clinton\", \"clinton\", \"clouseau\", \"clyburn\", \"cobra\", \"cobra\", \"coca\", \"cockroach\", \"cockroach\", \"coerciv\", \"coffe\", \"coffe\", \"coffe\", \"coher\", \"column\", \"column\", \"comey\", \"compani\", \"compani\", \"compani\", \"confirm\", \"confirm\", \"confirm\", \"congratul\", \"congratul\", \"congratul\", \"congratul\", \"conserv\", \"conserv\", \"constrictor\", \"cook\", \"cook\", \"cook\", \"coq\", \"corpor\", \"corpor\", \"corpor\", \"cost\", \"cost\", \"cost\", \"costello\", \"cotton\", \"cotton\", \"counterexampl\", \"countri\", \"countri\", \"countri\", \"countri\", \"court\", \"court\", \"court\", \"cpd\", \"cpd\", \"creepiest\", \"crew\", \"crew\", \"cross\", \"cross\", \"cross\", \"cup\", \"cup\", \"cup\", \"cur\", \"custom\", \"custom\", \"cut\", \"cut\", \"cut\", \"cw\", \"dar\", \"dar\", \"ddt\", \"debt\", \"debt\", \"debt\", \"deconflict\", \"decor\", \"decor\", \"decor\", \"deduct\", \"deduct\", \"deduct\", \"deer\", \"deer\", \"deja\", \"deja\", \"deja\", \"delici\", \"delici\", \"delici\", \"delici\", \"delta\", \"delta\", \"democraci\", \"democraci\", \"democrat\", \"democrat\", \"democrat\", \"denni\", \"denni\", \"deoperation\", \"deplan\", \"destruction\", \"detox\", \"devoss\", \"di\", \"di\", \"diabet\", \"diabet\", \"diabet\", \"diddley\", \"diet\", \"diet\", \"diet\", \"diet\", \"diseas\", \"diseas\", \"diseas\", \"diseas\", \"dish\", \"dish\", \"dish\", \"disinfect\", \"ditto\", \"ditto\", \"dl\", \"dl\", \"dog\", \"dog\", \"dog\", \"donald\", \"donald\", \"donald\", \"donald\", \"dont\", \"dont\", \"dont\", \"dont\", \"dont\", \"dont\", \"doover\", \"doover\", \"douthat\", \"drain\", \"drain\", \"drain\", \"dress\", \"dress\", \"dress\", \"driver\", \"driver\", \"driverless\", \"drudg\", \"drudg\", \"drudg\", \"drump\", \"dutart\", \"dvr\", \"d\\u00eatre\", \"earhart\", \"easter\", \"easter\", \"easter\", \"easter\", \"eat\", \"eat\", \"eat\", \"eat\", \"edgar\", \"edgar\", \"eisenberg\", \"eisenberg\", \"elect\", \"elect\", \"elect\", \"elector\", \"elector\", \"elimin\", \"elimin\", \"elimin\", \"elimin\", \"elmer\", \"employe\", \"employe\", \"erdogan\", \"est\", \"est\", \"estat\", \"estat\", \"estat\", \"estrada\", \"ethan\", \"euthan\", \"euthanasia\", \"euthanasia\", \"even\", \"even\", \"even\", \"even\", \"exact\", \"exact\", \"exact\", \"exact\", \"exact\", \"excel\", \"excel\", \"excel\", \"faa\", \"fantasyland\", \"fat\", \"fat\", \"fat\", \"fat\", \"feather\", \"feather\", \"feather\", \"fecal\", \"fecal\", \"fecal\", \"festiv\", \"festiv\", \"festiv\", \"festiv\", \"festiv\", \"filer\", \"filibust\", \"filibust\", \"fixx\", \"fixx\", \"flavor\", \"flavor\", \"flavor\", \"fli\", \"fli\", \"fli\", \"fli\", \"flight\", \"flight\", \"flock\", \"flock\", \"flock\", \"flower\", \"flower\", \"flower\", \"flower\", \"flown\", \"flown\", \"flyer\", \"flyer\", \"fnc\", \"food\", \"food\", \"food\", \"food\", \"forta\", \"fortif\", \"fox\", \"fox\", \"fox\", \"fraternit\\u00e9\", \"gabl\", \"gabl\", \"gantri\", \"garland\", \"garland\", \"garlic\", \"gas\", \"gas\", \"gas\", \"get\", \"get\", \"get\", \"get\", \"get\", \"get\", \"glucos\", \"go\", \"go\", \"go\", \"go\", \"go\", \"go\", \"go\", \"good\", \"good\", \"good\", \"good\", \"good\", \"good\", \"good\", \"gorsuch\", \"gorsuch\", \"gorsuch\", \"graf\", \"grass\", \"grass\", \"grass\", \"grave\", \"grave\", \"grave\", \"graveyard\", \"graveyard\", \"h1b\", \"h1b\", \"h2b\", \"hallelujah\", \"ham\", \"ham\", \"ham\", \"harem\", \"harri\", \"harri\", \"harri\", \"hashimoto\", \"hatr\", \"hatr\", \"havana\", \"headsup\", \"hear\", \"hear\", \"hear\", \"hee\", \"hee\", \"hee\", \"hee\", \"henhous\", \"henrietta\", \"herb\", \"herb\", \"herd\", \"herd\", \"herd\", \"hersh\", \"hersh\", \"hes\", \"hes\", \"hes\", \"hillari\", \"hillari\", \"himbrbrthi\", \"holocaust\", \"holocaust\", \"hom\", \"hotlin\", \"hrc\", \"hrefhttpsemcphdwordpresscom\", \"hrefhttpwwwendthemadnessnoworg\", \"hrefhttpwwwendthemadnessnoworg\", \"huzzah\", \"hypothyroid\", \"hypothyroid\", \"igloo\", \"illconsid\", \"impeach\", \"impeach\", \"impuls\", \"incom\", \"incom\", \"incom\", \"increas\", \"increas\", \"increas\", \"industri\", \"industri\", \"industri\", \"institutionalist\", \"insulin\", \"insulin\", \"insur\", \"insur\", \"insur\", \"iodin\", \"iodin\", \"iraq\", \"iraq\", \"iraq\", \"irresolution\", \"isi\", \"isi\", \"isi\", \"jarrett\", \"jenner\", \"jenner\", \"jest\", \"jest\", \"jest\", \"jesus\", \"jew\", \"jew\", \"jgaia\", \"jimmi\", \"job\", \"job\", \"job\", \"jonbenet\", \"jonestown\", \"jv\", \"kakistocraci\", \"kansa\", \"kansa\", \"kansa\", \"kay\", \"kay\", \"kendal\", \"kierkegaard\", \"kipl\", \"kipl\", \"kipl\", \"know\", \"know\", \"know\", \"know\", \"know\", \"komodo\", \"kudlow\", \"kudlow\", \"kvass\", \"lachlan\", \"laffabl\", \"laffer\", \"laffer\", \"laffer\", \"laffer\", \"lamb\", \"lamb\", \"larri\", \"larri\", \"larri\", \"larri\", \"laughingstock\", \"laughingstock\", \"laughingstock\", \"ldl\", \"le\", \"le\", \"leaker\", \"leaker\", \"leavenworth\", \"lebowski\", \"levothyroxin\", \"liber\", \"liber\", \"libert\\u00e9\", \"lie\", \"lie\", \"lie\", \"lifeanddeath\", \"lifeanddeath\", \"like\", \"like\", \"like\", \"like\", \"like\", \"like\", \"like\", \"like\", \"lirr\", \"loan\", \"loan\", \"loan\", \"lock\", \"lock\", \"lock\", \"lockhe\", \"locol\", \"lol\", \"lol\", \"lol\", \"look\", \"look\", \"look\", \"look\", \"look\", \"look\", \"lordi\", \"lotta\", \"louisvill\", \"lower\", \"lower\", \"lower\", \"lower\", \"luggag\", \"lyft\", \"macron\", \"mae\", \"mae\", \"make\", \"make\", \"make\", \"make\", \"make\", \"malapportion\", \"mammogram\", \"man\", \"man\", \"man\", \"man\", \"manhandl\", \"mani\", \"mani\", \"mani\", \"mani\", \"mankiw\", \"march\", \"march\", \"march\", \"market\", \"market\", \"market\", \"mcveigh\", \"medic\", \"medic\", \"medic\", \"meg\", \"meg\", \"melo\", \"men\", \"men\", \"men\", \"mengel\", \"merrick\", \"merrick\", \"metabol\", \"metabol\", \"metabol\", \"microchip\", \"microwav\", \"microwav\", \"mig\", \"misogyni\", \"misogynist\", \"missil\", \"missil\", \"missil\", \"misspel\", \"misspel\", \"misspel\", \"modica\", \"mol\", \"mol\", \"money\", \"money\", \"money\", \"mortgag\", \"mortgag\", \"mortgag\", \"mossad\", \"mr\", \"mr\", \"mr\", \"mr\", \"mr\", \"mta\", \"mta\", \"munoz\", \"munoz\", \"munoz\", \"narcissist\", \"navient\", \"navient\", \"need\", \"need\", \"need\", \"need\", \"need\", \"need\", \"nevill\", \"nevill\", \"news\", \"news\", \"news\", \"newsroom\", \"newsroom\", \"newsroom\", \"nhl\", \"nhl\", \"noam\", \"noam\", \"nokil\", \"nonrefund\", \"nope\", \"nope\", \"nope\", \"nope\", \"noshow\", \"nous\", \"nous\", \"nunez\", \"nusra\", \"nyah\", \"obama\", \"obama\", \"obama\", \"oconnor\", \"ohar\", \"oligopoli\", \"one\", \"one\", \"one\", \"one\", \"one\", \"one\", \"one\", \"ooop\", \"oreili\", \"oreilli\", \"oreilli\", \"orielli\", \"oriol\", \"orthopedist\", \"ossoff\", \"osteopath\", \"ouch\", \"ouch\", \"outfox\", \"outta\", \"outta\", \"oven\", \"oven\", \"overbook\", \"overinvest\", \"overstat\", \"parad\", \"parad\", \"parad\", \"parc\", \"parti\", \"parti\", \"passeng\", \"passeng\", \"passeng\", \"password\", \"pasta\", \"pasta\", \"patient\", \"patient\", \"patient\", \"pay\", \"pay\", \"pay\", \"pd\", \"pea\", \"pea\", \"pea\", \"pea\", \"pen\", \"pen\", \"penc\", \"penc\", \"peopl\", \"peopl\", \"peopl\", \"peopl\", \"pepe\", \"peroid\", \"peroid\", \"pet\", \"pet\", \"pet\", \"petoskey\", \"pharmacist\", \"pharmacist\", \"pharmacist\", \"phelp\", \"photoshop\", \"photoshop\", \"pictur\", \"pictur\", \"pictur\", \"pitbul\", \"plan\", \"plan\", \"plan\", \"plan\", \"plane\", \"plane\", \"plane\", \"plane\", \"poetri\", \"poetri\", \"poetri\", \"polit\", \"polit\", \"polynesia\", \"prednison\", \"preet\", \"preexist\", \"preexist\", \"preexist\", \"prescrib\", \"prescrib\", \"prescrib\", \"prescrib\", \"prescript\", \"prescript\", \"prescript\", \"presid\", \"presid\", \"presid\", \"pretax\", \"price\", \"price\", \"price\", \"probirth\", \"profit\", \"profit\", \"profit\", \"prostat\", \"prostat\", \"psa\", \"psa\", \"pslf\", \"pud\", \"pud\", \"punchlin\", \"putin\", \"putin\", \"putin\", \"python\", \"python\", \"quayl\", \"railway\", \"rainmak\", \"rat\", \"rat\", \"rat\", \"rate\", \"rate\", \"rate\", \"rattlesnak\", \"raul\", \"reaccommod\", \"reaccomod\", \"read\", \"read\", \"read\", \"read\", \"rebel\", \"rebel\", \"rebook\", \"recip\", \"recip\", \"recip\", \"red\", \"red\", \"red\", \"red\", \"redher\", \"reenact\", \"reenact\", \"reenact\", \"reid\", \"reid\", \"reid\", \"religi\", \"religi\", \"religion\", \"religion\", \"reptil\", \"republican\", \"republican\", \"republican\", \"republican\", \"resel\", \"resel\", \"restaur\", \"restaur\", \"restaur\", \"retail\", \"retail\", \"return\", \"return\", \"return\", \"rhapsodi\", \"ribbon\", \"ribbon\", \"ribbon\", \"riddanc\", \"riddanc\", \"riddanc\", \"riesl\", \"right\", \"right\", \"right\", \"right\", \"road\", \"road\", \"road\", \"roast\", \"roast\", \"rose\", \"rose\", \"rose\", \"rose\", \"rubbish\", \"rubbish\", \"rubbish\", \"runway\", \"runway\", \"runway\", \"russia\", \"russia\", \"russia\", \"russian\", \"russian\", \"russian\", \"ryder\", \"safir\", \"safir\", \"said\", \"said\", \"said\", \"said\", \"said\", \"said\", \"salad\", \"salad\", \"salad\", \"salt\", \"salt\", \"salt\", \"salt\", \"salti\", \"salti\", \"sarin\", \"sarin\", \"satir\", \"satir\", \"sauc\", \"sauc\", \"sauc\", \"saxon\", \"say\", \"say\", \"say\", \"say\", \"say\", \"sceptic\", \"scorpion\", \"scorpion\", \"scorpion\", \"scorpion\", \"sean\", \"sean\", \"sean\", \"seat\", \"seat\", \"seat\", \"seat\", \"see\", \"see\", \"see\", \"see\", \"see\", \"sell\", \"sell\", \"sell\", \"sell\", \"sensate\", \"sensate\", \"servic\", \"servic\", \"servic\", \"sexual\", \"sexual\", \"sharapova\", \"shark\", \"shark\", \"shark\", \"shaub\", \"shayrat\", \"shelter\", \"shelter\", \"shelter\", \"shiit\", \"shiit\", \"shoo\", \"sirhan\", \"skunk\", \"sledgehamm\", \"slug\", \"slug\", \"sociopathi\", \"sociopathi\", \"sociopathi\", \"sorti\", \"southi\", \"soylent\", \"soylent\", \"speech\", \"speech\", \"spici\", \"spici\", \"splash\", \"splash\", \"splash\", \"spot\", \"spot\", \"spot\", \"sproul\", \"sp\\u00e4tlese\", \"starbuck\", \"starbuck\", \"starbuck\", \"state\", \"state\", \"state\", \"state\", \"statebrbrw\", \"statin\", \"stick\", \"stick\", \"stick\", \"strike\", \"strike\", \"strike\", \"subclin\", \"subprim\", \"subprim\", \"sugar\", \"sugar\", \"sugar\", \"sugar\", \"sugari\", \"sugari\", \"sunni\", \"sunni\", \"sunni\", \"support\", \"support\", \"support\", \"support\", \"swamp\", \"swamp\", \"swamp\", \"synthroid\", \"syria\", \"syria\", \"syria\", \"syrian\", \"syrian\", \"syrian\", \"t3\", \"t4\", \"tango\", \"tango\", \"targetblankhttpsemcphdwordpresscoma\", \"targetblankwwwendthemadnessnoworga\", \"targetblankwwwendthemadnessnoworga\", \"tarragon\", \"tartus\", \"taser\", \"tasmanian\", \"tast\", \"tast\", \"tast\", \"tast\", \"tax\", \"tax\", \"tax\", \"taxi\", \"taxi\", \"tenderloin\", \"thank\", \"thank\", \"thank\", \"thank\", \"thank\", \"thank\", \"thing\", \"thing\", \"thing\", \"thing\", \"think\", \"think\", \"think\", \"think\", \"think\", \"think\", \"think\", \"thyroid\", \"thyroid\", \"ticket\", \"ticket\", \"tiffani\", \"time\", \"time\", \"time\", \"time\", \"time\", \"titlehttpsemcphdwordpresscom\", \"titlewwwendthemadnessnoworg\", \"titlewwwendthemadnessnoworg\", \"tomahawk\", \"tomahawk\", \"tomahawk\", \"tomboy\", \"toto\", \"toto\", \"toto\", \"toto\", \"touch\\u00e9\", \"tradit\", \"tradit\", \"tradit\", \"traffic\", \"traffic\", \"traffic\", \"transport\", \"transport\", \"travel\", \"travel\", \"trey\", \"trey\", \"truer\", \"truer\", \"truer\", \"trump\", \"trump\", \"trump\", \"trump\", \"trump\", \"trumpbrbryou\", \"trumpkin\", \"trumpkin\", \"trumpov\", \"trumpski\", \"trumpski\", \"trumpski\", \"trumpublican\", \"truth\", \"truth\", \"truthless\", \"tsh\", \"tsiman\", \"tu\", \"tucker\", \"tucker\", \"tweet\", \"tweet\", \"ua\", \"ual\", \"uber\", \"uber\", \"ulrich\", \"ummmm\", \"unbeholden\", \"und\", \"unit\", \"unit\", \"unit\", \"unit\", \"unsold\", \"us\", \"us\", \"us\", \"us\", \"use\", \"use\", \"use\", \"use\", \"use\", \"usrussian\", \"ussc\", \"vagari\", \"valeri\", \"valeri\", \"vall\", \"vall\", \"veep\", \"vegan\", \"vegan\", \"vegan\", \"vegetarian\", \"vegetarian\", \"vegetarian\", \"vegetarian\", \"ventura\", \"vika\", \"vinegar\", \"visa\", \"visa\", \"vote\", \"vote\", \"vote\", \"voter\", \"voter\", \"vu\", \"vu\", \"wag\", \"wag\", \"wag\", \"wage\", \"wage\", \"wage\", \"want\", \"want\", \"want\", \"want\", \"war\", \"war\", \"war\", \"washi\", \"water\", \"water\", \"water\", \"water\", \"water\", \"way\", \"way\", \"way\", \"way\", \"weapon\", \"weapon\", \"weapon\", \"wear\", \"wear\", \"wear\", \"weasel\", \"weasel\", \"weasel\", \"weinstein\", \"well\", \"well\", \"well\", \"well\", \"well\", \"well\", \"welp\", \"white\", \"white\", \"wine\", \"wine\", \"wine\", \"wine\", \"wishi\", \"wishlist\", \"women\", \"women\", \"women\", \"work\", \"work\", \"work\", \"work\", \"work\", \"worker\", \"worker\", \"world\", \"world\", \"world\", \"would\", \"would\", \"would\", \"would\", \"would\", \"would\", \"wow\", \"wow\", \"wow\", \"yah\", \"yanke\", \"yanke\", \"yanke\", \"yard\", \"yard\", \"yard\", \"yay\", \"yay\", \"year\", \"year\", \"year\", \"year\", \"year\", \"yeesh\", \"yes\", \"yes\", \"yes\", \"yes\", \"yum\", \"zuckerburg\", \"zyklon\", \"\\u00e9galit\\u00e9\"]}, \"R\": 30, \"lambda.step\": 0.01, \"plot.opts\": {\"xlab\": \"PC1\", \"ylab\": \"PC2\"}, \"topic.order\": [8, 2, 5, 9, 10, 4, 3, 7, 6, 1]};\n",
       "\n",
       "function LDAvis_load_lib(url, callback){\n",
       "  var s = document.createElement('script');\n",
       "  s.src = url;\n",
       "  s.async = true;\n",
       "  s.onreadystatechange = s.onload = callback;\n",
       "  s.onerror = function(){console.warn(\"failed to load library \" + url);};\n",
       "  document.getElementsByTagName(\"head\")[0].appendChild(s);\n",
       "}\n",
       "\n",
       "if(typeof(LDAvis) !== \"undefined\"){\n",
       "   // already loaded: just create the visualization\n",
       "   !function(LDAvis){\n",
       "       new LDAvis(\"#\" + \"ldavis_el1096021202378307287321817387\", ldavis_el1096021202378307287321817387_data);\n",
       "   }(LDAvis);\n",
       "}else if(typeof define === \"function\" && define.amd){\n",
       "   // require.js is available: use it to load d3/LDAvis\n",
       "   require.config({paths: {d3: \"https://d3js.org/d3.v5\"}});\n",
       "   require([\"d3\"], function(d3){\n",
       "      window.d3 = d3;\n",
       "      LDAvis_load_lib(\"https://cdn.jsdelivr.net/gh/bmabey/pyLDAvis@3.3.1/pyLDAvis/js/ldavis.v3.0.0.js\", function(){\n",
       "        new LDAvis(\"#\" + \"ldavis_el1096021202378307287321817387\", ldavis_el1096021202378307287321817387_data);\n",
       "      });\n",
       "    });\n",
       "}else{\n",
       "    // require.js not available: dynamically load d3 & LDAvis\n",
       "    LDAvis_load_lib(\"https://d3js.org/d3.v5.js\", function(){\n",
       "         LDAvis_load_lib(\"https://cdn.jsdelivr.net/gh/bmabey/pyLDAvis@3.3.1/pyLDAvis/js/ldavis.v3.0.0.js\", function(){\n",
       "                 new LDAvis(\"#\" + \"ldavis_el1096021202378307287321817387\", ldavis_el1096021202378307287321817387_data);\n",
       "            })\n",
       "         });\n",
       "}\n",
       "</script>"
      ],
      "text/plain": [
       "PreparedData(topic_coordinates=              x         y  topics  cluster       Freq\n",
       "topic                                                \n",
       "7      0.429506 -0.040958       1        1  66.745038\n",
       "1      0.298316  0.054305       2        1  14.092031\n",
       "4     -0.036647  0.052236       3        1   2.561366\n",
       "8     -0.097681  0.002579       4        1   2.557389\n",
       "9     -0.099661 -0.004042       5        1   2.450523\n",
       "3     -0.062649 -0.083047       6        1   2.429294\n",
       "2     -0.106170  0.005546       7        1   2.337480\n",
       "6     -0.110069  0.005457       8        1   2.304623\n",
       "5     -0.105132  0.002514       9        1   2.288420\n",
       "0     -0.109812  0.005410      10        1   2.233836, topic_info=          Term         Freq        Total Category  logprob  loglift\n",
       "245663     tax  1891.000000  1891.000000  Default  30.0000  30.0000\n",
       "22888    assad   680.000000   680.000000  Default  29.0000  29.0000\n",
       "268679    unit  1205.000000  1205.000000  Default  28.0000  28.0000\n",
       "184507     pay  1266.000000  1266.000000  Default  27.0000  27.0000\n",
       "238227   syria   726.000000   726.000000  Default  26.0000  26.0000\n",
       "...        ...          ...          ...      ...      ...      ...\n",
       "69995    denni     4.777059    17.361985  Topic10  -8.6134   2.5110\n",
       "136825  jenner     4.913497    18.646648  Topic10  -8.5852   2.4678\n",
       "85866      est     3.433822    20.275850  Topic10  -8.9435   2.0257\n",
       "190401  poetri     3.109993    21.280125  Topic10  -9.0426   1.8783\n",
       "95708    flock     2.837571    23.660071  Topic10  -9.1342   1.6806\n",
       "\n",
       "[693 rows x 6 columns], token_table=        Topic      Freq        Term\n",
       "term                               \n",
       "870         7  0.812720         124\n",
       "990         5  0.902367    13000000\n",
       "6379        6  0.651699        5248\n",
       "8406        7  0.718291       abdel\n",
       "9668        5  0.895571    accompli\n",
       "...       ...       ...         ...\n",
       "286696      6  0.063226         yes\n",
       "287904      4  0.802376         yum\n",
       "288408      8  0.775760  zuckerburg\n",
       "288441      6  0.874776      zyklon\n",
       "288468     10  0.712870     égalité\n",
       "\n",
       "[1384 rows x 3 columns], R=30, lambda_step=0.01, plot_opts={'xlab': 'PC1', 'ylab': 'PC2'}, topic_order=[8, 2, 5, 9, 10, 4, 3, 7, 6, 1])"
      ]
     },
     "execution_count": 71,
     "metadata": {},
     "output_type": "execute_result"
    }
   ],
   "source": [
    "#  visualize these topics\n",
    "pyLDAvis.sklearn.prepare(lda_model, token_matrix_2017, tfidf) \n",
    "#doing this with different lda_models and token matrices reveals great insights into the main topics.  \n"
   ]
  },
  {
   "cell_type": "code",
   "execution_count": null,
   "metadata": {},
   "outputs": [],
   "source": [
    "pyLDAvis.sklearn.prepare(lda_model, token_matrix_2018, tfidf) "
   ]
  },
  {
   "cell_type": "markdown",
   "metadata": {},
   "source": [
    "# Part 2: Sentiment Analysis of the comments"
   ]
  },
  {
   "cell_type": "markdown",
   "metadata": {},
   "source": [
    "### Some testing and playing around before the real work of sentiment analysis starts. "
   ]
  },
  {
   "cell_type": "code",
   "execution_count": 23,
   "metadata": {},
   "outputs": [],
   "source": [
    "test_comment1 = \"The whole system is about to collapse. I hate this doomed world     we live in.\"\n",
    "test_comment2 = \"I love it when I can wake up while hearing birds singing. This world is beautiful\""
   ]
  },
  {
   "cell_type": "code",
   "execution_count": 7,
   "metadata": {},
   "outputs": [],
   "source": [
    "# Sentiment analysis is basically the process of determining the attitude or the emotion of the writer, i.e., whether it is positive or negative or neutral. \n",
    "# The sentiment function of textblob returns two properties, polarity, and subjectivity.\n",
    "blob1 = TextBlob(test_comment1)\n",
    "blob2 = TextBlob(test_comment2)"
   ]
  },
  {
   "cell_type": "code",
   "execution_count": 8,
   "metadata": {},
   "outputs": [
    {
     "name": "stdout",
     "output_type": "stream",
     "text": [
      "Sentiment(polarity=-0.15454545454545457, subjectivity=0.6)\n",
      "Sentiment(polarity=0.675, subjectivity=0.8)\n"
     ]
    }
   ],
   "source": [
    "print(blob1.sentiment)\n",
    "print(blob2.sentiment)\n",
    "# we can see that the first sentiment was correctly classified as negative, while the second as rather positive"
   ]
  },
  {
   "cell_type": "markdown",
   "metadata": {},
   "source": [
    "#### Testing with Vader (Valence Aware Dictionary and Sentiment Reasoner) which is a rule-based library for sentiment analysis. It contains intensity measures for each word based on human-annotated labels. It is specialized for text that is rather used in social media. \n"
   ]
  },
  {
   "cell_type": "code",
   "execution_count": 20,
   "metadata": {},
   "outputs": [
    {
     "name": "stderr",
     "output_type": "stream",
     "text": [
      "[nltk_data] Downloading package vader_lexicon to\n",
      "[nltk_data]     C:\\Users\\Surya\\AppData\\Roaming\\nltk_data...\n",
      "[nltk_data]   Package vader_lexicon is already up-to-date!\n"
     ]
    },
    {
     "data": {
      "text/plain": [
       "True"
      ]
     },
     "execution_count": 20,
     "metadata": {},
     "output_type": "execute_result"
    }
   ],
   "source": [
    "import nltk\n",
    "nltk.download('vader_lexicon')"
   ]
  },
  {
   "cell_type": "code",
   "execution_count": 21,
   "metadata": {},
   "outputs": [],
   "source": [
    "from nltk.sentiment.vader import SentimentIntensityAnalyzer\n",
    "vader = SentimentIntensityAnalyzer()"
   ]
  },
  {
   "cell_type": "code",
   "execution_count": 24,
   "metadata": {},
   "outputs": [
    {
     "data": {
      "text/plain": [
       "{'neg': 0.502, 'neu': 0.498, 'pos': 0.0, 'compound': -0.9022}"
      ]
     },
     "execution_count": 24,
     "metadata": {},
     "output_type": "execute_result"
    }
   ],
   "source": [
    "vader.polarity_scores(test_comment1)"
   ]
  },
  {
   "cell_type": "code",
   "execution_count": 25,
   "metadata": {},
   "outputs": [
    {
     "data": {
      "text/plain": [
       "{'neg': 0.0, 'neu': 0.597, 'pos': 0.403, 'compound': 0.8442}"
      ]
     },
     "execution_count": 25,
     "metadata": {},
     "output_type": "execute_result"
    }
   ],
   "source": [
    "vader.polarity_scores(test_comment2)"
   ]
  },
  {
   "cell_type": "markdown",
   "metadata": {},
   "source": [
    "### But I am not interested in pure polarity. I will also need to load my comments too. \n"
   ]
  },
  {
   "cell_type": "markdown",
   "metadata": {},
   "source": [
    "### How to classify Sentiment? -->There are ML methods and Lexicon/dictionary based methods"
   ]
  },
  {
   "cell_type": "markdown",
   "metadata": {},
   "source": [
    "#### Lexicon-Based: This method uses a variety of words annotated by polarity score (or emotion classes), to decide the general assessment score of a given content. The strongest asset of this technique is that it does not require any training data, while its weakest point is that a large number of words and expressions are not included in sentiment lexicons. Thus in brief: Dictionary-based sentiment analysis works by comparing the words in a text or corpus with pre-established dictionaries of words. "
   ]
  },
  {
   "cell_type": "code",
   "execution_count": null,
   "metadata": {},
   "outputs": [],
   "source": [
    "# https://methodi.ca/recipes/dictionary-based-sentiment-analysis-python"
   ]
  },
  {
   "cell_type": "code",
   "execution_count": 26,
   "metadata": {},
   "outputs": [
    {
     "data": {
      "text/html": [
       "<div>\n",
       "<style scoped>\n",
       "    .dataframe tbody tr th:only-of-type {\n",
       "        vertical-align: middle;\n",
       "    }\n",
       "\n",
       "    .dataframe tbody tr th {\n",
       "        vertical-align: top;\n",
       "    }\n",
       "\n",
       "    .dataframe thead th {\n",
       "        text-align: right;\n",
       "    }\n",
       "</style>\n",
       "<table border=\"1\" class=\"dataframe\">\n",
       "  <thead>\n",
       "    <tr style=\"text-align: right;\">\n",
       "      <th></th>\n",
       "      <th>approveDate</th>\n",
       "      <th>commentBody</th>\n",
       "      <th>commentID</th>\n",
       "      <th>commentSequence</th>\n",
       "      <th>commentTitle</th>\n",
       "      <th>commentType</th>\n",
       "      <th>createDate</th>\n",
       "      <th>depth</th>\n",
       "      <th>editorsSelection</th>\n",
       "      <th>parentID</th>\n",
       "      <th>...</th>\n",
       "      <th>sectionName</th>\n",
       "      <th>newDesk</th>\n",
       "      <th>articleWordCount</th>\n",
       "      <th>printPage</th>\n",
       "      <th>typeOfMaterial</th>\n",
       "      <th>commentBody_2018</th>\n",
       "      <th>pp_text_2017</th>\n",
       "      <th>pp_text_2018</th>\n",
       "      <th>comments_2017</th>\n",
       "      <th>comments_2018</th>\n",
       "    </tr>\n",
       "  </thead>\n",
       "  <tbody>\n",
       "    <tr>\n",
       "      <td>0</td>\n",
       "      <td>1491245186</td>\n",
       "      <td>This project makes me happy to be a 30+ year T...</td>\n",
       "      <td>22022598.0</td>\n",
       "      <td>22022598</td>\n",
       "      <td>&lt;br/&gt;</td>\n",
       "      <td>comment</td>\n",
       "      <td>1.491237e+09</td>\n",
       "      <td>1</td>\n",
       "      <td>False</td>\n",
       "      <td>0.0</td>\n",
       "      <td>...</td>\n",
       "      <td>Unknown</td>\n",
       "      <td>Insider</td>\n",
       "      <td>716.0</td>\n",
       "      <td>2</td>\n",
       "      <td>News</td>\n",
       "      <td>How could the league possibly refuse this offe...</td>\n",
       "      <td>[project, make, happi, 30, year, time, subscri...</td>\n",
       "      <td>[could, leagu, possibl, refus, offer]</td>\n",
       "      <td>project make happi 30 year time subscrib conti...</td>\n",
       "      <td>could leagu possibl refus offer</td>\n",
       "    </tr>\n",
       "    <tr>\n",
       "      <td>1</td>\n",
       "      <td>1491188619</td>\n",
       "      <td>Stunning photos and reportage. Infuriating tha...</td>\n",
       "      <td>22017350.0</td>\n",
       "      <td>22017350</td>\n",
       "      <td>NaN</td>\n",
       "      <td>comment</td>\n",
       "      <td>1.491180e+09</td>\n",
       "      <td>1</td>\n",
       "      <td>False</td>\n",
       "      <td>0.0</td>\n",
       "      <td>...</td>\n",
       "      <td>Unknown</td>\n",
       "      <td>Insider</td>\n",
       "      <td>716.0</td>\n",
       "      <td>2</td>\n",
       "      <td>News</td>\n",
       "      <td>So then the execs can be like \"yeah...we will ...</td>\n",
       "      <td>[stun, photo, reportag, infuri, trump, admistr...</td>\n",
       "      <td>[exec, like, yeahw, sit, listen, noth, suit, s...</td>\n",
       "      <td>stun photo reportag infuri trump admistr draco...</td>\n",
       "      <td>exec like yeahw sit listen noth suit settl</td>\n",
       "    </tr>\n",
       "    <tr>\n",
       "      <td>2</td>\n",
       "      <td>1491188617</td>\n",
       "      <td>Brilliant work from conception to execution. I...</td>\n",
       "      <td>22017334.0</td>\n",
       "      <td>22017334</td>\n",
       "      <td>&lt;br/&gt;</td>\n",
       "      <td>comment</td>\n",
       "      <td>1.491179e+09</td>\n",
       "      <td>1</td>\n",
       "      <td>False</td>\n",
       "      <td>0.0</td>\n",
       "      <td>...</td>\n",
       "      <td>Unknown</td>\n",
       "      <td>Insider</td>\n",
       "      <td>716.0</td>\n",
       "      <td>2</td>\n",
       "      <td>News</td>\n",
       "      <td>I would not want to play chess against these c...</td>\n",
       "      <td>[brilliant, work, concept, execut, ive, never,...</td>\n",
       "      <td>[would, want, play, chess, cheerlead, lawyersn...</td>\n",
       "      <td>brilliant work concept execut ive never seen a...</td>\n",
       "      <td>would want play chess cheerlead lawyersnic move</td>\n",
       "    </tr>\n",
       "    <tr>\n",
       "      <td>3</td>\n",
       "      <td>1491167820</td>\n",
       "      <td>NYT reporters should provide a contributor's l...</td>\n",
       "      <td>22015913.0</td>\n",
       "      <td>22015913</td>\n",
       "      <td>&lt;br/&gt;</td>\n",
       "      <td>comment</td>\n",
       "      <td>1.491150e+09</td>\n",
       "      <td>1</td>\n",
       "      <td>False</td>\n",
       "      <td>0.0</td>\n",
       "      <td>...</td>\n",
       "      <td>Unknown</td>\n",
       "      <td>Insider</td>\n",
       "      <td>716.0</td>\n",
       "      <td>2</td>\n",
       "      <td>News</td>\n",
       "      <td>Could the cheerleaders join the Actors' Equity...</td>\n",
       "      <td>[nyt, report, provid, contributor, link, crowd...</td>\n",
       "      <td>[could, cheerlead, join, actor, equiti, associ...</td>\n",
       "      <td>nyt report provid contributor link crowdfund p...</td>\n",
       "      <td>could cheerlead join actor equiti associ anoth...</td>\n",
       "    </tr>\n",
       "    <tr>\n",
       "      <td>4</td>\n",
       "      <td>1491167815</td>\n",
       "      <td>Could only have been done in print. Stunning.</td>\n",
       "      <td>22015466.0</td>\n",
       "      <td>22015466</td>\n",
       "      <td>&lt;br/&gt;</td>\n",
       "      <td>comment</td>\n",
       "      <td>1.491147e+09</td>\n",
       "      <td>1</td>\n",
       "      <td>False</td>\n",
       "      <td>0.0</td>\n",
       "      <td>...</td>\n",
       "      <td>Unknown</td>\n",
       "      <td>Insider</td>\n",
       "      <td>716.0</td>\n",
       "      <td>2</td>\n",
       "      <td>News</td>\n",
       "      <td>Seeking conclusions which support preconceived...</td>\n",
       "      <td>[could, done, print, stun]</td>\n",
       "      <td>[seek, conclus, support, preconceiv, idea, dis...</td>\n",
       "      <td>could done print stun</td>\n",
       "      <td>seek conclus support preconceiv idea discard d...</td>\n",
       "    </tr>\n",
       "  </tbody>\n",
       "</table>\n",
       "<p>5 rows × 39 columns</p>\n",
       "</div>"
      ],
      "text/plain": [
       "   approveDate                                        commentBody   commentID  \\\n",
       "0   1491245186  This project makes me happy to be a 30+ year T...  22022598.0   \n",
       "1   1491188619  Stunning photos and reportage. Infuriating tha...  22017350.0   \n",
       "2   1491188617  Brilliant work from conception to execution. I...  22017334.0   \n",
       "3   1491167820  NYT reporters should provide a contributor's l...  22015913.0   \n",
       "4   1491167815     Could only have been done in print. Stunning.   22015466.0   \n",
       "\n",
       "   commentSequence commentTitle commentType    createDate  depth  \\\n",
       "0         22022598        <br/>     comment  1.491237e+09      1   \n",
       "1         22017350          NaN     comment  1.491180e+09      1   \n",
       "2         22017334        <br/>     comment  1.491179e+09      1   \n",
       "3         22015913        <br/>     comment  1.491150e+09      1   \n",
       "4         22015466        <br/>     comment  1.491147e+09      1   \n",
       "\n",
       "   editorsSelection  parentID  ... sectionName  newDesk articleWordCount  \\\n",
       "0             False       0.0  ...     Unknown  Insider            716.0   \n",
       "1             False       0.0  ...     Unknown  Insider            716.0   \n",
       "2             False       0.0  ...     Unknown  Insider            716.0   \n",
       "3             False       0.0  ...     Unknown  Insider            716.0   \n",
       "4             False       0.0  ...     Unknown  Insider            716.0   \n",
       "\n",
       "   printPage  typeOfMaterial  \\\n",
       "0          2            News   \n",
       "1          2            News   \n",
       "2          2            News   \n",
       "3          2            News   \n",
       "4          2            News   \n",
       "\n",
       "                                    commentBody_2018  \\\n",
       "0  How could the league possibly refuse this offe...   \n",
       "1  So then the execs can be like \"yeah...we will ...   \n",
       "2  I would not want to play chess against these c...   \n",
       "3  Could the cheerleaders join the Actors' Equity...   \n",
       "4  Seeking conclusions which support preconceived...   \n",
       "\n",
       "                                        pp_text_2017  \\\n",
       "0  [project, make, happi, 30, year, time, subscri...   \n",
       "1  [stun, photo, reportag, infuri, trump, admistr...   \n",
       "2  [brilliant, work, concept, execut, ive, never,...   \n",
       "3  [nyt, report, provid, contributor, link, crowd...   \n",
       "4                         [could, done, print, stun]   \n",
       "\n",
       "                                        pp_text_2018  \\\n",
       "0              [could, leagu, possibl, refus, offer]   \n",
       "1  [exec, like, yeahw, sit, listen, noth, suit, s...   \n",
       "2  [would, want, play, chess, cheerlead, lawyersn...   \n",
       "3  [could, cheerlead, join, actor, equiti, associ...   \n",
       "4  [seek, conclus, support, preconceiv, idea, dis...   \n",
       "\n",
       "                                       comments_2017  \\\n",
       "0  project make happi 30 year time subscrib conti...   \n",
       "1  stun photo reportag infuri trump admistr draco...   \n",
       "2  brilliant work concept execut ive never seen a...   \n",
       "3  nyt report provid contributor link crowdfund p...   \n",
       "4                              could done print stun   \n",
       "\n",
       "                                       comments_2018  \n",
       "0                    could leagu possibl refus offer  \n",
       "1         exec like yeahw sit listen noth suit settl  \n",
       "2    would want play chess cheerlead lawyersnic move  \n",
       "3  could cheerlead join actor equiti associ anoth...  \n",
       "4  seek conclus support preconceiv idea discard d...  \n",
       "\n",
       "[5 rows x 39 columns]"
      ]
     },
     "execution_count": 26,
     "metadata": {},
     "output_type": "execute_result"
    }
   ],
   "source": [
    "# look at the dataset again\n",
    "comments_both.head(5)"
   ]
  },
  {
   "cell_type": "code",
   "execution_count": 27,
   "metadata": {},
   "outputs": [
    {
     "data": {
      "text/html": [
       "<div>\n",
       "<style scoped>\n",
       "    .dataframe tbody tr th:only-of-type {\n",
       "        vertical-align: middle;\n",
       "    }\n",
       "\n",
       "    .dataframe tbody tr th {\n",
       "        vertical-align: top;\n",
       "    }\n",
       "\n",
       "    .dataframe thead th {\n",
       "        text-align: right;\n",
       "    }\n",
       "</style>\n",
       "<table border=\"1\" class=\"dataframe\">\n",
       "  <thead>\n",
       "    <tr style=\"text-align: right;\">\n",
       "      <th></th>\n",
       "      <th>approveDate</th>\n",
       "      <th>commentBody</th>\n",
       "      <th>commentID</th>\n",
       "      <th>parentID</th>\n",
       "      <th>replyCount</th>\n",
       "      <th>updateDate</th>\n",
       "      <th>userID</th>\n",
       "      <th>userLocation</th>\n",
       "      <th>articleID</th>\n",
       "      <th>articleWordCount</th>\n",
       "      <th>commentBody_2018</th>\n",
       "      <th>pp_text_2017</th>\n",
       "      <th>pp_text_2018</th>\n",
       "      <th>comments_2017</th>\n",
       "      <th>comments_2018</th>\n",
       "    </tr>\n",
       "  </thead>\n",
       "  <tbody>\n",
       "    <tr>\n",
       "      <td>0</td>\n",
       "      <td>1491245186</td>\n",
       "      <td>This project makes me happy to be a 30+ year T...</td>\n",
       "      <td>22022598.0</td>\n",
       "      <td>0.0</td>\n",
       "      <td>0.0</td>\n",
       "      <td>1491245186</td>\n",
       "      <td>46006296</td>\n",
       "      <td>Riverside, CA</td>\n",
       "      <td>58def1347c459f24986d7c80</td>\n",
       "      <td>716.0</td>\n",
       "      <td>How could the league possibly refuse this offe...</td>\n",
       "      <td>[project, make, happi, 30, year, time, subscri...</td>\n",
       "      <td>[could, leagu, possibl, refus, offer]</td>\n",
       "      <td>project make happi 30 year time subscrib conti...</td>\n",
       "      <td>could leagu possibl refus offer</td>\n",
       "    </tr>\n",
       "    <tr>\n",
       "      <td>1</td>\n",
       "      <td>1491188619</td>\n",
       "      <td>Stunning photos and reportage. Infuriating tha...</td>\n",
       "      <td>22017350.0</td>\n",
       "      <td>0.0</td>\n",
       "      <td>0.0</td>\n",
       "      <td>1491188619</td>\n",
       "      <td>29202761</td>\n",
       "      <td>&lt;br/&gt;</td>\n",
       "      <td>58def1347c459f24986d7c80</td>\n",
       "      <td>716.0</td>\n",
       "      <td>So then the execs can be like \"yeah...we will ...</td>\n",
       "      <td>[stun, photo, reportag, infuri, trump, admistr...</td>\n",
       "      <td>[exec, like, yeahw, sit, listen, noth, suit, s...</td>\n",
       "      <td>stun photo reportag infuri trump admistr draco...</td>\n",
       "      <td>exec like yeahw sit listen noth suit settl</td>\n",
       "    </tr>\n",
       "    <tr>\n",
       "      <td>2</td>\n",
       "      <td>1491188617</td>\n",
       "      <td>Brilliant work from conception to execution. I...</td>\n",
       "      <td>22017334.0</td>\n",
       "      <td>0.0</td>\n",
       "      <td>0.0</td>\n",
       "      <td>1491188617</td>\n",
       "      <td>63944806</td>\n",
       "      <td>Raleigh NC</td>\n",
       "      <td>58def1347c459f24986d7c80</td>\n",
       "      <td>716.0</td>\n",
       "      <td>I would not want to play chess against these c...</td>\n",
       "      <td>[brilliant, work, concept, execut, ive, never,...</td>\n",
       "      <td>[would, want, play, chess, cheerlead, lawyersn...</td>\n",
       "      <td>brilliant work concept execut ive never seen a...</td>\n",
       "      <td>would want play chess cheerlead lawyersnic move</td>\n",
       "    </tr>\n",
       "    <tr>\n",
       "      <td>3</td>\n",
       "      <td>1491167820</td>\n",
       "      <td>NYT reporters should provide a contributor's l...</td>\n",
       "      <td>22015913.0</td>\n",
       "      <td>0.0</td>\n",
       "      <td>2.0</td>\n",
       "      <td>1491167820</td>\n",
       "      <td>1266184</td>\n",
       "      <td>Missouri, USA</td>\n",
       "      <td>58def1347c459f24986d7c80</td>\n",
       "      <td>716.0</td>\n",
       "      <td>Could the cheerleaders join the Actors' Equity...</td>\n",
       "      <td>[nyt, report, provid, contributor, link, crowd...</td>\n",
       "      <td>[could, cheerlead, join, actor, equiti, associ...</td>\n",
       "      <td>nyt report provid contributor link crowdfund p...</td>\n",
       "      <td>could cheerlead join actor equiti associ anoth...</td>\n",
       "    </tr>\n",
       "    <tr>\n",
       "      <td>4</td>\n",
       "      <td>1491167815</td>\n",
       "      <td>Could only have been done in print. Stunning.</td>\n",
       "      <td>22015466.0</td>\n",
       "      <td>0.0</td>\n",
       "      <td>0.0</td>\n",
       "      <td>1491167815</td>\n",
       "      <td>61121360</td>\n",
       "      <td>Tucson, Arizona</td>\n",
       "      <td>58def1347c459f24986d7c80</td>\n",
       "      <td>716.0</td>\n",
       "      <td>Seeking conclusions which support preconceived...</td>\n",
       "      <td>[could, done, print, stun]</td>\n",
       "      <td>[seek, conclus, support, preconceiv, idea, dis...</td>\n",
       "      <td>could done print stun</td>\n",
       "      <td>seek conclus support preconceiv idea discard d...</td>\n",
       "    </tr>\n",
       "  </tbody>\n",
       "</table>\n",
       "</div>"
      ],
      "text/plain": [
       "   approveDate                                        commentBody   commentID  \\\n",
       "0   1491245186  This project makes me happy to be a 30+ year T...  22022598.0   \n",
       "1   1491188619  Stunning photos and reportage. Infuriating tha...  22017350.0   \n",
       "2   1491188617  Brilliant work from conception to execution. I...  22017334.0   \n",
       "3   1491167820  NYT reporters should provide a contributor's l...  22015913.0   \n",
       "4   1491167815     Could only have been done in print. Stunning.   22015466.0   \n",
       "\n",
       "   parentID  replyCount  updateDate    userID     userLocation  \\\n",
       "0       0.0         0.0  1491245186  46006296    Riverside, CA   \n",
       "1       0.0         0.0  1491188619  29202761            <br/>   \n",
       "2       0.0         0.0  1491188617  63944806       Raleigh NC   \n",
       "3       0.0         2.0  1491167820   1266184    Missouri, USA   \n",
       "4       0.0         0.0  1491167815  61121360  Tucson, Arizona   \n",
       "\n",
       "                  articleID  articleWordCount  \\\n",
       "0  58def1347c459f24986d7c80             716.0   \n",
       "1  58def1347c459f24986d7c80             716.0   \n",
       "2  58def1347c459f24986d7c80             716.0   \n",
       "3  58def1347c459f24986d7c80             716.0   \n",
       "4  58def1347c459f24986d7c80             716.0   \n",
       "\n",
       "                                    commentBody_2018  \\\n",
       "0  How could the league possibly refuse this offe...   \n",
       "1  So then the execs can be like \"yeah...we will ...   \n",
       "2  I would not want to play chess against these c...   \n",
       "3  Could the cheerleaders join the Actors' Equity...   \n",
       "4  Seeking conclusions which support preconceived...   \n",
       "\n",
       "                                        pp_text_2017  \\\n",
       "0  [project, make, happi, 30, year, time, subscri...   \n",
       "1  [stun, photo, reportag, infuri, trump, admistr...   \n",
       "2  [brilliant, work, concept, execut, ive, never,...   \n",
       "3  [nyt, report, provid, contributor, link, crowd...   \n",
       "4                         [could, done, print, stun]   \n",
       "\n",
       "                                        pp_text_2018  \\\n",
       "0              [could, leagu, possibl, refus, offer]   \n",
       "1  [exec, like, yeahw, sit, listen, noth, suit, s...   \n",
       "2  [would, want, play, chess, cheerlead, lawyersn...   \n",
       "3  [could, cheerlead, join, actor, equiti, associ...   \n",
       "4  [seek, conclus, support, preconceiv, idea, dis...   \n",
       "\n",
       "                                       comments_2017  \\\n",
       "0  project make happi 30 year time subscrib conti...   \n",
       "1  stun photo reportag infuri trump admistr draco...   \n",
       "2  brilliant work concept execut ive never seen a...   \n",
       "3  nyt report provid contributor link crowdfund p...   \n",
       "4                              could done print stun   \n",
       "\n",
       "                                       comments_2018  \n",
       "0                    could leagu possibl refus offer  \n",
       "1         exec like yeahw sit listen noth suit settl  \n",
       "2    would want play chess cheerlead lawyersnic move  \n",
       "3  could cheerlead join actor equiti associ anoth...  \n",
       "4  seek conclus support preconceiv idea discard d...  "
      ]
     },
     "execution_count": 27,
     "metadata": {},
     "output_type": "execute_result"
    }
   ],
   "source": [
    "# drop the unnecessary columns(columns I wont need for the analysis of sentiment)\n",
    "comments_sent = comments_both.drop(['commentSequence', 'recommendedFlag', 'parentUserDisplayName', 'userTitle','userURL', 'inReplyTo', 'recommendations', 'picURL', 'permID',  'commentTitle', 'commentType', 'createDate', 'depth', 'editorsSelection','typeOfMaterial', 'sectionName', 'newDesk', 'printPage', 'timespeople', 'reportAbuseFlag',  'sharing', 'status', 'trusted', 'userDisplayName',   ], axis=1)\n",
    "comments_sent.head(5)\n"
   ]
  },
  {
   "cell_type": "markdown",
   "metadata": {},
   "source": [
    "###  Attempt to Perform a sentiment analysis on the text corpora using ANEW \n"
   ]
  },
  {
   "cell_type": "markdown",
   "metadata": {},
   "source": [
    "####  ANEW, short for Affective Norms for English Words, is a database of 1,034 English words that have been manually rated by many human volunteers on three affective measures: pleasure (valence), arousal (excitement), and dominance (level of control), as elicited by a particular word (Bradley & Lang 1999). In 2013, Warriner et al. expanded the database to nearly 14,000 English lemmas, and also split data by gender, age, and educational differences in raters (Warriner et al. 2013). In both databases, affective ratings are on a scale from 1 to 9, where 1 is the least pleasurable/exciting/controlling, and 9 is the most.\n",
    "\n",
    "##### Warriner, A. B., Kuperman, V., & Brysbaert, M. (2013). Norms of valence, arousal, and dominance for 13,915 English lemmas. Behavior research methods, 45(4), 1191-1207."
   ]
  },
  {
   "cell_type": "markdown",
   "metadata": {},
   "source": [
    "#### As ANEW uses ratings from a scale of 1 (most negative) to 9 (most positive), valence values of 5 are considered neutral; values less than 5 are considered positive, and values greater than 5 are considered negative. In accordance with Hutto & Gilbert (2014)’s method for accounting for negative values, if a word in the three words prior to the word indicated negation – “not” or “no” – we reversed the polarity of that word. We did this by computing (5 – (valence – 5)) as the new valence value."
   ]
  },
  {
   "cell_type": "markdown",
   "metadata": {},
   "source": [
    "#### Aim is to find sentiment reatings for each comment by taking the median or mean of the sentiment ratings for each comment. "
   ]
  },
  {
   "cell_type": "code",
   "execution_count": 30,
   "metadata": {},
   "outputs": [],
   "source": [
    "# get some packages\n",
    "import csv\n",
    "import sys\n",
    "import os\n",
    "import statistics\n",
    "import time\n",
    "import argparse\n"
   ]
  },
  {
   "cell_type": "code",
   "execution_count": 35,
   "metadata": {},
   "outputs": [],
   "source": [
    "# get the stanford core nlp package\n",
    "# pip install stanfordcorenlp\n",
    "from stanfordcorenlp import StanfordCoreNLP as nlp\n",
    "\n"
   ]
  },
  {
   "cell_type": "code",
   "execution_count": 36,
   "metadata": {},
   "outputs": [],
   "source": [
    "from nltk import tokenize\n",
    "from nltk.corpus import stopwords\n",
    "\n",
    "stops = set(stopwords.words(\"english\"))\n"
   ]
  },
  {
   "cell_type": "code",
   "execution_count": 38,
   "metadata": {},
   "outputs": [],
   "source": [
    "anew = \"../EnglishShortened.csv\"\n"
   ]
  },
  {
   "cell_type": "code",
   "execution_count": 39,
   "metadata": {},
   "outputs": [],
   "source": [
    "# corpus for 2018 comments\n",
    "corpus2017 =[]\n",
    "comments = comments_sent[\"comments_2017\"].str.split()\n",
    "comments = comments.values.tolist()\n",
    "corpus2017 = [word for i in comments for word in i]\n"
   ]
  },
  {
   "cell_type": "markdown",
   "metadata": {},
   "source": [
    "####  Now attempt to use a function to perform sentiment analysis using anew dictionary and by creating an output file with the different scores"
   ]
  },
  {
   "cell_type": "code",
   "execution_count": 54,
   "metadata": {},
   "outputs": [],
   "source": [
    "# performs sentiment analysis on inputFile using the ANEW database, outputting results to a new CSV file in outputDir\n",
    "def analyze(text, output_dir, mode):\n",
    "    \"\"\"\n",
    "    Performs sentiment analysis on the text file given as input using the ANEW database.\n",
    "    Outputs results to a new CSV file in output_dir.\n",
    "    :parameter text: text that needs to be analyzed\n",
    "    :parameter output_dir: path of directory to create new output file\n",
    "    :parameter mode: determines how sentiment values for a sentence are computed (median or mean)\n",
    "    :return:\n",
    "    \"\"\"\n",
    "  \n",
    "\n",
    "    output_file = os.path.join(\"Intro_DigitalHumanities_Methods\",\".csv\")\n",
    "\n",
    "    # asign text that needs to be analzed to fulltext and fulltext2\n",
    "    fulltext = comments_sent[\"comments_2017\"]\n",
    "    fulltext2 = comments_sent[\"comments_2018\"]\n",
    "   \n",
    "\n",
    "    from nltk.stem.wordnet import WordNetLemmatizer\n",
    "    lmtzr = WordNetLemmatizer()\n",
    "\n",
    "    # split into sentences\n",
    "    sentences = tokenize.sent_tokenize(fulltext)\n",
    "    i = 1 # to store sentence index\n",
    "    # check each word in sentence for sentiment and write it to an output_file\n",
    "    with open(output_file, 'w', newline='') as csvfile:\n",
    "        fieldnames = ['Sentence ID', 'Sentence', 'Sentiment', 'Sentiment Label', 'Arousal', 'Dominance',\n",
    "                      '# Words Found', 'Found Words', 'All Words']\n",
    "        writer = csv.DictWriter(csvfile, fieldnames=fieldnames)\n",
    "        writer.writeheader()\n",
    "\n",
    "        # analyze each sentence for sentiment\n",
    "        for s in sentences:\n",
    "            all_words = [] \n",
    "            found_words = []\n",
    "            total_words = 0\n",
    "            v_list = []  # holds valence scores\n",
    "            a_list = []  # holds arousal scores\n",
    "            d_list = []  # holds dominance scores\n",
    "\n",
    "            # search for each valid word's sentiment in ANEW\n",
    "            words = nlp.pos_tag(s.lower())\n",
    "            for index, p in enumerate(words):\n",
    "                # don't process stops or words w/ punctuation\n",
    "                w = p[0]\n",
    "                pos = p[1]\n",
    "                if w in stops or not w.isalpha():\n",
    "                    continue\n",
    "\n",
    "                # check for negation in 3 words before current word\n",
    "                j = index-1\n",
    "                neg = False\n",
    "                while j >= 0 and j >= index-3:\n",
    "                    if words[j][0] == 'not' or words[j][0] == 'no' or words[j][0] == 'n\\'t':\n",
    "                        neg = True\n",
    "                        break\n",
    "                    j -= 1\n",
    "\n",
    "                # lemmatize word based on pos\n",
    "                if pos[0] == 'N' or pos[0] == 'V':\n",
    "                    lemma = lmtzr.lemmatize(w, pos=pos[0].lower())\n",
    "                else:\n",
    "                    lemma = w\n",
    "\n",
    "                all_words.append(lemma)\n",
    "\n",
    "                # search for lemmatized word in ANEW\n",
    "                with open(anew) as csvfile:\n",
    "                    reader = csv.DictReader(csvfile)\n",
    "                    for row in reader:\n",
    "                        if row['Word'].casefold() == lemma.casefold():\n",
    "                            if neg:\n",
    "                                found_words.append(\"neg-\"+lemma)\n",
    "                            else:\n",
    "                                found_words.append(lemma)\n",
    "                            v = float(row['valence'])\n",
    "                            a = float(row['arousal'])\n",
    "                            d = float(row['dominance'])\n",
    "\n",
    "                            if neg:\n",
    "                                # reverse polarity for this word\n",
    "                                v = 5 - (v - 5)\n",
    "                                a = 5 - (a - 5)\n",
    "                                d = 5 - (d - 5)\n",
    "\n",
    "                            v_list.append(v)\n",
    "                            a_list.append(a)\n",
    "                            d_list.append(d)\n",
    "\n",
    "            if len(found_words) == 0:  # no words found in ANEW for this sentence\n",
    "                writer.writerow({'Sentence ID': i,\n",
    "                                 'Sentence': s,\n",
    "                                 'Sentiment': 'N/A',\n",
    "                                 'Sentiment Label': 'N/A',\n",
    "                                 'Arousal': 'N/A',\n",
    "                                 'Dominance': 'N/A',\n",
    "                                 '# Words Found': 0,\n",
    "                                 'Found Words': 'N/A',\n",
    "                                 'All Words': all_words\n",
    "                                 })\n",
    "                i += 1\n",
    "            else:  # output sentiment info for this sentence\n",
    "\n",
    "                # mode of the values that I want to get\n",
    "                if mode == 'median':\n",
    "                    sentiment = statistics.median(v_list)\n",
    "                    arousal = statistics.median(a_list)\n",
    "                    dominance = statistics.median(d_list)\n",
    "                else:\n",
    "                    sentiment = statistics.mean(v_list) #mean if prefered over median\n",
    "                    arousal = statistics.mean(a_list)\n",
    "                    dominance = statistics.mean(d_list)\n",
    "\n",
    "                # set the sentiment label / define the threshold\n",
    "                label = 'neutral'\n",
    "                if sentiment > 6:\n",
    "                    label = 'positive'\n",
    "                elif sentiment < 4:\n",
    "                    label = 'negative'\n",
    "\n",
    "                writer.writerow({'Sentence ID': i,\n",
    "                                 'Sentence': s,\n",
    "                                 'Sentiment': sentiment,\n",
    "                                 'Sentiment Label': label,\n",
    "                                 'Arousal': arousal,\n",
    "                                 'Dominance': dominance,\n",
    "                                 '# Words Found': (\"%d out of %d\" % (len(found_words), len(all_words))),\n",
    "                                 'Found Words': found_words,\n",
    "                                 'All Words': all_words\n",
    "                                 })\n",
    "                i += 1"
   ]
  },
  {
   "cell_type": "code",
   "execution_count": 51,
   "metadata": {},
   "outputs": [],
   "source": [
    "fulltext = comments_sent[\"comments_2017\"]\n",
    "fulltext2 = comments_sent[\"comments_2018\"]"
   ]
  },
  {
   "cell_type": "markdown",
   "metadata": {},
   "source": [
    "#### the following does sadly not work. "
   ]
  },
  {
   "cell_type": "code",
   "execution_count": null,
   "metadata": {},
   "outputs": [],
   "source": [
    "\n",
    "analyze(fulltext, \"C:/Users/Surya/Desktop/Cognitive Science/Semester 4_Master/Methods_Digital_Humanities/Intro_DigitalHumanities_Methods\" , median)"
   ]
  },
  {
   "cell_type": "markdown",
   "metadata": {},
   "source": [
    "### I tried many different options but cannot manage to solve or properly do the analysis of the different text/comment columns. I am also not so sure how to properly implement a different dictionary to my text data. \n",
    "\n",
    "### I therefore will not do the analysis with the ANEW dictionary but will try something different now. Namely emotion extraction using the package text2emotion. \n"
   ]
  },
  {
   "cell_type": "markdown",
   "metadata": {},
   "source": [
    "#### Text2Emotion is the python package that will assist you to pull out the emotions from the content.\n",
    "#### Processes any textual data, recognizes the emotion embedded in it, and provides the output in the form of a dictionary.\n",
    "#### Well suited with 5 basic emotion categories such as Happy, Angry, Sad, Surprise, and Fear."
   ]
  },
  {
   "cell_type": "code",
   "execution_count": 64,
   "metadata": {},
   "outputs": [
    {
     "name": "stderr",
     "output_type": "stream",
     "text": [
      "[nltk_data] Downloading package stopwords to\n",
      "[nltk_data]     C:\\Users\\Surya\\AppData\\Roaming\\nltk_data...\n",
      "[nltk_data]   Package stopwords is already up-to-date!\n",
      "[nltk_data] Downloading package punkt to\n",
      "[nltk_data]     C:\\Users\\Surya\\AppData\\Roaming\\nltk_data...\n",
      "[nltk_data]   Package punkt is already up-to-date!\n",
      "[nltk_data] Downloading package wordnet to\n",
      "[nltk_data]     C:\\Users\\Surya\\AppData\\Roaming\\nltk_data...\n",
      "[nltk_data]   Package wordnet is already up-to-date!\n"
     ]
    }
   ],
   "source": [
    "#pip install text2emotion & Import the modules\n",
    "import text2emotion as te"
   ]
  },
  {
   "cell_type": "code",
   "execution_count": 67,
   "metadata": {},
   "outputs": [],
   "source": [
    "text_test = \"It’s hard to get up much civil liberties outrage around this, in spite of the unappealing motives of the vaccine enforcers. Clearly, the banks don’t give a toss about public health. If the net result of their vaccine mandates is an acceleration towards herd immunity, however, for once we may all be on the same side. (There is another question, about whether new, more employee-friendly working habits established during the pandemic will die just as quickly as they rose, but this probably isn’t a good test of it: people don’t, generally, pursue a career in banking for its amazing work/life balance. Meanwhile, tensions between vaccinated and unvaccinated people roil employee relations in much smaller contexts. Another sign of the city springing to life post-pandemic is the feverish hiring of babysitters. The honour system of declaring, to playground cohorts, the vaccination status of one’s child’s caregiver is causing predictable problems. In my extended circle, there is a single family whose after-school babysitter is unvaccinated and although I’ve never met the woman, her status is sufficiently well known within the neighbourhood that I’m fully aware of her reasoning. What’s the point? Vaccinated people still get sick.\""
   ]
  },
  {
   "cell_type": "code",
   "execution_count": 68,
   "metadata": {},
   "outputs": [
    {
     "data": {
      "text/plain": [
       "{'Happy': 0.03, 'Angry': 0.03, 'Surprise': 0.16, 'Sad': 0.22, 'Fear': 0.56}"
      ]
     },
     "execution_count": 68,
     "metadata": {},
     "output_type": "execute_result"
    }
   ],
   "source": [
    "#Call to the function\n",
    "te.get_emotion(text_test)\n",
    "#The output indicates for this test text that the it is dominated by fear and sad tone."
   ]
  },
  {
   "cell_type": "markdown",
   "metadata": {},
   "source": [
    "\n",
    "#### Finally, instead of using ANEW I will use Text2emotion package to compare the overall emotional sentiment categories between the comments of 2017 and 2018. \n",
    "\n",
    "#### sadly this also does not work due to an AttributeError which I cannot solve now."
   ]
  },
  {
   "cell_type": "code",
   "execution_count": 74,
   "metadata": {},
   "outputs": [
    {
     "ename": "AttributeError",
     "evalue": "'Series' object has no attribute 'lower'",
     "output_type": "error",
     "traceback": [
      "\u001b[1;31m---------------------------------------------------------------------------\u001b[0m",
      "\u001b[1;31mAttributeError\u001b[0m                            Traceback (most recent call last)",
      "\u001b[1;32m<ipython-input-74-54b92d526269>\u001b[0m in \u001b[0;36m<module>\u001b[1;34m\u001b[0m\n\u001b[0;32m      1\u001b[0m \u001b[1;31m# for 2017\u001b[0m\u001b[1;33m\u001b[0m\u001b[1;33m\u001b[0m\u001b[1;33m\u001b[0m\u001b[0m\n\u001b[1;32m----> 2\u001b[1;33m \u001b[0mte\u001b[0m\u001b[1;33m.\u001b[0m\u001b[0mget_emotion\u001b[0m\u001b[1;33m(\u001b[0m\u001b[0mfulltext\u001b[0m\u001b[1;33m)\u001b[0m\u001b[1;33m\u001b[0m\u001b[1;33m\u001b[0m\u001b[0m\n\u001b[0m",
      "\u001b[1;32m~\\Anaconda3\\lib\\site-packages\\text2emotion\\__init__.py\u001b[0m in \u001b[0;36mget_emotion\u001b[1;34m(input)\u001b[0m\n\u001b[0;32m   2714\u001b[0m         \u001b[1;32mreturn\u001b[0m \u001b[0mclean_text\u001b[0m\u001b[1;33m\u001b[0m\u001b[1;33m\u001b[0m\u001b[0m\n\u001b[0;32m   2715\u001b[0m \u001b[1;33m\u001b[0m\u001b[0m\n\u001b[1;32m-> 2716\u001b[1;33m     \u001b[0mtext\u001b[0m \u001b[1;33m=\u001b[0m \u001b[0mcleaning\u001b[0m\u001b[1;33m(\u001b[0m\u001b[0minput\u001b[0m\u001b[1;33m)\u001b[0m\u001b[1;33m.\u001b[0m\u001b[0msplit\u001b[0m\u001b[1;33m(\u001b[0m\u001b[1;33m)\u001b[0m\u001b[1;33m\u001b[0m\u001b[1;33m\u001b[0m\u001b[0m\n\u001b[0m\u001b[0;32m   2717\u001b[0m     \u001b[0memotion_values\u001b[0m \u001b[1;33m=\u001b[0m \u001b[1;33m[\u001b[0m\u001b[1;33m]\u001b[0m\u001b[1;33m\u001b[0m\u001b[1;33m\u001b[0m\u001b[0m\n\u001b[0;32m   2718\u001b[0m     \u001b[0memotions\u001b[0m \u001b[1;33m=\u001b[0m \u001b[1;33m{\u001b[0m\u001b[1;34m\"Happy\"\u001b[0m\u001b[1;33m:\u001b[0m \u001b[1;36m0\u001b[0m\u001b[1;33m,\u001b[0m \u001b[1;34m\"Angry\"\u001b[0m\u001b[1;33m:\u001b[0m \u001b[1;36m0\u001b[0m\u001b[1;33m,\u001b[0m \u001b[1;34m\"Surprise\"\u001b[0m\u001b[1;33m:\u001b[0m \u001b[1;36m0\u001b[0m\u001b[1;33m,\u001b[0m \u001b[1;34m\"Sad\"\u001b[0m\u001b[1;33m:\u001b[0m \u001b[1;36m0\u001b[0m\u001b[1;33m,\u001b[0m \u001b[1;34m\"Fear\"\u001b[0m\u001b[1;33m:\u001b[0m \u001b[1;36m0\u001b[0m\u001b[1;33m}\u001b[0m\u001b[1;33m\u001b[0m\u001b[1;33m\u001b[0m\u001b[0m\n",
      "\u001b[1;32m~\\Anaconda3\\lib\\site-packages\\text2emotion\\__init__.py\u001b[0m in \u001b[0;36mcleaning\u001b[1;34m(text)\u001b[0m\n\u001b[0;32m   2697\u001b[0m \u001b[1;33m\u001b[0m\u001b[0m\n\u001b[0;32m   2698\u001b[0m     \u001b[1;32mdef\u001b[0m \u001b[0mcleaning\u001b[0m\u001b[1;33m(\u001b[0m\u001b[0mtext\u001b[0m\u001b[1;33m)\u001b[0m\u001b[1;33m:\u001b[0m\u001b[1;33m\u001b[0m\u001b[1;33m\u001b[0m\u001b[0m\n\u001b[1;32m-> 2699\u001b[1;33m         \u001b[0mtext\u001b[0m \u001b[1;33m=\u001b[0m \u001b[0mtext\u001b[0m\u001b[1;33m.\u001b[0m\u001b[0mlower\u001b[0m\u001b[1;33m(\u001b[0m\u001b[1;33m)\u001b[0m\u001b[1;33m\u001b[0m\u001b[1;33m\u001b[0m\u001b[0m\n\u001b[0m\u001b[0;32m   2700\u001b[0m         \u001b[0mtext\u001b[0m \u001b[1;33m=\u001b[0m \u001b[0memojis_extractor\u001b[0m\u001b[1;33m(\u001b[0m\u001b[0mtext\u001b[0m\u001b[1;33m)\u001b[0m\u001b[1;33m\u001b[0m\u001b[1;33m\u001b[0m\u001b[0m\n\u001b[0;32m   2701\u001b[0m         \u001b[0mtext\u001b[0m \u001b[1;33m=\u001b[0m \u001b[0mre\u001b[0m\u001b[1;33m.\u001b[0m\u001b[0msub\u001b[0m\u001b[1;33m(\u001b[0m\u001b[1;34mr'http\\S+|www.\\S+'\u001b[0m\u001b[1;33m,\u001b[0m \u001b[1;34m''\u001b[0m\u001b[1;33m,\u001b[0m \u001b[0mtext\u001b[0m\u001b[1;33m)\u001b[0m\u001b[1;33m\u001b[0m\u001b[1;33m\u001b[0m\u001b[0m\n",
      "\u001b[1;32m~\\Anaconda3\\lib\\site-packages\\pandas\\core\\generic.py\u001b[0m in \u001b[0;36m__getattr__\u001b[1;34m(self, name)\u001b[0m\n\u001b[0;32m   5177\u001b[0m             \u001b[1;32mif\u001b[0m \u001b[0mself\u001b[0m\u001b[1;33m.\u001b[0m\u001b[0m_info_axis\u001b[0m\u001b[1;33m.\u001b[0m\u001b[0m_can_hold_identifiers_and_holds_name\u001b[0m\u001b[1;33m(\u001b[0m\u001b[0mname\u001b[0m\u001b[1;33m)\u001b[0m\u001b[1;33m:\u001b[0m\u001b[1;33m\u001b[0m\u001b[1;33m\u001b[0m\u001b[0m\n\u001b[0;32m   5178\u001b[0m                 \u001b[1;32mreturn\u001b[0m \u001b[0mself\u001b[0m\u001b[1;33m[\u001b[0m\u001b[0mname\u001b[0m\u001b[1;33m]\u001b[0m\u001b[1;33m\u001b[0m\u001b[1;33m\u001b[0m\u001b[0m\n\u001b[1;32m-> 5179\u001b[1;33m             \u001b[1;32mreturn\u001b[0m \u001b[0mobject\u001b[0m\u001b[1;33m.\u001b[0m\u001b[0m__getattribute__\u001b[0m\u001b[1;33m(\u001b[0m\u001b[0mself\u001b[0m\u001b[1;33m,\u001b[0m \u001b[0mname\u001b[0m\u001b[1;33m)\u001b[0m\u001b[1;33m\u001b[0m\u001b[1;33m\u001b[0m\u001b[0m\n\u001b[0m\u001b[0;32m   5180\u001b[0m \u001b[1;33m\u001b[0m\u001b[0m\n\u001b[0;32m   5181\u001b[0m     \u001b[1;32mdef\u001b[0m \u001b[0m__setattr__\u001b[0m\u001b[1;33m(\u001b[0m\u001b[0mself\u001b[0m\u001b[1;33m,\u001b[0m \u001b[0mname\u001b[0m\u001b[1;33m,\u001b[0m \u001b[0mvalue\u001b[0m\u001b[1;33m)\u001b[0m\u001b[1;33m:\u001b[0m\u001b[1;33m\u001b[0m\u001b[1;33m\u001b[0m\u001b[0m\n",
      "\u001b[1;31mAttributeError\u001b[0m: 'Series' object has no attribute 'lower'"
     ]
    }
   ],
   "source": [
    "# for 2017 \n",
    "te.get_emotion(fulltext)"
   ]
  },
  {
   "cell_type": "code",
   "execution_count": null,
   "metadata": {},
   "outputs": [],
   "source": [
    "# for 2018\n",
    "te.get_emotion(fulltext2)"
   ]
  }
 ],
 "metadata": {
  "kernelspec": {
   "display_name": "Python 3",
   "language": "python",
   "name": "python3"
  },
  "language_info": {
   "codemirror_mode": {
    "name": "ipython",
    "version": 3
   },
   "file_extension": ".py",
   "mimetype": "text/x-python",
   "name": "python",
   "nbconvert_exporter": "python",
   "pygments_lexer": "ipython3",
   "version": "3.7.4"
  }
 },
 "nbformat": 4,
 "nbformat_minor": 4
}
