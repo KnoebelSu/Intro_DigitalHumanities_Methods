{
 "cells": [
  {
   "cell_type": "markdown",
   "metadata": {},
   "source": [
    "## First Assignment"
   ]
  },
  {
   "cell_type": "markdown",
   "metadata": {},
   "source": [
    "#### 1) Apply the appropriate string methods to the **x** variable (as '.upper') to change it exactly to: \"$Dichlorodiphenyltrichloroethane$\"."
   ]
  },
  {
   "cell_type": "code",
   "execution_count": 10,
   "metadata": {},
   "outputs": [],
   "source": [
    "import math"
   ]
  },
  {
   "cell_type": "code",
   "execution_count": null,
   "metadata": {},
   "outputs": [],
   "source": [
    "x = \"DiClOrod  IFeNi  lTRicLOr oETaNo  DiChlorod iPHeny lTrichL oroEThaNe\""
   ]
  },
  {
   "cell_type": "code",
   "execution_count": 4,
   "metadata": {
    "collapsed": true,
    "jupyter": {
     "outputs_hidden": true
    }
   },
   "outputs": [
    {
     "data": {
      "text/plain": [
       "['__add__',\n",
       " '__class__',\n",
       " '__contains__',\n",
       " '__delattr__',\n",
       " '__dir__',\n",
       " '__doc__',\n",
       " '__eq__',\n",
       " '__format__',\n",
       " '__ge__',\n",
       " '__getattribute__',\n",
       " '__getitem__',\n",
       " '__getnewargs__',\n",
       " '__gt__',\n",
       " '__hash__',\n",
       " '__init__',\n",
       " '__init_subclass__',\n",
       " '__iter__',\n",
       " '__le__',\n",
       " '__len__',\n",
       " '__lt__',\n",
       " '__mod__',\n",
       " '__mul__',\n",
       " '__ne__',\n",
       " '__new__',\n",
       " '__reduce__',\n",
       " '__reduce_ex__',\n",
       " '__repr__',\n",
       " '__rmod__',\n",
       " '__rmul__',\n",
       " '__setattr__',\n",
       " '__sizeof__',\n",
       " '__str__',\n",
       " '__subclasshook__',\n",
       " 'capitalize',\n",
       " 'casefold',\n",
       " 'center',\n",
       " 'count',\n",
       " 'encode',\n",
       " 'endswith',\n",
       " 'expandtabs',\n",
       " 'find',\n",
       " 'format',\n",
       " 'format_map',\n",
       " 'index',\n",
       " 'isalnum',\n",
       " 'isalpha',\n",
       " 'isascii',\n",
       " 'isdecimal',\n",
       " 'isdigit',\n",
       " 'isidentifier',\n",
       " 'islower',\n",
       " 'isnumeric',\n",
       " 'isprintable',\n",
       " 'isspace',\n",
       " 'istitle',\n",
       " 'isupper',\n",
       " 'join',\n",
       " 'ljust',\n",
       " 'lower',\n",
       " 'lstrip',\n",
       " 'maketrans',\n",
       " 'partition',\n",
       " 'replace',\n",
       " 'rfind',\n",
       " 'rindex',\n",
       " 'rjust',\n",
       " 'rpartition',\n",
       " 'rsplit',\n",
       " 'rstrip',\n",
       " 'split',\n",
       " 'splitlines',\n",
       " 'startswith',\n",
       " 'strip',\n",
       " 'swapcase',\n",
       " 'title',\n",
       " 'translate',\n",
       " 'upper',\n",
       " 'zfill']"
      ]
     },
     "execution_count": 4,
     "metadata": {},
     "output_type": "execute_result"
    }
   ],
   "source": [
    "dir(x) #check what methods I could use\n",
    "# capitalize()\tConverts the first character to upper case\n",
    "# replace()\tReturns a string where a specified value is replaced with a specified value (w3 school)"
   ]
  },
  {
   "cell_type": "code",
   "execution_count": 10,
   "metadata": {},
   "outputs": [
    {
     "name": "stdout",
     "output_type": "stream",
     "text": [
      "Diclorodifeniltricloroetanodichlorodiphenyltrichloroethane\n"
     ]
    }
   ],
   "source": [
    "new_x = x.replace(\" \", \"\").capitalize()\n",
    "print(new_x)"
   ]
  },
  {
   "cell_type": "markdown",
   "metadata": {},
   "source": [
    "#### 2) Assign respectively the values: 'word', 15, 3.14 and 'list' to variables A, B, C and D in a single line of code. Then, print them in that same order on a single line separated by a space, using only one print statement."
   ]
  },
  {
   "cell_type": "code",
   "execution_count": 11,
   "metadata": {},
   "outputs": [
    {
     "name": "stdout",
     "output_type": "stream",
     "text": [
      "word 15 3.14 list\n"
     ]
    }
   ],
   "source": [
    "A, B, C, D = ('word', 15, 3.14, \"list\") #tuple\n",
    "print(A, B, C, D, sep= \" \" )"
   ]
  },
  {
   "cell_type": "markdown",
   "metadata": {},
   "source": [
    "#### 3) Use the **input()** function to receive an input in the form **'68.4 1.71'**, that is, two floating point numbers in a line separated by space. Then, assign these numbers to the variables **w** and **h** respectively, which represent an individual's weight and height (hint: take a look at the '.split()' method). With this data, calculate the individual's Body Mass Index (BMI) from the following relationship: \n",
    "    \n",
    "\\begin{equation}\n",
    "BMI = \\dfrac{weight}{height^2}\n",
    "\\end{equation}"
   ]
  },
  {
   "cell_type": "code",
   "execution_count": 7,
   "metadata": {},
   "outputs": [
    {
     "name": "stdin",
     "output_type": "stream",
     "text": [
      "Please enter your weight first and then your height and seperate them by a comma:  49,1.89\n"
     ]
    },
    {
     "name": "stdout",
     "output_type": "stream",
     "text": [
      "13.717421124828533\n"
     ]
    }
   ],
   "source": [
    "w, h = input(\"Please enter your weight first and then your height and seperate them by a space: \").split() #The split() method splits a string into a list.\n",
    "BMI = float(w)/float(h)**2\n",
    "print(BMI)\n",
    "\n"
   ]
  },
  {
   "cell_type": "markdown",
   "metadata": {},
   "source": [
    "#### This value can also be classified according to ranges of values, following to the table below. Use conditional structures to classify and print the classification assigned to the individual. \n",
    "\n",
    "<center><img src=\"https://healthtravelguide.com/wp-content/uploads/2020/06/Body-mass-index-table.png\" width=\"30%\"><\\center>  \n",
    "\n",
    "\n",
    "(source: https://healthtravelguide.com/bmi-calculator/)"
   ]
  },
  {
   "cell_type": "code",
   "execution_count": 8,
   "metadata": {},
   "outputs": [
    {
     "name": "stdout",
     "output_type": "stream",
     "text": [
      "You are underweight\n"
     ]
    }
   ],
   "source": [
    "if BMI <= 18.4:\n",
    "    print(\"You are underweight\")\n",
    "elif BMI <= 24.9:\n",
    "    print(\"You have a normal weight according to the BMI\")\n",
    "elif BMI <= 29.8:\n",
    "    print(\"Pre-obesity\")\n",
    "elif BMI <= 34.8:\n",
    "    print(\"Obesity class I\")\n",
    "elif BMI <= 39.8:\n",
    "    print(\"Obesity class II\")\n",
    "else:\n",
    "    print(\"Obesity class III\")"
   ]
  },
  {
   "cell_type": "markdown",
   "metadata": {},
   "source": [
    "#### 4) Receive an integer as an input and, using a loop, calculate the factorial of this number, that is, the product of all the integers from one to the number provided. "
   ]
  },
  {
   "cell_type": "code",
   "execution_count": 19,
   "metadata": {},
   "outputs": [
    {
     "name": "stdin",
     "output_type": "stream",
     "text": [
      "please enter a random integer:  4\n"
     ]
    },
    {
     "name": "stdout",
     "output_type": "stream",
     "text": [
      "4!= 1\n",
      "4!= 2\n",
      "4!= 6\n",
      "4!= 24\n"
     ]
    }
   ],
   "source": [
    "# A factorial is a function that multiplies a number by every number below it. For example 5!= 5*4*3*2*1=120\n",
    "var = int(input(\"please enter a random integer: \"))\n",
    "fact = 1\n",
    "for i in range(1, var+1): # to iterate until i reaches the input var\n",
    "    fact = fact*i\n",
    "print(f\"{var}! = {fact}\") \n",
    "\n",
    "\n"
   ]
  },
  {
   "cell_type": "markdown",
   "metadata": {},
   "source": [
    "#### 5) Using a while loop and the input function, read an indefinite number of integers until the number read is -1. Present the sum of all these numbers in the form of a print, excluding the -1 read at the end. "
   ]
  },
  {
   "cell_type": "code",
   "execution_count": 35,
   "metadata": {},
   "outputs": [
    {
     "name": "stdin",
     "output_type": "stream",
     "text": [
      "please enter any random integer:  2\n",
      "please enter any random integer:  3\n",
      "please enter any random integer:  -1\n"
     ]
    },
    {
     "name": "stdout",
     "output_type": "stream",
     "text": [
      "sum of numbers 5\n"
     ]
    }
   ],
   "source": [
    "num_sum = 0\n",
    "num = 0\n",
    "while num != -1:\n",
    "    num_sum += num\n",
    "    num = int(input(\"please enter any random integer: \"))\n",
    "print(f\"sum of numbers {num_sum}\")\n",
    "    "
   ]
  },
  {
   "cell_type": "markdown",
   "metadata": {},
   "source": [
    "#### 6) Read the **first name** of an employee, his **amount of hours worked** and the **salary per hour** in a single line separated by commas. Next, calculate the **total salary** for this employee and show it to two decimal places."
   ]
  },
  {
   "cell_type": "code",
   "execution_count": 51,
   "metadata": {},
   "outputs": [
    {
     "name": "stdin",
     "output_type": "stream",
     "text": [
      "please enter the first name, the amount of hours this person worked and the salary per hour and seperate the values by comma:  elli, 23, 12\n"
     ]
    },
    {
     "name": "stdout",
     "output_type": "stream",
     "text": [
      "the total salary of elli is:  2.8e+02\n"
     ]
    }
   ],
   "source": [
    "first_name, hours_worked, salary_per_hour = input(\"please enter the first name, the amount of hours this person worked and the salary per hour and seperate the values by comma: \").split(\",\")\n",
    "salary_sum = float(hours_worked)*float(salary_per_hour)\n",
    "print(f\"the total salary of {first_name} is: \", '{:.2f}'.format(salary_sum))\n",
    "      #'{0:.3f}'.format(num) this example formats with 3 decimals\n",
    "\n"
   ]
  },
  {
   "cell_type": "markdown",
   "metadata": {},
   "source": [
    "#### 7) Read three floating point values **A**, **B** and **C** respectively. Then calculate itens a, b, c, d and e: "
   ]
  },
  {
   "cell_type": "code",
   "execution_count": 2,
   "metadata": {},
   "outputs": [
    {
     "name": "stdin",
     "output_type": "stream",
     "text": [
      "please enter three floating numbers A, B, and C, sperated by comma:  23.12, 32.19, 54.74\n"
     ]
    }
   ],
   "source": [
    "# First the user shall enter three numbers.\n",
    "A, B, C = input(\"please enter three floating numbers A, B, and C, sperated by comma: \").split(\",\")\n",
    "\n",
    "# As the numbers are read as str I cannot use them for calculation. \n",
    "# so I convert them to floats \n",
    "A, B, C = float(A), float(B), float(C)\n"
   ]
  },
  {
   "cell_type": "markdown",
   "metadata": {},
   "source": [
    "    a) the area of the triangle rectangle with A as the base and C as the height."
   ]
  },
  {
   "cell_type": "code",
   "execution_count": 22,
   "metadata": {},
   "outputs": [
    {
     "name": "stdout",
     "output_type": "stream",
     "text": [
      "The area of the triangle is:  372.1164\n"
     ]
    }
   ],
   "source": [
    "area = (A*B)/2\n",
    "print(\"The area of the triangle is: \", area)\n"
   ]
  },
  {
   "cell_type": "markdown",
   "metadata": {},
   "source": [
    "    b) the area of the circle of radius C. (pi = 3.14159) "
   ]
  },
  {
   "cell_type": "code",
   "execution_count": 3,
   "metadata": {},
   "outputs": [
    {
     "name": "stdout",
     "output_type": "stream",
     "text": [
      "The area of the circle with the radius of 54.74 is:  9413.672647484002\n"
     ]
    }
   ],
   "source": [
    "area_circle = 3.14159*C**2\n",
    "print(\"The area of the circle with the radius of 54.74 is: \", area_circle)"
   ]
  },
  {
   "cell_type": "markdown",
   "metadata": {},
   "source": [
    "    c) the area of the trapezoid that has A and B for bases and C for height. "
   ]
  },
  {
   "cell_type": "code",
   "execution_count": 4,
   "metadata": {},
   "outputs": [
    {
     "name": "stdout",
     "output_type": "stream",
     "text": [
      "The area of the trapezoid is:  1513.8347\n"
     ]
    }
   ],
   "source": [
    "# area of a trapezoid is the average width times the altitude: so h*(base_line1+base_line2/2)\n",
    "area_trap = C*((A+B)/2)\n",
    "print(\"The area of the trapezoid is: \", area_trap)"
   ]
  },
  {
   "cell_type": "markdown",
   "metadata": {},
   "source": [
    "    d) the area of the square that has side B. "
   ]
  },
  {
   "cell_type": "code",
   "execution_count": 5,
   "metadata": {},
   "outputs": [
    {
     "name": "stdout",
     "output_type": "stream",
     "text": [
      "Area of the square with side B is:  1036.1961\n"
     ]
    }
   ],
   "source": [
    "area_sq = B**2\n",
    "print(\"Area of the square with side B is: \", area_sq)"
   ]
  },
  {
   "cell_type": "markdown",
   "metadata": {},
   "source": [
    "    e) the area of the rectangle that has sides A and B. "
   ]
  },
  {
   "cell_type": "code",
   "execution_count": 7,
   "metadata": {},
   "outputs": [
    {
     "name": "stdout",
     "output_type": "stream",
     "text": [
      "the area of the rectangle with the sides A and B is:  744.2328\n"
     ]
    }
   ],
   "source": [
    "area_rect = A*B\n",
    "print(\"the area of the rectangle with the sides A and B is: \", area_rect)"
   ]
  },
  {
   "cell_type": "markdown",
   "metadata": {},
   "source": [
    "#### 8) Read **the values a, b and c** and calculate the **roots of the second degree equation** $ax^{2}+bx+c=0$ using [this formula](https://en.wikipedia.org/wiki/Quadratic_equation). If it is not possible to calculate the roots, display the message **“There are no real roots”**. "
   ]
  },
  {
   "cell_type": "code",
   "execution_count": 24,
   "metadata": {},
   "outputs": [
    {
     "name": "stdin",
     "output_type": "stream",
     "text": [
      "please enter three floating numbers a, b, and c, sperated by comma:  2, -5, 4\n"
     ]
    },
    {
     "name": "stdout",
     "output_type": "stream",
     "text": [
      "We cannot take the root of a number that is below 0\n"
     ]
    }
   ],
   "source": [
    "a, b, c = input(\"please enter three floating numbers a, b, and c, sperated by comma: \").split(\",\")\n",
    "a, b, c = float(a), float(b), float(c)\n",
    "\n",
    "# A quadratic equation always has two roots, if complex roots are included and a double root is counted for two.\n",
    "# x represents an unknown, and a, b, and c represent known numbers, where a ≠ 0. \n",
    "# If a = 0, then the equation is linear, not quadratic, as there is no {\\displaystyle ax^{2}}ax^2 term. \n",
    "# The quadratic formula for the roots of the general quadratic equation\n",
    "# x = (-b ± sqrt of (b^2-4ac))/2*a\n",
    "\n",
    "\n",
    "if a == 0:\n",
    "    print(\"the equation is not quadratic\")\n",
    "else: \n",
    "    root_var = (b**2)-(4*a*c)   # define the squarcheck numerator root\n",
    "    if root_var == 0: # use equation without the root if it is zero\n",
    "        var = (-b/2*a)\n",
    "        print(\"the root of the equation is\", root_var)\n",
    "    elif root_var < 0:\n",
    "        print(\"We cannot take the root of a number that is below 0\")\n",
    "    else: \n",
    "        x = (-b + math.sqrt(root_var))/(2*a)\n",
    "        y = (-b - math.sqrt(root_var))/(2*a)\n",
    "        print(\"the squar roots of x and y are: \", x, y)\n",
    "        \n",
    "    \n",
    "    "
   ]
  },
  {
   "cell_type": "markdown",
   "metadata": {},
   "source": [
    "#### 9) Read four floating point numerical values corresponding to the coordinates of two geographical coordinates in the cartesian plane. Each point will come in a line with its coordinates separated by space. Then calculate and show the distance between these two points. \n",
    "\n",
    "(obs: $d=\\sqrt{(x_1-x_2)^2 + (y_1-y_2)^2}$)"
   ]
  },
  {
   "cell_type": "code",
   "execution_count": 26,
   "metadata": {},
   "outputs": [
    {
     "name": "stdin",
     "output_type": "stream",
     "text": [
      "please enter two floating numbers corresponding to coordinates x1 and x2, sperated by comma:  3235.23, 3252.68\n",
      "please enter two floating numbers corresponding to coordinates x1 and x2, sperated by comma:  3215.32, 5242.93\n"
     ]
    },
    {
     "name": "stdout",
     "output_type": "stream",
     "text": [
      "the distance between the two coordinates is 24.67802666341025\n"
     ]
    }
   ],
   "source": [
    "# for x coordinates\n",
    "x1, x2 = input(\"please enter two floating numbers corresponding to coordinates x1 and x2, sperated by comma: \").split(\",\")\n",
    "x1, x2 = float(x1), float(x2)\n",
    "\n",
    "# for y coordinates\n",
    "y1, y2 = input(\"please enter two floating numbers corresponding to coordinates x1 and x2, sperated by comma: \").split(\",\")\n",
    "y1, y2 = float(x1), float(x2)\n",
    "\n",
    "#calculate the distance\n",
    "d = math.sqrt(((x1 - x2)**2) + ((y1 - y2)**2))\n",
    "print(f\"the distance between the two coordinates is {d}\")"
   ]
  },
  {
   "cell_type": "markdown",
   "metadata": {},
   "source": [
    "#### 10) Read **two floating point numbers** on a line that represent **coordinates of a cartesian point**. With this, use **conditional structures** to determine if you are at the origin, printing the message **'origin'**; in one of the axes, printing **'x axis'** or **'y axis'**; or in one of the four quadrants, printing **'q1'**, **'q2**', **'q3'** or **'q4'**. "
   ]
  },
  {
   "cell_type": "code",
   "execution_count": 29,
   "metadata": {},
   "outputs": [
    {
     "name": "stdin",
     "output_type": "stream",
     "text": [
      "please enter two floating numbers corresponding to coordinates x1 and x2, sperated by comma:  -2, -5\n"
     ]
    },
    {
     "name": "stdout",
     "output_type": "stream",
     "text": [
      "q3\n"
     ]
    }
   ],
   "source": [
    "# Cartesian coordinates allow one to specify the location of a point in the plane,\n",
    "# or in three-dimensional space. The Cartesian coordinates (also called rectangular coordinates) of a point \n",
    "# are a pair of numbers (in two-dimensions) or a triplet of numbers (in three-dimensions) \n",
    "# that specified signed distances from the coordinate axis.\n",
    "\n",
    "x, y = input(\"please enter two floating numbers corresponding to coordinates x1 and x2, sperated by comma: \").split(\",\")\n",
    "x, y = float(x), float(y)\n",
    "\n",
    "if x == 0 and y == 0:\n",
    "    print('you are at the origin')\n",
    "elif y == 0:\n",
    "    print('x axis')\n",
    "elif x == 0:\n",
    "    print('y axis')\n",
    "elif x > 0 and y > 0: \n",
    "    print('q1') #quadrant one coordinate direction is positive for x and y\n",
    "elif y > 0:\n",
    "    print('q2') # second quadrant if y is positive direction\n",
    "elif y < 0 and x < 0: \n",
    "    print('q3') #third quadrant if negative direction for both x and y\n",
    "else:\n",
    "    print('q4')\n"
   ]
  },
  {
   "cell_type": "markdown",
   "metadata": {},
   "source": [
    "#### 11) Read an integer that represents a phone code for international dialing.  \n",
    "#### Then, inform to which country the code belongs to, considering the generated table below:\n",
    "(You just need to consider the first 10 entries)  "
   ]
  },
  {
   "cell_type": "code",
   "execution_count": 32,
   "metadata": {},
   "outputs": [
    {
     "data": {
      "text/html": [
       "<div>\n",
       "<style scoped>\n",
       "    .dataframe tbody tr th:only-of-type {\n",
       "        vertical-align: middle;\n",
       "    }\n",
       "\n",
       "    .dataframe tbody tr th {\n",
       "        vertical-align: top;\n",
       "    }\n",
       "\n",
       "    .dataframe thead th {\n",
       "        text-align: right;\n",
       "    }\n",
       "</style>\n",
       "<table border=\"1\" class=\"dataframe\">\n",
       "  <thead>\n",
       "    <tr style=\"text-align: right;\">\n",
       "      <th></th>\n",
       "      <th>Country</th>\n",
       "      <th>Country calling code</th>\n",
       "    </tr>\n",
       "  </thead>\n",
       "  <tbody>\n",
       "    <tr>\n",
       "      <td>0</td>\n",
       "      <td>Austria</td>\n",
       "      <td>43</td>\n",
       "    </tr>\n",
       "    <tr>\n",
       "      <td>1</td>\n",
       "      <td>Belgium</td>\n",
       "      <td>32</td>\n",
       "    </tr>\n",
       "    <tr>\n",
       "      <td>2</td>\n",
       "      <td>Bulgaria</td>\n",
       "      <td>359</td>\n",
       "    </tr>\n",
       "    <tr>\n",
       "      <td>3</td>\n",
       "      <td>Croatia</td>\n",
       "      <td>385</td>\n",
       "    </tr>\n",
       "    <tr>\n",
       "      <td>4</td>\n",
       "      <td>Cyprus</td>\n",
       "      <td>357</td>\n",
       "    </tr>\n",
       "    <tr>\n",
       "      <td>5</td>\n",
       "      <td>Czech Republic</td>\n",
       "      <td>420</td>\n",
       "    </tr>\n",
       "    <tr>\n",
       "      <td>6</td>\n",
       "      <td>Denmark</td>\n",
       "      <td>45</td>\n",
       "    </tr>\n",
       "    <tr>\n",
       "      <td>7</td>\n",
       "      <td>Estonia</td>\n",
       "      <td>372</td>\n",
       "    </tr>\n",
       "    <tr>\n",
       "      <td>8</td>\n",
       "      <td>Finland</td>\n",
       "      <td>358</td>\n",
       "    </tr>\n",
       "    <tr>\n",
       "      <td>9</td>\n",
       "      <td>France</td>\n",
       "      <td>33</td>\n",
       "    </tr>\n",
       "    <tr>\n",
       "      <td>10</td>\n",
       "      <td>Germany</td>\n",
       "      <td>49</td>\n",
       "    </tr>\n",
       "    <tr>\n",
       "      <td>11</td>\n",
       "      <td>Greece</td>\n",
       "      <td>30</td>\n",
       "    </tr>\n",
       "    <tr>\n",
       "      <td>12</td>\n",
       "      <td>Hungary</td>\n",
       "      <td>36</td>\n",
       "    </tr>\n",
       "    <tr>\n",
       "      <td>13</td>\n",
       "      <td>Iceland</td>\n",
       "      <td>354</td>\n",
       "    </tr>\n",
       "    <tr>\n",
       "      <td>14</td>\n",
       "      <td>Ireland</td>\n",
       "      <td>353</td>\n",
       "    </tr>\n",
       "    <tr>\n",
       "      <td>15</td>\n",
       "      <td>Italy</td>\n",
       "      <td>39</td>\n",
       "    </tr>\n",
       "    <tr>\n",
       "      <td>16</td>\n",
       "      <td>Latvia</td>\n",
       "      <td>371</td>\n",
       "    </tr>\n",
       "    <tr>\n",
       "      <td>17</td>\n",
       "      <td>Liechtenstein</td>\n",
       "      <td>423</td>\n",
       "    </tr>\n",
       "    <tr>\n",
       "      <td>18</td>\n",
       "      <td>Lithuania</td>\n",
       "      <td>370</td>\n",
       "    </tr>\n",
       "    <tr>\n",
       "      <td>19</td>\n",
       "      <td>Luxembourg</td>\n",
       "      <td>352</td>\n",
       "    </tr>\n",
       "  </tbody>\n",
       "</table>\n",
       "</div>"
      ],
      "text/plain": [
       "           Country Country calling code\n",
       "0          Austria                   43\n",
       "1          Belgium                   32\n",
       "2         Bulgaria                  359\n",
       "3          Croatia                  385\n",
       "4           Cyprus                  357\n",
       "5   Czech Republic                  420\n",
       "6          Denmark                   45\n",
       "7          Estonia                  372\n",
       "8          Finland                  358\n",
       "9           France                   33\n",
       "10         Germany                   49\n",
       "11          Greece                   30\n",
       "12         Hungary                   36\n",
       "13         Iceland                  354\n",
       "14         Ireland                  353\n",
       "15           Italy                   39\n",
       "16          Latvia                  371\n",
       "17   Liechtenstein                  423\n",
       "18       Lithuania                  370\n",
       "19      Luxembourg                  352"
      ]
     },
     "execution_count": 32,
     "metadata": {},
     "output_type": "execute_result"
    }
   ],
   "source": [
    "import pandas as pd\n",
    "df = pd.read_html('https://en.wikipedia.org/wiki/Telephone_numbers_in_Europe')[1]\n",
    "df = df.iloc[:,:2] # Select single value by row and and column_all rows but only 2 columns are called\n",
    "df.head(20)"
   ]
  },
  {
   "cell_type": "code",
   "execution_count": 41,
   "metadata": {},
   "outputs": [
    {
     "name": "stdin",
     "output_type": "stream",
     "text": [
      "Please enter a country code number 43\n"
     ]
    },
    {
     "name": "stdout",
     "output_type": "stream",
     "text": [
      "Austria\n"
     ]
    }
   ],
   "source": [
    "phone_code = int(input(\"Please enter a country code number\"))\n",
    "# informing to which country the code belongs to by creating a dict of the first 10 entries\n",
    "country_codes = {43:\"Austria\",\n",
    "             32:\"Belgium\",\n",
    "             359:\"Bulgaria\",\n",
    "             385:\"Croatia\",\n",
    "             357:\"Cyprus\",\n",
    "             420:\"Czech Rep\",\n",
    "             45:\"Denmark\",\n",
    "             372:\"Estonia\",\n",
    "             359:\"Finnland\",\n",
    "             33:\"France\",\n",
    "            }\n",
    "# checking if the entered code is in the dictionary\n",
    "if phone_code in country_codes.keys(): #Dictionary holds key : value pair, I call the value by key\n",
    "    print(country_codes[phone_code])\n",
    "else:\n",
    "    print(\"The country code you entered does not exist in Europe\")"
   ]
  },
  {
   "cell_type": "markdown",
   "metadata": {},
   "source": [
    "#### 12) Write a piece of code that reads 6 numbers in a row. Next, show the number of positive values entered. On the next line, print the average of the values to one decimal place. "
   ]
  },
  {
   "cell_type": "code",
   "execution_count": 49,
   "metadata": {},
   "outputs": [
    {
     "name": "stdin",
     "output_type": "stream",
     "text": [
      "Please enter 6 numbers that are seperated by a comma:  3, -5, -2, 7, 8, 4\n"
     ]
    },
    {
     "name": "stdout",
     "output_type": "stream",
     "text": [
      "the amount of positive numbers is 4\n"
     ]
    }
   ],
   "source": [
    "# from geeksforgeeks.org\n",
    "# take multiple inputs in array\n",
    "# input_int_array = [ int(i) for i in input().split()]\n",
    "\n",
    "values = [int(i) for i in input(\"Please enter 6 numbers that are seperated by a comma: \").split(\",\")]\n",
    "counter_pos = 0\n",
    "total = 0\n",
    "for i in values:\n",
    "    total += total\n",
    "    if i > 0:\n",
    "        counter_pos += 1\n",
    "print(\"the amount of positive numbers is\", counter_pos)\n"
   ]
  },
  {
   "cell_type": "markdown",
   "metadata": {},
   "source": [
    "#### 13) Read an integer **N**. Then print the **square of each of the even values**, from 1 to N, including N, if applicable, arranged one per line. "
   ]
  },
  {
   "cell_type": "code",
   "execution_count": 57,
   "metadata": {},
   "outputs": [
    {
     "name": "stdin",
     "output_type": "stream",
     "text": [
      "Please enter a number:  7\n"
     ]
    },
    {
     "name": "stdout",
     "output_type": "stream",
     "text": [
      "uneven number\n",
      "4\n",
      "uneven number\n",
      "16\n",
      "uneven number\n",
      "36\n",
      "uneven number\n"
     ]
    }
   ],
   "source": [
    "N = int(input(\"Please enter a number: \"))\n",
    "for i in range(1, N+1):\n",
    "    if i%2 == 0: #then it would be even\n",
    "        print (i**2)\n",
    "    else:\n",
    "        print(\"uneven number\")\n",
    "        \n",
    "\n",
    "        "
   ]
  },
  {
   "cell_type": "markdown",
   "metadata": {},
   "source": [
    "#### 14) Using **input()**, read an integer and print its classification as **'even / odd'** and **'positive / negative'** . The two classes for the number must be printed on the same line separated by a space. In the case of zero, print only **'null'**. "
   ]
  },
  {
   "cell_type": "code",
   "execution_count": 1,
   "metadata": {},
   "outputs": [
    {
     "name": "stdin",
     "output_type": "stream",
     "text": [
      "Please enter a number:  3\n"
     ]
    },
    {
     "name": "stdout",
     "output_type": "stream",
     "text": [
      "odd positive\n"
     ]
    }
   ],
   "source": [
    "N = int(input(\"Please enter a number: \"))\n",
    "\n",
    "# example on how to use one line code that prints a string\n",
    "# x = \"do nothing\"\n",
    "# print(\"done\") if x == \"do that\" else \"not done\"\n",
    "# output: 'not done'\n",
    "\n",
    "class_1 = \"even\" if N%2 == 0 else \"odd\"\n",
    "class_2 = \"positive\" if N > 0 else \"negative\"\n",
    "\n",
    "if N == 0:\n",
    "    print(\"NULL\")\n",
    "else:\n",
    "    print(class_1, class_2)\n"
   ]
  },
  {
   "cell_type": "code",
   "execution_count": 5,
   "metadata": {},
   "outputs": [
    {
     "data": {
      "text/plain": [
       "'not done'"
      ]
     },
     "execution_count": 5,
     "metadata": {},
     "output_type": "execute_result"
    }
   ],
   "source": [
    "x = \"do nothing\"\n",
    "print(\"done\") if x == \"do that\" else \"not done\""
   ]
  },
  {
   "cell_type": "markdown",
   "metadata": {},
   "source": [
    "## Challenge\n",
    "#### 15) Ordering problems are recurrent in the history of programming. Over time, several algorithms have been developed to fulfill this function. The simplest of these algorithms is the [**Bubble Sort**](https://en.wikipedia.org/wiki/Bubble_sort), which is based on comparisons of elements two by two in a loop of passes through the elements. Your mission, if you decide to accept it, will be to input six whole numbers ramdonly ordered. Then implement the **Bubble Sort** principle to order these six numbers **using only loops and conditionals**.  \n",
    "#### At the end, print the six numbers in ascending order on a single line separated by spaces. "
   ]
  },
  {
   "cell_type": "code",
   "execution_count": 1,
   "metadata": {},
   "outputs": [
    {
     "name": "stdin",
     "output_type": "stream",
     "text": [
      "Please enter 6 integers and seperate by comma:  4, 2, 5, 6, 5, 8\n"
     ]
    },
    {
     "name": "stdout",
     "output_type": "stream",
     "text": [
      "The numbers sorted with Bubble sort are:  None\n"
     ]
    }
   ],
   "source": [
    "#An example of bubble sort. Starting from the beginning of the list, compare every adjacent pair, \n",
    "# swap their position if they are not in the right order (the latter one is smaller than the former one). \n",
    "# After each iteration, one less element (the last one) is needed to be compared until\n",
    "# there are no more elements left to be compared.\n",
    "\n",
    "\n",
    "\n",
    "# ask user to enter 6 integers and assign it to a var\n",
    "nums = [int(i) for i in input(\"Please enter 6 integers and seperate by comma: \").split(\",\")]\n",
    "\n",
    "def bubbleSort(nums):\n",
    "      #use a nested for loop\n",
    "    for i in range(0,len(nums)-1): \n",
    "        if nums[i] > nums[i+1] :\n",
    "            nums[i], nums[i+1] = nums[i+1], nums[i] # tuple swap \n",
    "        \n",
    "print (\"The numbers sorted with Bubble sort are: \", bubbleSort(nums))"
   ]
  }
 ],
 "metadata": {
  "kernelspec": {
   "display_name": "Python 3",
   "language": "python",
   "name": "python3"
  },
  "language_info": {
   "codemirror_mode": {
    "name": "ipython",
    "version": 3
   },
   "file_extension": ".py",
   "mimetype": "text/x-python",
   "name": "python",
   "nbconvert_exporter": "python",
   "pygments_lexer": "ipython3",
   "version": "3.7.4"
  }
 },
 "nbformat": 4,
 "nbformat_minor": 4
}
